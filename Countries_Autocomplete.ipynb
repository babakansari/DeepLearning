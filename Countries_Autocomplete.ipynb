{
  "nbformat": 4,
  "nbformat_minor": 0,
  "metadata": {
    "colab": {
      "name": "Countries_Autocomplete.ipynb",
      "provenance": [],
      "collapsed_sections": [],
      "include_colab_link": true
    },
    "kernelspec": {
      "name": "python3",
      "display_name": "Python 3"
    },
    "accelerator": "GPU"
  },
  "cells": [
    {
      "cell_type": "markdown",
      "metadata": {
        "id": "view-in-github",
        "colab_type": "text"
      },
      "source": [
        "<a href=\"https://colab.research.google.com/github/babakansari/DeepLearning/blob/master/Countries_Autocomplete.ipynb\" target=\"_parent\"><img src=\"https://colab.research.google.com/assets/colab-badge.svg\" alt=\"Open In Colab\"/></a>"
      ]
    },
    {
      "cell_type": "markdown",
      "metadata": {
        "id": "aA6d99otpjvp",
        "colab_type": "text"
      },
      "source": [
        "https://medium.com/@curiousily/making-a-predictive-keyboard-using-recurrent-neural-networks-tensorflow-for-hackers-part-v-3f238d824218"
      ]
    },
    {
      "cell_type": "code",
      "metadata": {
        "id": "SmAV5SrQpjXC",
        "colab_type": "code",
        "colab": {}
      },
      "source": [
        ""
      ],
      "execution_count": 0,
      "outputs": []
    },
    {
      "cell_type": "code",
      "metadata": {
        "id": "vhxkCs_rjzvH",
        "colab_type": "code",
        "outputId": "283e7d61-ccee-49f3-f15d-854803974f8c",
        "colab": {
          "base_uri": "https://localhost:8080/",
          "height": 80
        }
      },
      "source": [
        "import numpy as np\n",
        "np.random.seed(42)\n",
        "import tensorflow as tf\n",
        "tf.set_random_seed(42)\n",
        "from keras.models import Sequential, load_model\n",
        "from keras.layers import Dense, Activation\n",
        "from keras.layers import LSTM, Dropout\n",
        "from keras.layers import TimeDistributed\n",
        "from keras.layers.core import Dense, Activation, Dropout, RepeatVector\n",
        "from keras.optimizers import RMSprop\n",
        "import matplotlib.pyplot as plt\n",
        "import pickle\n",
        "import sys\n",
        "import heapq\n",
        "import seaborn as sns\n",
        "from pylab import rcParams\n",
        "\n",
        "%matplotlib inline\n",
        "\n",
        "sns.set(style='whitegrid', palette='muted', font_scale=1.5)\n",
        "\n",
        "rcParams['figure.figsize'] = 12, 5"
      ],
      "execution_count": 6,
      "outputs": [
        {
          "output_type": "display_data",
          "data": {
            "text/html": [
              "<p style=\"color: red;\">\n",
              "The default version of TensorFlow in Colab will soon switch to TensorFlow 2.x.<br>\n",
              "We recommend you <a href=\"https://www.tensorflow.org/guide/migrate\" target=\"_blank\">upgrade</a> now \n",
              "or ensure your notebook will continue to use TensorFlow 1.x via the <code>%tensorflow_version 1.x</code> magic:\n",
              "<a href=\"https://colab.research.google.com/notebooks/tensorflow_version.ipynb\" target=\"_blank\">more info</a>.</p>\n"
            ],
            "text/plain": [
              "<IPython.core.display.HTML object>"
            ]
          },
          "metadata": {
            "tags": []
          }
        },
        {
          "output_type": "stream",
          "text": [
            "Using TensorFlow backend.\n"
          ],
          "name": "stderr"
        }
      ]
    },
    {
      "cell_type": "code",
      "metadata": {
        "id": "TIb4O1qwnM2e",
        "colab_type": "code",
        "outputId": "79ce7701-10b0-4dc3-f372-621b326864fd",
        "colab": {
          "base_uri": "https://localhost:8080/",
          "height": 419
        }
      },
      "source": [
        "import pandas as pd\n",
        "import io\n",
        "\n",
        "file_name = 'https://github.com/babakansari/DeepLearning/blob/master/Countries.xlsx?raw=true'\n",
        "\n",
        "df = pd.read_excel(file_name)\n",
        "df"
      ],
      "execution_count": 7,
      "outputs": [
        {
          "output_type": "execute_result",
          "data": {
            "text/html": [
              "<div>\n",
              "<style scoped>\n",
              "    .dataframe tbody tr th:only-of-type {\n",
              "        vertical-align: middle;\n",
              "    }\n",
              "\n",
              "    .dataframe tbody tr th {\n",
              "        vertical-align: top;\n",
              "    }\n",
              "\n",
              "    .dataframe thead th {\n",
              "        text-align: right;\n",
              "    }\n",
              "</style>\n",
              "<table border=\"1\" class=\"dataframe\">\n",
              "  <thead>\n",
              "    <tr style=\"text-align: right;\">\n",
              "      <th></th>\n",
              "      <th>Name</th>\n",
              "      <th>Ext</th>\n",
              "    </tr>\n",
              "  </thead>\n",
              "  <tbody>\n",
              "    <tr>\n",
              "      <th>0</th>\n",
              "      <td>Afghanistan (AF)</td>\n",
              "      <td>NaN</td>\n",
              "    </tr>\n",
              "    <tr>\n",
              "      <th>1</th>\n",
              "      <td>Aland Islands (AX)</td>\n",
              "      <td>NaN</td>\n",
              "    </tr>\n",
              "    <tr>\n",
              "      <th>2</th>\n",
              "      <td>Albania (AL)</td>\n",
              "      <td>NaN</td>\n",
              "    </tr>\n",
              "    <tr>\n",
              "      <th>3</th>\n",
              "      <td>Algeria (DZ)</td>\n",
              "      <td>NaN</td>\n",
              "    </tr>\n",
              "    <tr>\n",
              "      <th>4</th>\n",
              "      <td>American Samoa (AS)</td>\n",
              "      <td>NaN</td>\n",
              "    </tr>\n",
              "    <tr>\n",
              "      <th>...</th>\n",
              "      <td>...</td>\n",
              "      <td>...</td>\n",
              "    </tr>\n",
              "    <tr>\n",
              "      <th>254</th>\n",
              "      <td>Wallis and Futuna (WF)</td>\n",
              "      <td>NaN</td>\n",
              "    </tr>\n",
              "    <tr>\n",
              "      <th>255</th>\n",
              "      <td>Western Sahara (EH)</td>\n",
              "      <td>NaN</td>\n",
              "    </tr>\n",
              "    <tr>\n",
              "      <th>256</th>\n",
              "      <td>Yemen (YE)</td>\n",
              "      <td>NaN</td>\n",
              "    </tr>\n",
              "    <tr>\n",
              "      <th>257</th>\n",
              "      <td>Zambia (ZM)</td>\n",
              "      <td>NaN</td>\n",
              "    </tr>\n",
              "    <tr>\n",
              "      <th>258</th>\n",
              "      <td>Zimbabwe (ZW)</td>\n",
              "      <td>NaN</td>\n",
              "    </tr>\n",
              "  </tbody>\n",
              "</table>\n",
              "<p>259 rows × 2 columns</p>\n",
              "</div>"
            ],
            "text/plain": [
              "                       Name  Ext\n",
              "0          Afghanistan (AF)  NaN\n",
              "1        Aland Islands (AX)  NaN\n",
              "2              Albania (AL)  NaN\n",
              "3              Algeria (DZ)  NaN\n",
              "4       American Samoa (AS)  NaN\n",
              "..                      ...  ...\n",
              "254  Wallis and Futuna (WF)  NaN\n",
              "255     Western Sahara (EH)  NaN\n",
              "256              Yemen (YE)  NaN\n",
              "257             Zambia (ZM)  NaN\n",
              "258           Zimbabwe (ZW)  NaN\n",
              "\n",
              "[259 rows x 2 columns]"
            ]
          },
          "metadata": {
            "tags": []
          },
          "execution_count": 7
        }
      ]
    },
    {
      "cell_type": "code",
      "metadata": {
        "id": "5UwY0OGJ8P2l",
        "colab_type": "code",
        "colab": {}
      },
      "source": [
        "text = \"\"\n",
        "for index, row in df.iterrows():\n",
        "  text = text + row['Name'].lower()\n",
        "\n",
        "chars = sorted(list(set(text)))\n",
        "char_indices = dict((c, i) for i, c in enumerate(chars))\n",
        "indices_char = dict((i, c) for i, c in enumerate(chars))"
      ],
      "execution_count": 0,
      "outputs": []
    },
    {
      "cell_type": "code",
      "metadata": {
        "id": "cRjzoq9A-1uQ",
        "colab_type": "code",
        "colab": {
          "base_uri": "https://localhost:8080/",
          "height": 34
        },
        "outputId": "d0f22c15-808c-4e7c-ad74-cebe43d919f3"
      },
      "source": [
        "print(f'unique chars: {len(chars)}')"
      ],
      "execution_count": 22,
      "outputs": [
        {
          "output_type": "stream",
          "text": [
            "unique chars: 34\n"
          ],
          "name": "stdout"
        }
      ]
    },
    {
      "cell_type": "code",
      "metadata": {
        "id": "9g-7_e28Ai-4",
        "colab_type": "code",
        "colab": {
          "base_uri": "https://localhost:8080/",
          "height": 34
        },
        "outputId": "71a77f0b-45cc-4572-a146-a333f4df80c5"
      },
      "source": [
        "SEQUENCE_LENGTH = 3\n",
        "step = 1\n",
        "sentences = []\n",
        "next_chars = []\n",
        "for index, row in df.iterrows():\n",
        "  country = row['Name'].lower()\n",
        "  for i in range(0, len(country) - SEQUENCE_LENGTH, step):\n",
        "    sentences.append(country[i: i + SEQUENCE_LENGTH])\n",
        "    next_chars.append(country[i + SEQUENCE_LENGTH])\n",
        "\n",
        "print(f'num training examples: {len(sentences)}')"
      ],
      "execution_count": 45,
      "outputs": [
        {
          "output_type": "stream",
          "text": [
            "num training examples: 2913\n"
          ],
          "name": "stdout"
        }
      ]
    },
    {
      "cell_type": "code",
      "metadata": {
        "id": "ZNTXzzzeBU4m",
        "colab_type": "code",
        "colab": {
          "base_uri": "https://localhost:8080/",
          "height": 34
        },
        "outputId": "fdae702c-7d4e-4c11-a99a-f51e2f82c453"
      },
      "source": [
        "print(\"After '\" + sentences[0] + \"' is '\" + next_chars[0] + \"' for one sample\")"
      ],
      "execution_count": 44,
      "outputs": [
        {
          "output_type": "stream",
          "text": [
            "After 'afg' is 'h' for one sample\n"
          ],
          "name": "stdout"
        }
      ]
    },
    {
      "cell_type": "code",
      "metadata": {
        "id": "fDbjIk2SClH1",
        "colab_type": "code",
        "colab": {}
      },
      "source": [
        "X = np.zeros((len(sentences), SEQUENCE_LENGTH, len(chars)), dtype=np.bool)\n",
        "y = np.zeros((len(sentences), len(chars)), dtype=np.bool)\n",
        "for i, sentence in enumerate(sentences):\n",
        "    for t, char in enumerate(sentence):\n",
        "        X[i, t, char_indices[char]] = 1\n",
        "    y[i, char_indices[next_chars[i]]] = 1"
      ],
      "execution_count": 0,
      "outputs": []
    },
    {
      "cell_type": "markdown",
      "metadata": {
        "id": "lLLjQKAZEnxy",
        "colab_type": "text"
      },
      "source": [
        "# Model"
      ]
    },
    {
      "cell_type": "code",
      "metadata": {
        "id": "TF5CY6e_DqJn",
        "colab_type": "code",
        "colab": {
          "base_uri": "https://localhost:8080/",
          "height": 255
        },
        "outputId": "263434c2-a487-43b2-d043-6d856d1cd140"
      },
      "source": [
        "model = Sequential()\n",
        "model.add(LSTM(128, input_shape=(SEQUENCE_LENGTH, len(chars))))\n",
        "model.add(Dense(len(chars)))\n",
        "model.add(Activation('softmax'))\n",
        "model.summary()"
      ],
      "execution_count": 55,
      "outputs": [
        {
          "output_type": "stream",
          "text": [
            "Model: \"sequential_2\"\n",
            "_________________________________________________________________\n",
            "Layer (type)                 Output Shape              Param #   \n",
            "=================================================================\n",
            "lstm_2 (LSTM)                (None, 128)               83456     \n",
            "_________________________________________________________________\n",
            "dense_2 (Dense)              (None, 34)                4386      \n",
            "_________________________________________________________________\n",
            "activation_2 (Activation)    (None, 34)                0         \n",
            "=================================================================\n",
            "Total params: 87,842\n",
            "Trainable params: 87,842\n",
            "Non-trainable params: 0\n",
            "_________________________________________________________________\n"
          ],
          "name": "stdout"
        }
      ]
    },
    {
      "cell_type": "markdown",
      "metadata": {
        "id": "KiQ1DMVfEttx",
        "colab_type": "text"
      },
      "source": [
        "# Training"
      ]
    },
    {
      "cell_type": "code",
      "metadata": {
        "id": "zHRIkQyYD5L9",
        "colab_type": "code",
        "colab": {
          "base_uri": "https://localhost:8080/",
          "height": 1000
        },
        "outputId": "81206c85-18a5-45dd-d356-4c376da7b5f7"
      },
      "source": [
        "optimizer = RMSprop(lr=0.01)\n",
        "model.compile(loss='categorical_crossentropy', optimizer=optimizer, metrics=['accuracy'])\n",
        "history = model.fit(X, y, validation_split=0.05, batch_size=128, epochs=20, shuffle=True).history"
      ],
      "execution_count": 56,
      "outputs": [
        {
          "output_type": "stream",
          "text": [
            "WARNING:tensorflow:From /usr/local/lib/python3.6/dist-packages/keras/optimizers.py:793: The name tf.train.Optimizer is deprecated. Please use tf.compat.v1.train.Optimizer instead.\n",
            "\n",
            "WARNING:tensorflow:From /usr/local/lib/python3.6/dist-packages/keras/backend/tensorflow_backend.py:3576: The name tf.log is deprecated. Please use tf.math.log instead.\n",
            "\n",
            "WARNING:tensorflow:From /usr/local/lib/python3.6/dist-packages/tensorflow_core/python/ops/math_grad.py:1424: where (from tensorflow.python.ops.array_ops) is deprecated and will be removed in a future version.\n",
            "Instructions for updating:\n",
            "Use tf.where in 2.0, which has the same broadcast rule as np.where\n",
            "WARNING:tensorflow:From /usr/local/lib/python3.6/dist-packages/keras/backend/tensorflow_backend.py:1033: The name tf.assign_add is deprecated. Please use tf.compat.v1.assign_add instead.\n",
            "\n",
            "WARNING:tensorflow:From /usr/local/lib/python3.6/dist-packages/keras/backend/tensorflow_backend.py:1020: The name tf.assign is deprecated. Please use tf.compat.v1.assign instead.\n",
            "\n",
            "WARNING:tensorflow:From /usr/local/lib/python3.6/dist-packages/keras/backend/tensorflow_backend.py:3005: The name tf.Session is deprecated. Please use tf.compat.v1.Session instead.\n",
            "\n",
            "Train on 2767 samples, validate on 146 samples\n",
            "Epoch 1/20\n",
            "WARNING:tensorflow:From /usr/local/lib/python3.6/dist-packages/keras/backend/tensorflow_backend.py:190: The name tf.get_default_session is deprecated. Please use tf.compat.v1.get_default_session instead.\n",
            "\n",
            "WARNING:tensorflow:From /usr/local/lib/python3.6/dist-packages/keras/backend/tensorflow_backend.py:197: The name tf.ConfigProto is deprecated. Please use tf.compat.v1.ConfigProto instead.\n",
            "\n",
            "WARNING:tensorflow:From /usr/local/lib/python3.6/dist-packages/keras/backend/tensorflow_backend.py:207: The name tf.global_variables is deprecated. Please use tf.compat.v1.global_variables instead.\n",
            "\n",
            "WARNING:tensorflow:From /usr/local/lib/python3.6/dist-packages/keras/backend/tensorflow_backend.py:216: The name tf.is_variable_initialized is deprecated. Please use tf.compat.v1.is_variable_initialized instead.\n",
            "\n",
            "WARNING:tensorflow:From /usr/local/lib/python3.6/dist-packages/keras/backend/tensorflow_backend.py:223: The name tf.variables_initializer is deprecated. Please use tf.compat.v1.variables_initializer instead.\n",
            "\n",
            "2767/2767 [==============================] - 5s 2ms/step - loss: 2.7305 - acc: 0.2548 - val_loss: 2.5685 - val_acc: 0.3630\n",
            "Epoch 2/20\n",
            "2767/2767 [==============================] - 0s 100us/step - loss: 2.3256 - acc: 0.3354 - val_loss: 2.4995 - val_acc: 0.3562\n",
            "Epoch 3/20\n",
            "2767/2767 [==============================] - 0s 97us/step - loss: 2.2171 - acc: 0.3759 - val_loss: 2.4862 - val_acc: 0.3699\n",
            "Epoch 4/20\n",
            "2767/2767 [==============================] - 0s 105us/step - loss: 2.1241 - acc: 0.3921 - val_loss: 2.4875 - val_acc: 0.3562\n",
            "Epoch 5/20\n",
            "2767/2767 [==============================] - 0s 98us/step - loss: 2.0639 - acc: 0.4095 - val_loss: 2.4162 - val_acc: 0.3767\n",
            "Epoch 6/20\n",
            "2767/2767 [==============================] - 0s 101us/step - loss: 1.9991 - acc: 0.4221 - val_loss: 2.4359 - val_acc: 0.3973\n",
            "Epoch 7/20\n",
            "2767/2767 [==============================] - 0s 99us/step - loss: 1.9318 - acc: 0.4384 - val_loss: 2.4144 - val_acc: 0.3904\n",
            "Epoch 8/20\n",
            "2767/2767 [==============================] - 0s 93us/step - loss: 1.8634 - acc: 0.4554 - val_loss: 2.4552 - val_acc: 0.4110\n",
            "Epoch 9/20\n",
            "2767/2767 [==============================] - 0s 96us/step - loss: 1.7973 - acc: 0.4687 - val_loss: 2.6184 - val_acc: 0.4110\n",
            "Epoch 10/20\n",
            "2767/2767 [==============================] - 0s 102us/step - loss: 1.7267 - acc: 0.4857 - val_loss: 2.4653 - val_acc: 0.4041\n",
            "Epoch 11/20\n",
            "2767/2767 [==============================] - 0s 113us/step - loss: 1.6614 - acc: 0.4919 - val_loss: 2.5337 - val_acc: 0.3904\n",
            "Epoch 12/20\n",
            "2767/2767 [==============================] - 0s 99us/step - loss: 1.5958 - acc: 0.5183 - val_loss: 2.7153 - val_acc: 0.4041\n",
            "Epoch 13/20\n",
            "2767/2767 [==============================] - 0s 97us/step - loss: 1.5327 - acc: 0.5208 - val_loss: 2.6842 - val_acc: 0.4041\n",
            "Epoch 14/20\n",
            "2767/2767 [==============================] - 0s 99us/step - loss: 1.4643 - acc: 0.5479 - val_loss: 2.6748 - val_acc: 0.3973\n",
            "Epoch 15/20\n",
            "2767/2767 [==============================] - 0s 106us/step - loss: 1.4058 - acc: 0.5595 - val_loss: 2.8349 - val_acc: 0.3904\n",
            "Epoch 16/20\n",
            "2767/2767 [==============================] - 0s 96us/step - loss: 1.3504 - acc: 0.5725 - val_loss: 2.8673 - val_acc: 0.3699\n",
            "Epoch 17/20\n",
            "2767/2767 [==============================] - 0s 97us/step - loss: 1.2989 - acc: 0.5866 - val_loss: 3.0192 - val_acc: 0.3562\n",
            "Epoch 18/20\n",
            "2767/2767 [==============================] - 0s 104us/step - loss: 1.2632 - acc: 0.5996 - val_loss: 2.8917 - val_acc: 0.3493\n",
            "Epoch 19/20\n",
            "2767/2767 [==============================] - 0s 99us/step - loss: 1.2187 - acc: 0.6191 - val_loss: 3.0317 - val_acc: 0.3562\n",
            "Epoch 20/20\n",
            "2767/2767 [==============================] - 0s 99us/step - loss: 1.1883 - acc: 0.6202 - val_loss: 3.1281 - val_acc: 0.3493\n"
          ],
          "name": "stdout"
        }
      ]
    },
    {
      "cell_type": "markdown",
      "metadata": {
        "id": "5L2Ays9qE-iG",
        "colab_type": "text"
      },
      "source": [
        "## Saving the model"
      ]
    },
    {
      "cell_type": "code",
      "metadata": {
        "id": "CsbeljHnD89N",
        "colab_type": "code",
        "colab": {}
      },
      "source": [
        "model.save('keras_model.h5')\n",
        "pickle.dump(history, open(\"history.p\", \"wb\"))\n",
        "model = load_model('keras_model.h5')\n",
        "history = pickle.load(open(\"history.p\", \"rb\"))"
      ],
      "execution_count": 0,
      "outputs": []
    },
    {
      "cell_type": "markdown",
      "metadata": {
        "id": "tIDXSQoLFJkO",
        "colab_type": "text"
      },
      "source": [
        "## Evaluation"
      ]
    },
    {
      "cell_type": "code",
      "metadata": {
        "id": "a3DAhvb5FGp2",
        "colab_type": "code",
        "colab": {
          "base_uri": "https://localhost:8080/",
          "height": 372
        },
        "outputId": "b7039747-729f-443a-a98c-7d33559994da"
      },
      "source": [
        "plt.plot(history['acc'])\n",
        "plt.plot(history['val_acc'])\n",
        "plt.title('model accuracy')\n",
        "plt.ylabel('accuracy')\n",
        "plt.xlabel('epoch')\n",
        "plt.legend(['train', 'test'], loc='upper left');"
      ],
      "execution_count": 58,
      "outputs": [
        {
          "output_type": "display_data",
          "data": {
            "image/png": "[encoded data removed]",
            "text/plain": [
              "<Figure size 864x360 with 1 Axes>"
            ]
          },
          "metadata": {
            "tags": []
          }
        }
      ]
    },
    {
      "cell_type": "code",
      "metadata": {
        "id": "s-ELdyYOFL_J",
        "colab_type": "code",
        "colab": {
          "base_uri": "https://localhost:8080/",
          "height": 372
        },
        "outputId": "f29c0301-ebbb-4b9b-8d1a-24d6575acdcf"
      },
      "source": [
        "plt.plot(history['loss'])\n",
        "plt.plot(history['val_loss'])\n",
        "plt.title('model loss')\n",
        "plt.ylabel('loss')\n",
        "plt.xlabel('epoch')\n",
        "plt.legend(['train', 'test'], loc='upper left');"
      ],
      "execution_count": 59,
      "outputs": [
        {
          "output_type": "display_data",
          "data": {
            "image/png": "[encoded data removed]",
            "text/plain": [
              "<Figure size 864x360 with 1 Axes>"
            ]
          },
          "metadata": {
            "tags": []
          }
        }
      ]
    },
    {
      "cell_type": "code",
      "metadata": {
        "id": "KODgxbfEFThV",
        "colab_type": "code",
        "colab": {}
      },
      "source": [
        ""
      ],
      "execution_count": 0,
      "outputs": []
    }
  ]
}