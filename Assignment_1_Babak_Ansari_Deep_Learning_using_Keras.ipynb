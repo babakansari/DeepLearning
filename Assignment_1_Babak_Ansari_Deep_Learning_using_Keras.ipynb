{
  "nbformat": 4,
  "nbformat_minor": 0,
  "metadata": {
    "colab": {
      "name": "Assignment 1 - Babak Ansari - Deep Learning using Keras ",
      "provenance": [],
      "collapsed_sections": [],
      "include_colab_link": true
    },
    "kernelspec": {
      "name": "python3",
      "display_name": "Python 3"
    }
  },
  "cells": [
    {
      "cell_type": "markdown",
      "metadata": {
        "id": "view-in-github",
        "colab_type": "text"
      },
      "source": [
        "<a href=\"https://colab.research.google.com/github/babakansari/DeepLearning/blob/master/Assignment_1_Babak_Ansari_Deep_Learning_using_Keras.ipynb\" target=\"_parent\"><img src=\"https://colab.research.google.com/assets/colab-badge.svg\" alt=\"Open In Colab\"/></a>"
      ]
    },
    {
      "cell_type": "markdown",
      "metadata": {
        "id": "1ILo-suNOWXP",
        "colab_type": "text"
      },
      "source": [
        "# Assignment 1 - Babak Ansari-Jaberi"
      ]
    },
    {
      "cell_type": "code",
      "metadata": {
        "id": "FqjAAJ0-7LEt",
        "colab_type": "code",
        "colab": {}
      },
      "source": [
        ""
      ],
      "execution_count": 0,
      "outputs": []
    },
    {
      "cell_type": "markdown",
      "metadata": {
        "id": "xY-ZjajW4I9U",
        "colab_type": "text"
      },
      "source": [
        "  The general conclusion from the experiments in this assignment is that the Model is prone to overfitting for too many Epochs with more neurons and layers.\n",
        "\n",
        "\n",
        "  Generally lower Epochs with more layers and Neurons performs better.\n",
        "  \n",
        "  \n",
        "  Both tanh and MSE seems perform better with lower Epochs"
      ]
    },
    {
      "cell_type": "markdown",
      "metadata": {
        "id": "8w3oM-fvRpFX",
        "colab_type": "text"
      },
      "source": [
        " ## Data Prepration and review"
      ]
    },
    {
      "cell_type": "code",
      "metadata": {
        "id": "aMq-R-cDNbLk",
        "colab_type": "code",
        "outputId": "8f614748-72fe-4258-a1d4-be0a215bd43c",
        "colab": {
          "base_uri": "https://localhost:8080/",
          "height": 69
        }
      },
      "source": [
        "from keras.datasets import imdb\n",
        "\n",
        "(train_data, train_labels), (test_data, test_labels) = imdb.load_data(num_words=10000)"
      ],
      "execution_count": 1,
      "outputs": [
        {
          "output_type": "stream",
          "text": [
            "Using TensorFlow backend.\n"
          ],
          "name": "stderr"
        },
        {
          "output_type": "stream",
          "text": [
            "Downloading data from https://s3.amazonaws.com/text-datasets/imdb.npz\n",
            "17465344/17464789 [==============================] - 1s 0us/step\n"
          ],
          "name": "stdout"
        }
      ]
    },
    {
      "cell_type": "markdown",
      "metadata": {
        "id": "3aIvbgKINqX_",
        "colab_type": "text"
      },
      "source": [
        "View some of the decoded texts:"
      ]
    },
    {
      "cell_type": "code",
      "metadata": {
        "id": "ai34NRECNoiF",
        "colab_type": "code",
        "colab": {
          "base_uri": "https://localhost:8080/",
          "height": 52
        },
        "outputId": "3cf3e60f-a014-4154-8a5c-c69966cb7b03"
      },
      "source": [
        "# word_index is a dictionary mapping words to an integer index\n",
        "word_index = imdb.get_word_index()\n",
        "# We reverse it, mapping integer indices to words\n",
        "reverse_word_index = dict([(value, key) for (key, value) in word_index.items()])"
      ],
      "execution_count": 2,
      "outputs": [
        {
          "output_type": "stream",
          "text": [
            "Downloading data from https://s3.amazonaws.com/text-datasets/imdb_word_index.json\n",
            "1646592/1641221 [==============================] - 1s 0us/step\n"
          ],
          "name": "stdout"
        }
      ]
    },
    {
      "cell_type": "code",
      "metadata": {
        "id": "tBnin22ONzBO",
        "colab_type": "code",
        "colab": {}
      },
      "source": [
        "# Function to show decoded text in a row\n",
        "def decode_sentence(index):\n",
        "  return ' '.join([reverse_word_index.get(i - 3, '?') for i in train_data[index]])"
      ],
      "execution_count": 0,
      "outputs": []
    },
    {
      "cell_type": "code",
      "metadata": {
        "id": "G8FEhExZOAkK",
        "colab_type": "code",
        "colab": {
          "base_uri": "https://localhost:8080/",
          "height": 124
        },
        "outputId": "741d82fc-9aa1-4998-d5cf-1d3e44d6cfc3"
      },
      "source": [
        "# Display 5 of the decoded rows\n",
        "for i in range(5):\n",
        "  print(decode_sentence(i))"
      ],
      "execution_count": 4,
      "outputs": [
        {
          "output_type": "stream",
          "text": [
            "? this film was just brilliant casting location scenery story direction everyone's really suited the part they played and you could just imagine being there robert ? is an amazing actor and now the same being director ? father came from the same scottish island as myself so i loved the fact there was a real connection with this film the witty remarks throughout the film were great it was just brilliant so much that i bought the film as soon as it was released for ? and would recommend it to everyone to watch and the fly fishing was amazing really cried at the end it was so sad and you know what they say if you cry at a film it must have been good and this definitely was also ? to the two little boy's that played the ? of norman and paul they were just brilliant children are often left out of the ? list i think because the stars that play them all grown up are such a big profile for the whole film but these children are amazing and should be praised for what they have done don't you think the whole story was so lovely because it was true and was someone's life after all that was shared with us all\n",
            "? big hair big boobs bad music and a giant safety pin these are the words to best describe this terrible movie i love cheesy horror movies and i've seen hundreds but this had got to be on of the worst ever made the plot is paper thin and ridiculous the acting is an abomination the script is completely laughable the best is the end showdown with the cop and how he worked out who the killer is it's just so damn terribly written the clothes are sickening and funny in equal ? the hair is big lots of boobs ? men wear those cut ? shirts that show off their ? sickening that men actually wore them and the music is just ? trash that plays over and over again in almost every scene there is trashy music boobs and ? taking away bodies and the gym still doesn't close for ? all joking aside this is a truly bad film whose only charm is to look back on the disaster that was the 80's and have a good old laugh at how bad everything was back then\n",
            "? this has to be one of the worst films of the 1990s when my friends i were watching this film being the target audience it was aimed at we just sat watched the first half an hour with our jaws touching the floor at how bad it really was the rest of the time everyone else in the theatre just started talking to each other leaving or generally crying into their popcorn that they actually paid money they had ? working to watch this feeble excuse for a film it must have looked like a great idea on paper but on film it looks like no one in the film has a clue what is going on crap acting crap costumes i can't get across how ? this is to watch save yourself an hour a bit of your life\n",
            "? the ? ? at storytelling the traditional sort many years after the event i can still see in my ? eye an elderly lady my friend's mother retelling the battle of ? she makes the characters come alive her passion is that of an eye witness one to the events on the ? heath a mile or so from where she lives br br of course it happened many years before she was born but you wouldn't guess from the way she tells it the same story is told in bars the length and ? of scotland as i discussed it with a friend one night in ? a local cut in to give his version the discussion continued to closing time br br stories passed down like this become part of our being who doesn't remember the stories our parents told us when we were children they become our invisible world and as we grow older they maybe still serve as inspiration or as an emotional ? fact and fiction blend with ? role models warning stories ? magic and mystery br br my name is ? like my grandfather and his grandfather before him our protagonist introduces himself to us and also introduces the story that stretches back through generations it produces stories within stories stories that evoke the ? wonder of scotland its rugged mountains ? in ? the stuff of legend yet ? is ? in reality this is what gives it its special charm it has a rough beauty and authenticity ? with some of the finest ? singing you will ever hear br br ? ? visits his grandfather in hospital shortly before his death he burns with frustration part of him ? to be in the twenty first century to hang out in ? but he is raised on the western ? among a ? speaking community br br yet there is a deeper conflict within him he ? to know the truth the truth behind his ? ancient stories where does fiction end and he wants to know the truth behind the death of his parents br br he is pulled to make a last ? journey to the ? of one of ? most ? mountains can the truth be told or is it all in stories br br in this story about stories we ? bloody battles ? lovers the ? of old and the sometimes more ? ? of accepted truth in doing so we each connect with ? as he lives the story of his own life br br ? the ? ? is probably the most honest ? and genuinely beautiful film of scotland ever made like ? i got slightly annoyed with the ? of hanging stories on more stories but also like ? i ? this once i saw the ? picture ' forget the box office ? of braveheart and its like you might even ? the ? famous ? of the wicker man to see a film that is true to scotland this one is probably unique if you maybe ? on it deeply enough you might even re ? the power of storytelling and the age old question of whether there are some truths that cannot be told but only experienced\n",
            "? worst mistake of my life br br i picked this movie up at target for 5 because i figured hey it's sandler i can get some cheap laughs i was wrong completely wrong mid way through the film all three of my friends were asleep and i was still suffering worst plot worst script worst movie i have ever seen i wanted to hit my head up against a wall for an hour then i'd stop and you know why because it felt damn good upon bashing my head in i stuck that damn movie in the ? and watched it burn and that felt better than anything else i've ever done it took american psycho army of darkness and kill bill just to get over that crap i hate you sandler for actually going through with this and ruining a whole day of my life\n"
          ],
          "name": "stdout"
        }
      ]
    },
    {
      "cell_type": "markdown",
      "metadata": {
        "id": "gv-r2R-SPAjD",
        "colab_type": "text"
      },
      "source": [
        "Vectorizing the data:"
      ]
    },
    {
      "cell_type": "code",
      "metadata": {
        "id": "wbdnLkO8PETJ",
        "colab_type": "code",
        "colab": {}
      },
      "source": [
        "import numpy as np\n",
        "\n",
        "def vectorize_sequences(sequences, dimension=10000):\n",
        "    # Create an all-zero matrix of shape (len(sequences), dimension)\n",
        "    results = np.zeros((len(sequences), dimension))\n",
        "    for i, sequence in enumerate(sequences):\n",
        "        results[i, sequence] = 1.  # set specific indices of results[i] to 1s\n",
        "    return results\n",
        "\n",
        "# Our vectorized training data\n",
        "x_train = vectorize_sequences(train_data)\n",
        "# Our vectorized test data\n",
        "x_test = vectorize_sequences(test_data)"
      ],
      "execution_count": 0,
      "outputs": []
    },
    {
      "cell_type": "code",
      "metadata": {
        "id": "YGEls-UjRUJA",
        "colab_type": "code",
        "colab": {}
      },
      "source": [
        "# Our vectorized labels\n",
        "y_train = np.asarray(train_labels).astype('float32')\n",
        "y_test = np.asarray(test_labels).astype('float32')"
      ],
      "execution_count": 0,
      "outputs": []
    },
    {
      "cell_type": "markdown",
      "metadata": {
        "id": "PswVnMugRfWn",
        "colab_type": "text"
      },
      "source": [
        "## Building neural network"
      ]
    },
    {
      "cell_type": "markdown",
      "metadata": {
        "id": "gMczn3MFqkef",
        "colab_type": "text"
      },
      "source": [
        "Prepare keras and parameters:"
      ]
    },
    {
      "cell_type": "code",
      "metadata": {
        "id": "DMh1g9qOjjNv",
        "colab_type": "code",
        "colab": {}
      },
      "source": [
        "from keras import models\n",
        "from keras import layers\n",
        "from keras import losses\n",
        "from keras import metrics\n",
        "from keras import optimizers\n",
        "\n",
        "import os\n",
        "os.environ['TF_CPP_MIN_LOG_LEVEL'] = '3'\n",
        "x_val = x_train[:10000]\n",
        "partial_x_train = x_train[10000:]\n",
        "\n",
        "y_val = y_train[:10000]\n",
        "partial_y_train = y_train[10000:]"
      ],
      "execution_count": 0,
      "outputs": []
    },
    {
      "cell_type": "markdown",
      "metadata": {
        "id": "IoXUKSm_qtTc",
        "colab_type": "text"
      },
      "source": [
        "Create a function to plot the \"Training and validation loss\" and \"Training and validation accuracy\""
      ]
    },
    {
      "cell_type": "code",
      "metadata": {
        "id": "lylN43nOqtyc",
        "colab_type": "code",
        "colab": {}
      },
      "source": [
        "\n",
        "import matplotlib.pyplot as plt\n",
        "# dict_keys(['val_loss', 'val_binary_accuracy', 'loss', 'binary_accuracy'])\n",
        "def validation_plot(history):\n",
        "  \n",
        "  history_dict = history.history\n",
        "  history_dict.keys()\n",
        "  binary_accuracy = history.history['binary_accuracy']\n",
        "  \n",
        "  val_binary_accuracy = history.history['val_binary_accuracy']\n",
        "\n",
        "  loss = history.history['loss']\n",
        "  val_loss = history.history['val_loss']\n",
        "\n",
        "  epochs = range(1, len(binary_accuracy) + 1)\n",
        "\n",
        "  # \"bo\" is for \"blue dot\"\n",
        "  plt.plot(epochs, loss, 'bo', label='Training loss')\n",
        "  # b is for \"solid blue line\"\n",
        "  plt.plot(epochs, val_loss, 'b', label='Validation loss')\n",
        "  plt.title('Training and validation loss')\n",
        "  plt.xlabel('Epochs')\n",
        "  plt.ylabel('Loss')\n",
        "  plt.legend()\n",
        "\n",
        "  plt.show()\n",
        "  \n",
        "  plt.clf()   # clear figure\n",
        "  # acc_values = history_dict['acc']\n",
        "  binary_accuracy = history_dict['binary_accuracy']\n",
        "\n",
        "  # val_acc_values = history_dict['val_acc']\n",
        "  val_binary_accuracy = history_dict['val_binary_accuracy']\n",
        "\n",
        "  plt.plot(epochs, binary_accuracy, 'bo', label='Training binary_accuracy')\n",
        "  # plt.plot(epochs, val_acc, 'b', label='Validation binary_accuracy')\n",
        "  plt.plot(epochs, val_binary_accuracy, 'b', label='Validation binary_accuracy')\n",
        "\n",
        "  plt.title('Training and validation accuracy')\n",
        "  plt.xlabel('Epochs')\n",
        "  plt.ylabel('Loss')\n",
        "  plt.legend()\n",
        "\n",
        "  plt.show()"
      ],
      "execution_count": 0,
      "outputs": []
    },
    {
      "cell_type": "markdown",
      "metadata": {
        "id": "C-19LnyYSsK_",
        "colab_type": "text"
      },
      "source": [
        "### **Experiment 1:** Using 1 hidden layers"
      ]
    },
    {
      "cell_type": "code",
      "metadata": {
        "id": "8BBNkz_7RtA1",
        "colab_type": "code",
        "colab": {
          "base_uri": "https://localhost:8080/",
          "height": 263
        },
        "outputId": "632bbada-c7af-408f-abb8-867482d890d5"
      },
      "source": [
        "model1 = models.Sequential()\n",
        "model1.add(layers.Dense(16, activation='relu', input_shape=(10000,)))\n",
        "# model1.add(layers.Dense(16, activation='relu')) # Make it just one hiden layer\n",
        "model1.add(layers.Dense(1, activation='sigmoid'))\n",
        "model1.compile(optimizer=optimizers.RMSprop(lr=0.001),\n",
        "              loss=losses.binary_crossentropy,\n",
        "              metrics=[metrics.binary_accuracy])"
      ],
      "execution_count": 9,
      "outputs": [
        {
          "output_type": "stream",
          "text": [
            "WARNING:tensorflow:From /usr/local/lib/python3.6/dist-packages/keras/backend/tensorflow_backend.py:66: The name tf.get_default_graph is deprecated. Please use tf.compat.v1.get_default_graph instead.\n",
            "\n",
            "WARNING:tensorflow:From /usr/local/lib/python3.6/dist-packages/keras/backend/tensorflow_backend.py:541: The name tf.placeholder is deprecated. Please use tf.compat.v1.placeholder instead.\n",
            "\n",
            "WARNING:tensorflow:From /usr/local/lib/python3.6/dist-packages/keras/backend/tensorflow_backend.py:4432: The name tf.random_uniform is deprecated. Please use tf.random.uniform instead.\n",
            "\n",
            "WARNING:tensorflow:From /usr/local/lib/python3.6/dist-packages/keras/optimizers.py:793: The name tf.train.Optimizer is deprecated. Please use tf.compat.v1.train.Optimizer instead.\n",
            "\n",
            "WARNING:tensorflow:From /usr/local/lib/python3.6/dist-packages/keras/backend/tensorflow_backend.py:3657: The name tf.log is deprecated. Please use tf.math.log instead.\n",
            "\n",
            "WARNING:tensorflow:From /usr/local/lib/python3.6/dist-packages/tensorflow/python/ops/nn_impl.py:180: add_dispatch_support.<locals>.wrapper (from tensorflow.python.ops.array_ops) is deprecated and will be removed in a future version.\n",
            "Instructions for updating:\n",
            "Use tf.where in 2.0, which has the same broadcast rule as np.where\n"
          ],
          "name": "stdout"
        }
      ]
    },
    {
      "cell_type": "markdown",
      "metadata": {
        "id": "lfmZkcToS2ZE",
        "colab_type": "text"
      },
      "source": [
        "**Evaluation Measure :** Code for Validation and Testing Accuracy (one layer)"
      ]
    },
    {
      "cell_type": "code",
      "metadata": {
        "id": "TOGQlDH1S7LT",
        "colab_type": "code",
        "colab": {
          "base_uri": "https://localhost:8080/",
          "height": 228
        },
        "outputId": "54c50fd6-ddf8-4ddd-eaeb-b8060163050d"
      },
      "source": [
        "\n",
        "h1 = model1.fit(partial_x_train,\n",
        "                    partial_y_train,\n",
        "                    epochs=4,\n",
        "                    batch_size=512,\n",
        "                    validation_data=(x_val, y_val))"
      ],
      "execution_count": 10,
      "outputs": [
        {
          "output_type": "stream",
          "text": [
            "WARNING:tensorflow:From /usr/local/lib/python3.6/dist-packages/keras/backend/tensorflow_backend.py:1033: The name tf.assign_add is deprecated. Please use tf.compat.v1.assign_add instead.\n",
            "\n",
            "Train on 15000 samples, validate on 10000 samples\n",
            "Epoch 1/4\n",
            "15000/15000 [==============================] - 3s 194us/step - loss: 0.5180 - binary_accuracy: 0.7808 - val_loss: 0.3958 - val_binary_accuracy: 0.8722\n",
            "Epoch 2/4\n",
            "15000/15000 [==============================] - 2s 146us/step - loss: 0.3217 - binary_accuracy: 0.9052 - val_loss: 0.3255 - val_binary_accuracy: 0.8803\n",
            "Epoch 3/4\n",
            "15000/15000 [==============================] - 2s 146us/step - loss: 0.2457 - binary_accuracy: 0.9254 - val_loss: 0.2909 - val_binary_accuracy: 0.8901\n",
            "Epoch 4/4\n",
            "15000/15000 [==============================] - 2s 142us/step - loss: 0.2020 - binary_accuracy: 0.9389 - val_loss: 0.2874 - val_binary_accuracy: 0.8856\n"
          ],
          "name": "stdout"
        }
      ]
    },
    {
      "cell_type": "markdown",
      "metadata": {
        "id": "2TRELMcgkgTP",
        "colab_type": "text"
      },
      "source": [
        "### Experiment 1: Using 3 hidden layers"
      ]
    },
    {
      "cell_type": "code",
      "metadata": {
        "id": "1RvCTFsQlWXB",
        "colab_type": "code",
        "colab": {}
      },
      "source": [
        "model2 = models.Sequential()\n",
        "model2.add(layers.Dense(16, activation='relu', input_shape=(10000,)))\n",
        "model2.add(layers.Dense(16, activation='relu')) \n",
        "model2.add(layers.Dense(16, activation='relu')) # Add one more layer to make it three\n",
        "model2.add(layers.Dense(1, activation='sigmoid'))\n",
        "model2.compile(optimizer=optimizers.RMSprop(lr=0.001),\n",
        "              loss=losses.binary_crossentropy,\n",
        "              metrics=[metrics.binary_accuracy])"
      ],
      "execution_count": 0,
      "outputs": []
    },
    {
      "cell_type": "markdown",
      "metadata": {
        "id": "Y2Nyi3UgodjU",
        "colab_type": "text"
      },
      "source": [
        "**Evaluation Measure :** Code for Validation and Testing Accuracy (three layer)"
      ]
    },
    {
      "cell_type": "code",
      "metadata": {
        "id": "TkonOgQIluIV",
        "colab_type": "code",
        "colab": {
          "base_uri": "https://localhost:8080/",
          "height": 173
        },
        "outputId": "45e00297-2e2d-4dec-e78c-47b8514fd031"
      },
      "source": [
        "\n",
        "h2 = model2.fit(partial_x_train,\n",
        "                    partial_y_train,\n",
        "                    epochs=4,\n",
        "                    batch_size=512,\n",
        "                    validation_data=(x_val, y_val))"
      ],
      "execution_count": 12,
      "outputs": [
        {
          "output_type": "stream",
          "text": [
            "Train on 15000 samples, validate on 10000 samples\n",
            "Epoch 1/4\n",
            "15000/15000 [==============================] - 2s 165us/step - loss: 0.5696 - binary_accuracy: 0.7327 - val_loss: 0.4372 - val_binary_accuracy: 0.8680\n",
            "Epoch 2/4\n",
            "15000/15000 [==============================] - 2s 141us/step - loss: 0.3449 - binary_accuracy: 0.8936 - val_loss: 0.3506 - val_binary_accuracy: 0.8630\n",
            "Epoch 3/4\n",
            "15000/15000 [==============================] - 2s 145us/step - loss: 0.2429 - binary_accuracy: 0.9235 - val_loss: 0.2851 - val_binary_accuracy: 0.8925\n",
            "Epoch 4/4\n",
            "15000/15000 [==============================] - 2s 144us/step - loss: 0.1828 - binary_accuracy: 0.9452 - val_loss: 0.2813 - val_binary_accuracy: 0.8876\n"
          ],
          "name": "stdout"
        }
      ]
    },
    {
      "cell_type": "code",
      "metadata": {
        "id": "n24yvp6Rx0zp",
        "colab_type": "code",
        "colab": {
          "base_uri": "https://localhost:8080/",
          "height": 1000
        },
        "outputId": "af0fc0e8-fc46-432e-8ea7-db5b1e48464f"
      },
      "source": [
        "print(\"One Layer validation\")\n",
        "validation_plot(h1)\n",
        "\n",
        "print(\"Three Layers validation\")\n",
        "validation_plot(h2)\n",
        "\n"
      ],
      "execution_count": 13,
      "outputs": [
        {
          "output_type": "stream",
          "text": [
            "One Layer validation\n"
          ],
          "name": "stdout"
        },
        {
          "output_type": "display_data",
          "data": {
            "image/png": "[encoded data removed]",
            "text/plain": [
              "<Figure size 432x288 with 1 Axes>"
            ]
          },
          "metadata": {
            "tags": []
          }
        },
        {
          "output_type": "display_data",
          "data": {
            "image/png": "[encoded data removed]",
            "text/plain": [
              "<Figure size 432x288 with 1 Axes>"
            ]
          },
          "metadata": {
            "tags": []
          }
        },
        {
          "output_type": "stream",
          "text": [
            "Three Layers validation\n"
          ],
          "name": "stdout"
        },
        {
          "output_type": "display_data",
          "data": {
            "image/png": "[encoded data removed]",
            "text/plain": [
              "<Figure size 432x288 with 1 Axes>"
            ]
          },
          "metadata": {
            "tags": []
          }
        },
        {
          "output_type": "display_data",
          "data": {
            "image/png": "[encoded data removed]",
            "text/plain": [
              "<Figure size 432x288 with 1 Axes>"
            ]
          },
          "metadata": {
            "tags": []
          }
        }
      ]
    },
    {
      "cell_type": "markdown",
      "metadata": {
        "id": "mM8-ERwDnEGO",
        "colab_type": "text"
      },
      "source": [
        "**Conclusion #1:**\n",
        "\n",
        "Following is the result from my executions: \n",
        "\n",
        "*20 Epochs*\n",
        "\n",
        "\n",
        "  The model seems overfitting when number of layes are increased.\n",
        "  \n",
        "  The training loss is decreasing while validation loss is increasing in three layers. Also, training accuracy is almost not changing while validation accuracy is decreasing.\n",
        "  \n",
        "\n",
        "*   (1 Layer) loss: 0.0236 - binary_accuracy: 0.9976 - val_loss: 0.4639 - val_binary_accuracy: 0.8712\n",
        "*   (3 Layers) loss: 0.0092 - binary_accuracy: 0.9971 - val_loss: 0.7938 - val_binary_accuracy: 0.8587\n",
        "\n",
        "\n",
        "*4 Epochs*\n",
        "\n",
        "\n",
        "  The model performs better when number of layers are increased.\n",
        "\n",
        "\n",
        "*   (1 Layer) loss: 0.2020 - binary_accuracy: 0.9389 - val_loss: 0.2874 - val_binary_accuracy: 0.8856\n",
        "*   (3 Layers) loss: 0.1828 - binary_accuracy: 0.9452 - val_loss: 0.2813 - val_binary_accuracy: 0.8876\n",
        "\n",
        "\n",
        "\n"
      ]
    },
    {
      "cell_type": "markdown",
      "metadata": {
        "id": "bpQH6tGhOf1i",
        "colab_type": "text"
      },
      "source": [
        "\n",
        "\n",
        "---\n",
        "\n"
      ]
    },
    {
      "cell_type": "markdown",
      "metadata": {
        "id": "pmrrwUmU9bWt",
        "colab_type": "text"
      },
      "source": [
        "**Experiment 2:** Using more Hidden Units from 16 to 32 in one hidden layer"
      ]
    },
    {
      "cell_type": "code",
      "metadata": {
        "id": "wJETOHOSRO9D",
        "colab_type": "code",
        "colab": {}
      },
      "source": [
        "model3 = models.Sequential()\n",
        "model3.add(layers.Dense(64, activation='relu', input_shape=(10000,)))\n",
        "model3.add(layers.Dense(1, activation='sigmoid'))\n",
        "model3.compile(optimizer=optimizers.RMSprop(lr=0.001),\n",
        "              loss=losses.binary_crossentropy,\n",
        "              metrics=[metrics.binary_accuracy])"
      ],
      "execution_count": 0,
      "outputs": []
    },
    {
      "cell_type": "markdown",
      "metadata": {
        "id": "lV85EUFMBU6n",
        "colab_type": "text"
      },
      "source": [
        "**Evaluation Measure :** Code for Validation and Testing Accuracy (one layer 32 units)"
      ]
    },
    {
      "cell_type": "code",
      "metadata": {
        "id": "RdBYsfXcRPKn",
        "colab_type": "code",
        "colab": {
          "base_uri": "https://localhost:8080/",
          "height": 173
        },
        "outputId": "4b065869-6539-46ab-b21c-749f80979141"
      },
      "source": [
        "\n",
        "h3 = model3.fit(partial_x_train,\n",
        "                    partial_y_train,\n",
        "                    epochs=4,\n",
        "                    batch_size=512,\n",
        "                    validation_data=(x_val, y_val))"
      ],
      "execution_count": 17,
      "outputs": [
        {
          "output_type": "stream",
          "text": [
            "Train on 15000 samples, validate on 10000 samples\n",
            "Epoch 1/4\n",
            "15000/15000 [==============================] - 3s 200us/step - loss: 0.4717 - binary_accuracy: 0.7907 - val_loss: 0.3363 - val_binary_accuracy: 0.8793\n",
            "Epoch 2/4\n",
            "15000/15000 [==============================] - 3s 173us/step - loss: 0.2608 - binary_accuracy: 0.9118 - val_loss: 0.2891 - val_binary_accuracy: 0.8895\n",
            "Epoch 3/4\n",
            "15000/15000 [==============================] - 3s 184us/step - loss: 0.1975 - binary_accuracy: 0.9339 - val_loss: 0.2754 - val_binary_accuracy: 0.8903\n",
            "Epoch 4/4\n",
            "15000/15000 [==============================] - 3s 180us/step - loss: 0.1598 - binary_accuracy: 0.9471 - val_loss: 0.2989 - val_binary_accuracy: 0.8820\n"
          ],
          "name": "stdout"
        }
      ]
    },
    {
      "cell_type": "code",
      "metadata": {
        "id": "lWAgQ-0JBlc6",
        "colab_type": "code",
        "colab": {
          "base_uri": "https://localhost:8080/",
          "height": 590
        },
        "outputId": "eb9350e5-1f47-442e-9b16-114eadef3120"
      },
      "source": [
        "print(\"One Layer validation with 32 units\")\n",
        "validation_plot(h3)\n",
        "\n"
      ],
      "execution_count": 18,
      "outputs": [
        {
          "output_type": "stream",
          "text": [
            "One Layer validation with 32 units\n"
          ],
          "name": "stdout"
        },
        {
          "output_type": "display_data",
          "data": {
            "image/png": "[encoded data removed]",
            "text/plain": [
              "<Figure size 432x288 with 1 Axes>"
            ]
          },
          "metadata": {
            "tags": []
          }
        },
        {
          "output_type": "display_data",
          "data": {
            "image/png": "[encoded data removed]",
            "text/plain": [
              "<Figure size 432x288 with 1 Axes>"
            ]
          },
          "metadata": {
            "tags": []
          }
        }
      ]
    },
    {
      "cell_type": "markdown",
      "metadata": {
        "id": "yzAnHoNsCc4c",
        "colab_type": "text"
      },
      "source": [
        "**Conclusion #2:**\n",
        "\n",
        " Following is the result from my executions:\n",
        "\n",
        "*20 Epochs:*\n",
        "\n",
        "  The model seems overfitting when number of units are increased.\n",
        "\n",
        "  The training loss is decreasing while validation loss is increasing in more layers. Also, training accuracy is increasing while validation accuracy is decreasing.\n",
        "\n",
        "\n",
        "\n",
        "*   (16 units) loss: 0.0236 - binary_accuracy: 0.9976 - val_loss: 0.4639 - val_binary_accuracy: 0.8712\n",
        "*   (32 units) loss: 0.0132 - binary_accuracy: 0.9992 - val_loss: 0.5562 - val_binary_accuracy: 0.8677\n",
        "\n",
        "\n",
        "*4 Epochs:*\n",
        "\n",
        "\n",
        "  The model perform better with more neurons. Both loss get lower and accuracy get higher with higher number of hiden units.\n",
        "\n",
        "*   (16 units) loss: 0.2020 - binary_accuracy: 0.9389 - val_loss: 0.2874 - val_binary_accuracy: 0.8856\n",
        "*   (32 units) loss: 0.1598 - binary_accuracy: 0.9471 - val_loss: 0.2989 - val_binary_accuracy: 0.8820\n",
        "\n",
        "\n",
        "    \n",
        "    \n",
        "    "
      ]
    },
    {
      "cell_type": "markdown",
      "metadata": {
        "id": "LvEMXAGOGvNX",
        "colab_type": "text"
      },
      "source": [
        "--------"
      ]
    },
    {
      "cell_type": "markdown",
      "metadata": {
        "id": "2HfibBOoG0zF",
        "colab_type": "text"
      },
      "source": [
        "**Experiment 3:** Using MSE instead of binary_crossentropy with one layer 16 hidden units"
      ]
    },
    {
      "cell_type": "code",
      "metadata": {
        "id": "e5q4wgQYHN7W",
        "colab_type": "code",
        "colab": {}
      },
      "source": [
        "model4 = models.Sequential()\n",
        "model4.add(layers.Dense(16, activation='relu', input_shape=(10000,)))\n",
        "model4.add(layers.Dense(1, activation='sigmoid'))\n",
        "model4.compile(optimizer=optimizers.RMSprop(lr=0.001),\n",
        "              loss=losses.MSE,\n",
        "              metrics=[metrics.binary_accuracy])"
      ],
      "execution_count": 0,
      "outputs": []
    },
    {
      "cell_type": "markdown",
      "metadata": {
        "id": "XgRH7hC4Gz92",
        "colab_type": "text"
      },
      "source": [
        "**Evaluation Measure :** Code for Validation and Testing Accuracy (one layer 16 units - MSE)"
      ]
    },
    {
      "cell_type": "code",
      "metadata": {
        "id": "pWl5HL3FH3Kk",
        "colab_type": "code",
        "colab": {
          "base_uri": "https://localhost:8080/",
          "height": 173
        },
        "outputId": "301893b5-8345-4760-ac10-b85fd2ac2b3b"
      },
      "source": [
        "h4 = model4.fit(partial_x_train,\n",
        "                    partial_y_train,\n",
        "                    epochs=4,\n",
        "                    batch_size=512,\n",
        "                    validation_data=(x_val, y_val))"
      ],
      "execution_count": 20,
      "outputs": [
        {
          "output_type": "stream",
          "text": [
            "Train on 15000 samples, validate on 10000 samples\n",
            "Epoch 1/4\n",
            "15000/15000 [==============================] - 3s 190us/step - loss: 0.1657 - binary_accuracy: 0.7841 - val_loss: 0.1201 - val_binary_accuracy: 0.8763\n",
            "Epoch 2/4\n",
            "15000/15000 [==============================] - 2s 134us/step - loss: 0.0948 - binary_accuracy: 0.9072 - val_loss: 0.0974 - val_binary_accuracy: 0.8874\n",
            "Epoch 3/4\n",
            "15000/15000 [==============================] - 2s 136us/step - loss: 0.0708 - binary_accuracy: 0.9292 - val_loss: 0.0894 - val_binary_accuracy: 0.8890\n",
            "Epoch 4/4\n",
            "15000/15000 [==============================] - 2s 135us/step - loss: 0.0573 - binary_accuracy: 0.9425 - val_loss: 0.0859 - val_binary_accuracy: 0.8889\n"
          ],
          "name": "stdout"
        }
      ]
    },
    {
      "cell_type": "code",
      "metadata": {
        "id": "02XPDq4kH4u-",
        "colab_type": "code",
        "colab": {
          "base_uri": "https://localhost:8080/",
          "height": 590
        },
        "outputId": "40f283bd-834b-4829-c3c7-73c4e27d2eb6"
      },
      "source": [
        "print(\"One Layer validation with 16 units and MSE\")\n",
        "validation_plot(h4)"
      ],
      "execution_count": 21,
      "outputs": [
        {
          "output_type": "stream",
          "text": [
            "One Layer validation with 16 units and MSE\n"
          ],
          "name": "stdout"
        },
        {
          "output_type": "display_data",
          "data": {
            "image/png": "[encoded data removed]",
            "text/plain": [
              "<Figure size 432x288 with 1 Axes>"
            ]
          },
          "metadata": {
            "tags": []
          }
        },
        {
          "output_type": "display_data",
          "data": {
            "image/png": "[encoded data removed]",
            "text/plain": [
              "<Figure size 432x288 with 1 Axes>"
            ]
          },
          "metadata": {
            "tags": []
          }
        }
      ]
    },
    {
      "cell_type": "markdown",
      "metadata": {
        "id": "MpEZjs-ibCmT",
        "colab_type": "text"
      },
      "source": [
        "**Conclusion #3:**\n",
        "\n",
        "Following is the result from my executions:\n",
        "\n",
        "*20 Epochs*\n",
        "\n",
        "  The model seems perform better on MSE.\n",
        "\n",
        "  The training loss and validation both are decreasing on MSE. But, training accuracy and validation accuracy are almost the same.\n",
        "\n",
        "    \n",
        "    (binary_crossentropy) loss: 0.0236 - binary_accuracy: 0.9976 - val_loss: 0.4639 - val_binary_accuracy: 0.8712\n",
        "    (MSE) loss: 0.0070 - binary_accuracy: 0.9957 - val_loss: 0.1017 - val_binary_accuracy: 0.8699\n",
        "    \n",
        "    \n",
        "*4 Epochs*\n",
        "\n",
        "\n",
        "  The model performs better for MSE.\n",
        "\n",
        "\n",
        "*   (binary_crossentropy) loss: 0.2020 - binary_accuracy: 0.9389 - val_loss: 0.2874 - val_binary_accuracy: 0.8856\n",
        "*   (MSE) loss: 0.0573 - binary_accuracy: 0.9425 - val_loss: 0.0859 - val_binary_accuracy: 0.8889\n",
        "\n"
      ]
    },
    {
      "cell_type": "markdown",
      "metadata": {
        "id": "i0X3e-J-bDE_",
        "colab_type": "text"
      },
      "source": [
        "----"
      ]
    },
    {
      "cell_type": "markdown",
      "metadata": {
        "id": "YtYu8w8CcCiY",
        "colab_type": "text"
      },
      "source": [
        "**Experiment 4:** Using tanh activation instead of relu with one layer 16 hidden units"
      ]
    },
    {
      "cell_type": "code",
      "metadata": {
        "id": "AWo3dBxPbD3w",
        "colab_type": "code",
        "colab": {}
      },
      "source": [
        "model5 = models.Sequential()\n",
        "model5.add(layers.Dense(16, activation='tanh', input_shape=(10000,)))\n",
        "model5.add(layers.Dense(1, activation='sigmoid'))\n",
        "model5.compile(optimizer=optimizers.RMSprop(lr=0.001),\n",
        "              loss=losses.MSE,\n",
        "              metrics=[metrics.binary_accuracy])"
      ],
      "execution_count": 0,
      "outputs": []
    },
    {
      "cell_type": "markdown",
      "metadata": {
        "id": "YZyZr1mQcIpY",
        "colab_type": "text"
      },
      "source": [
        "**Evaluation Measure :** Code for Validation and Testing Accuracy (one layer 16 units - tanh)"
      ]
    },
    {
      "cell_type": "code",
      "metadata": {
        "id": "3DXSfe1zcRFI",
        "colab_type": "code",
        "colab": {
          "base_uri": "https://localhost:8080/",
          "height": 173
        },
        "outputId": "ec099eb1-457a-4a5a-92c0-ab439df99000"
      },
      "source": [
        "h5 = model4.fit(partial_x_train,\n",
        "                    partial_y_train,\n",
        "                    epochs=4,\n",
        "                    batch_size=512,\n",
        "                    validation_data=(x_val, y_val))"
      ],
      "execution_count": 23,
      "outputs": [
        {
          "output_type": "stream",
          "text": [
            "Train on 15000 samples, validate on 10000 samples\n",
            "Epoch 1/4\n",
            "15000/15000 [==============================] - 3s 170us/step - loss: 0.0475 - binary_accuracy: 0.9531 - val_loss: 0.0849 - val_binary_accuracy: 0.8884\n",
            "Epoch 2/4\n",
            "15000/15000 [==============================] - 2s 141us/step - loss: 0.0410 - binary_accuracy: 0.9617 - val_loss: 0.0843 - val_binary_accuracy: 0.8874\n",
            "Epoch 3/4\n",
            "15000/15000 [==============================] - 2s 141us/step - loss: 0.0349 - binary_accuracy: 0.9688 - val_loss: 0.0848 - val_binary_accuracy: 0.8862\n",
            "Epoch 4/4\n",
            "15000/15000 [==============================] - 2s 141us/step - loss: 0.0303 - binary_accuracy: 0.9739 - val_loss: 0.0857 - val_binary_accuracy: 0.8831\n"
          ],
          "name": "stdout"
        }
      ]
    },
    {
      "cell_type": "code",
      "metadata": {
        "id": "q_iKFEbpds-F",
        "colab_type": "code",
        "colab": {
          "base_uri": "https://localhost:8080/",
          "height": 590
        },
        "outputId": "8e43b826-68e8-42f2-9801-9a0de29d0de7"
      },
      "source": [
        "print(\"One Layer validation with 16 units and MSE\")\n",
        "validation_plot(h4)"
      ],
      "execution_count": 24,
      "outputs": [
        {
          "output_type": "stream",
          "text": [
            "One Layer validation with 16 units and MSE\n"
          ],
          "name": "stdout"
        },
        {
          "output_type": "display_data",
          "data": {
            "image/png": "[encoded data removed]",
            "text/plain": [
              "<Figure size 432x288 with 1 Axes>"
            ]
          },
          "metadata": {
            "tags": []
          }
        },
        {
          "output_type": "display_data",
          "data": {
            "image/png": "[encoded data removed]",
            "text/plain": [
              "<Figure size 432x288 with 1 Axes>"
            ]
          },
          "metadata": {
            "tags": []
          }
        }
      ]
    },
    {
      "cell_type": "markdown",
      "metadata": {
        "id": "S-zg_W4HeA6d",
        "colab_type": "text"
      },
      "source": [
        "**Conclusion #4:**\n",
        " \n",
        " \n",
        " Following is the result from my executions:\n",
        " \n",
        "*20 Epochs*\n",
        " \n",
        "  The model seems berform better on tanh.\n",
        "\n",
        "  The training loss and validation both are decreasing on MSE. But, training accuracy accuracy are almost the same, validation accuracy is decreased.\n",
        "\n",
        "    \n",
        "    (relu) loss: 0.0236 - binary_accuracy: 0.9976 - val_loss: 0.4639 - val_binary_accuracy: 0.8712\n",
        "    (tanh) loss: 0.0017 - binary_accuracy: 0.9984 - val_loss: 0.1214 - val_binary_accuracy: 0.8579\n",
        "    \n",
        "    \n",
        "*4 Epochs*\n",
        "\n",
        "\n",
        "  The model performs better for tanh.\n",
        "\n",
        "\n",
        "*   (relu) loss: 0.2020 - binary_accuracy: 0.9389 - val_loss: 0.2874 - val_binary_accuracy: 0.8856\n",
        "*   (tanh) loss: 0.0303 - binary_accuracy: 0.9739 - val_loss: 0.0857 - val_binary_accuracy: 0.8831"
      ]
    },
    {
      "cell_type": "code",
      "metadata": {
        "id": "Yih2HY_Ld73_",
        "colab_type": "code",
        "colab": {}
      },
      "source": [
        ""
      ],
      "execution_count": 0,
      "outputs": []
    }
  ]
}