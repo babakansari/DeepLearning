{
  "nbformat": 4,
  "nbformat_minor": 0,
  "metadata": {
    "colab": {
      "name": "Assignment 1 - Babak Ansari - Deep Learning using Keras ",
      "provenance": [],
      "collapsed_sections": [],
      "include_colab_link": true
    },
    "kernelspec": {
      "name": "python3",
      "display_name": "Python 3"
    }
  },
  "cells": [
    {
      "cell_type": "markdown",
      "metadata": {
        "id": "view-in-github",
        "colab_type": "text"
      },
      "source": [
        "<a href=\"https://colab.research.google.com/github/babakansari/DeepLearning/blob/master/Assignment_1_Babak_Ansari_Deep_Learning_using_Keras.ipynb\" target=\"_parent\"><img src=\"https://colab.research.google.com/assets/colab-badge.svg\" alt=\"Open In Colab\"/></a>"
      ]
    },
    {
      "cell_type": "markdown",
      "metadata": {
        "id": "1ILo-suNOWXP",
        "colab_type": "text"
      },
      "source": [
        "# Assignment 1 - Babak Ansari-Jaberi"
      ]
    },
    {
      "cell_type": "markdown",
      "metadata": {
        "id": "8w3oM-fvRpFX",
        "colab_type": "text"
      },
      "source": [
        " ## Data Prepration and review"
      ]
    },
    {
      "cell_type": "code",
      "metadata": {
        "id": "aMq-R-cDNbLk",
        "colab_type": "code",
        "colab": {}
      },
      "source": [
        "from keras.datasets import imdb\n",
        "\n",
        "(train_data, train_labels), (test_data, test_labels) = imdb.load_data(num_words=10000)"
      ],
      "execution_count": 0,
      "outputs": []
    },
    {
      "cell_type": "markdown",
      "metadata": {
        "id": "3aIvbgKINqX_",
        "colab_type": "text"
      },
      "source": [
        "View some of the decoded texts:"
      ]
    },
    {
      "cell_type": "code",
      "metadata": {
        "id": "ai34NRECNoiF",
        "colab_type": "code",
        "colab": {}
      },
      "source": [
        "# word_index is a dictionary mapping words to an integer index\n",
        "word_index = imdb.get_word_index()\n",
        "# We reverse it, mapping integer indices to words\n",
        "reverse_word_index = dict([(value, key) for (key, value) in word_index.items()])"
      ],
      "execution_count": 0,
      "outputs": []
    },
    {
      "cell_type": "code",
      "metadata": {
        "id": "tBnin22ONzBO",
        "colab_type": "code",
        "colab": {}
      },
      "source": [
        "# Function to show decoded text in a row\n",
        "def decode_sentence(index):\n",
        "  return ' '.join([reverse_word_index.get(i - 3, '?') for i in train_data[index]])"
      ],
      "execution_count": 0,
      "outputs": []
    },
    {
      "cell_type": "code",
      "metadata": {
        "id": "G8FEhExZOAkK",
        "colab_type": "code",
        "colab": {
          "base_uri": "https://localhost:8080/",
          "height": 124
        },
        "outputId": "6b2ba6eb-5cb8-44a5-a368-c545bff2491c"
      },
      "source": [
        "# Display 5 of the decoded rows\n",
        "for i in range(5):\n",
        "  print(decode_sentence(i))"
      ],
      "execution_count": 57,
      "outputs": [
        {
          "output_type": "stream",
          "text": [
            "? this film was just brilliant casting location scenery story direction everyone's really suited the part they played and you could just imagine being there robert ? is an amazing actor and now the same being director ? father came from the same scottish island as myself so i loved the fact there was a real connection with this film the witty remarks throughout the film were great it was just brilliant so much that i bought the film as soon as it was released for ? and would recommend it to everyone to watch and the fly fishing was amazing really cried at the end it was so sad and you know what they say if you cry at a film it must have been good and this definitely was also ? to the two little boy's that played the ? of norman and paul they were just brilliant children are often left out of the ? list i think because the stars that play them all grown up are such a big profile for the whole film but these children are amazing and should be praised for what they have done don't you think the whole story was so lovely because it was true and was someone's life after all that was shared with us all\n",
            "? big hair big boobs bad music and a giant safety pin these are the words to best describe this terrible movie i love cheesy horror movies and i've seen hundreds but this had got to be on of the worst ever made the plot is paper thin and ridiculous the acting is an abomination the script is completely laughable the best is the end showdown with the cop and how he worked out who the killer is it's just so damn terribly written the clothes are sickening and funny in equal ? the hair is big lots of boobs ? men wear those cut ? shirts that show off their ? sickening that men actually wore them and the music is just ? trash that plays over and over again in almost every scene there is trashy music boobs and ? taking away bodies and the gym still doesn't close for ? all joking aside this is a truly bad film whose only charm is to look back on the disaster that was the 80's and have a good old laugh at how bad everything was back then\n",
            "? this has to be one of the worst films of the 1990s when my friends i were watching this film being the target audience it was aimed at we just sat watched the first half an hour with our jaws touching the floor at how bad it really was the rest of the time everyone else in the theatre just started talking to each other leaving or generally crying into their popcorn that they actually paid money they had ? working to watch this feeble excuse for a film it must have looked like a great idea on paper but on film it looks like no one in the film has a clue what is going on crap acting crap costumes i can't get across how ? this is to watch save yourself an hour a bit of your life\n",
            "? the ? ? at storytelling the traditional sort many years after the event i can still see in my ? eye an elderly lady my friend's mother retelling the battle of ? she makes the characters come alive her passion is that of an eye witness one to the events on the ? heath a mile or so from where she lives br br of course it happened many years before she was born but you wouldn't guess from the way she tells it the same story is told in bars the length and ? of scotland as i discussed it with a friend one night in ? a local cut in to give his version the discussion continued to closing time br br stories passed down like this become part of our being who doesn't remember the stories our parents told us when we were children they become our invisible world and as we grow older they maybe still serve as inspiration or as an emotional ? fact and fiction blend with ? role models warning stories ? magic and mystery br br my name is ? like my grandfather and his grandfather before him our protagonist introduces himself to us and also introduces the story that stretches back through generations it produces stories within stories stories that evoke the ? wonder of scotland its rugged mountains ? in ? the stuff of legend yet ? is ? in reality this is what gives it its special charm it has a rough beauty and authenticity ? with some of the finest ? singing you will ever hear br br ? ? visits his grandfather in hospital shortly before his death he burns with frustration part of him ? to be in the twenty first century to hang out in ? but he is raised on the western ? among a ? speaking community br br yet there is a deeper conflict within him he ? to know the truth the truth behind his ? ancient stories where does fiction end and he wants to know the truth behind the death of his parents br br he is pulled to make a last ? journey to the ? of one of ? most ? mountains can the truth be told or is it all in stories br br in this story about stories we ? bloody battles ? lovers the ? of old and the sometimes more ? ? of accepted truth in doing so we each connect with ? as he lives the story of his own life br br ? the ? ? is probably the most honest ? and genuinely beautiful film of scotland ever made like ? i got slightly annoyed with the ? of hanging stories on more stories but also like ? i ? this once i saw the ? picture ' forget the box office ? of braveheart and its like you might even ? the ? famous ? of the wicker man to see a film that is true to scotland this one is probably unique if you maybe ? on it deeply enough you might even re ? the power of storytelling and the age old question of whether there are some truths that cannot be told but only experienced\n",
            "? worst mistake of my life br br i picked this movie up at target for 5 because i figured hey it's sandler i can get some cheap laughs i was wrong completely wrong mid way through the film all three of my friends were asleep and i was still suffering worst plot worst script worst movie i have ever seen i wanted to hit my head up against a wall for an hour then i'd stop and you know why because it felt damn good upon bashing my head in i stuck that damn movie in the ? and watched it burn and that felt better than anything else i've ever done it took american psycho army of darkness and kill bill just to get over that crap i hate you sandler for actually going through with this and ruining a whole day of my life\n"
          ],
          "name": "stdout"
        }
      ]
    },
    {
      "cell_type": "markdown",
      "metadata": {
        "id": "gv-r2R-SPAjD",
        "colab_type": "text"
      },
      "source": [
        "Vectorizing the data:"
      ]
    },
    {
      "cell_type": "code",
      "metadata": {
        "id": "wbdnLkO8PETJ",
        "colab_type": "code",
        "colab": {}
      },
      "source": [
        "import numpy as np\n",
        "\n",
        "def vectorize_sequences(sequences, dimension=10000):\n",
        "    # Create an all-zero matrix of shape (len(sequences), dimension)\n",
        "    results = np.zeros((len(sequences), dimension))\n",
        "    for i, sequence in enumerate(sequences):\n",
        "        results[i, sequence] = 1.  # set specific indices of results[i] to 1s\n",
        "    return results\n",
        "\n",
        "# Our vectorized training data\n",
        "x_train = vectorize_sequences(train_data)\n",
        "# Our vectorized test data\n",
        "x_test = vectorize_sequences(test_data)"
      ],
      "execution_count": 0,
      "outputs": []
    },
    {
      "cell_type": "code",
      "metadata": {
        "id": "YGEls-UjRUJA",
        "colab_type": "code",
        "colab": {}
      },
      "source": [
        "# Our vectorized labels\n",
        "y_train = np.asarray(train_labels).astype('float32')\n",
        "y_test = np.asarray(test_labels).astype('float32')"
      ],
      "execution_count": 0,
      "outputs": []
    },
    {
      "cell_type": "markdown",
      "metadata": {
        "id": "PswVnMugRfWn",
        "colab_type": "text"
      },
      "source": [
        "## Building neural network"
      ]
    },
    {
      "cell_type": "markdown",
      "metadata": {
        "id": "gMczn3MFqkef",
        "colab_type": "text"
      },
      "source": [
        "Prepare keras and parameters:"
      ]
    },
    {
      "cell_type": "code",
      "metadata": {
        "id": "DMh1g9qOjjNv",
        "colab_type": "code",
        "colab": {}
      },
      "source": [
        "from keras import models\n",
        "from keras import layers\n",
        "from keras import losses\n",
        "from keras import metrics\n",
        "from keras import optimizers\n",
        "\n",
        "import os\n",
        "os.environ['TF_CPP_MIN_LOG_LEVEL'] = '3'\n",
        "x_val = x_train[:10000]\n",
        "partial_x_train = x_train[10000:]\n",
        "\n",
        "y_val = y_train[:10000]\n",
        "partial_y_train = y_train[10000:]"
      ],
      "execution_count": 0,
      "outputs": []
    },
    {
      "cell_type": "markdown",
      "metadata": {
        "id": "IoXUKSm_qtTc",
        "colab_type": "text"
      },
      "source": [
        "Create a function to plot the \"Training and validation loss\" and \"Training and validation accuracy\""
      ]
    },
    {
      "cell_type": "code",
      "metadata": {
        "id": "lylN43nOqtyc",
        "colab_type": "code",
        "colab": {}
      },
      "source": [
        "\n",
        "import matplotlib.pyplot as plt\n",
        "# dict_keys(['val_loss', 'val_binary_accuracy', 'loss', 'binary_accuracy'])\n",
        "def validation_plot(history):\n",
        "  \n",
        "  history_dict = history.history\n",
        "  history_dict.keys()\n",
        "  binary_accuracy = history.history['binary_accuracy']\n",
        "  \n",
        "  val_binary_accuracy = history.history['val_binary_accuracy']\n",
        "\n",
        "  loss = history.history['loss']\n",
        "  val_loss = history.history['val_loss']\n",
        "\n",
        "  epochs = range(1, len(binary_accuracy) + 1)\n",
        "\n",
        "  # \"bo\" is for \"blue dot\"\n",
        "  plt.plot(epochs, loss, 'bo', label='Training loss')\n",
        "  # b is for \"solid blue line\"\n",
        "  plt.plot(epochs, val_loss, 'b', label='Validation loss')\n",
        "  plt.title('Training and validation loss')\n",
        "  plt.xlabel('Epochs')\n",
        "  plt.ylabel('Loss')\n",
        "  plt.legend()\n",
        "\n",
        "  plt.show()\n",
        "  \n",
        "  plt.clf()   # clear figure\n",
        "  # acc_values = history_dict['acc']\n",
        "  binary_accuracy = history_dict['binary_accuracy']\n",
        "\n",
        "  # val_acc_values = history_dict['val_acc']\n",
        "  val_binary_accuracy = history_dict['val_binary_accuracy']\n",
        "\n",
        "  plt.plot(epochs, binary_accuracy, 'bo', label='Training binary_accuracy')\n",
        "  # plt.plot(epochs, val_acc, 'b', label='Validation binary_accuracy')\n",
        "  plt.plot(epochs, val_binary_accuracy, 'b', label='Validation binary_accuracy')\n",
        "\n",
        "  plt.title('Training and validation accuracy')\n",
        "  plt.xlabel('Epochs')\n",
        "  plt.ylabel('Loss')\n",
        "  plt.legend()\n",
        "\n",
        "  plt.show()"
      ],
      "execution_count": 0,
      "outputs": []
    },
    {
      "cell_type": "markdown",
      "metadata": {
        "id": "C-19LnyYSsK_",
        "colab_type": "text"
      },
      "source": [
        "### **Experiment 1:** Using 1 hidden layers"
      ]
    },
    {
      "cell_type": "code",
      "metadata": {
        "id": "8BBNkz_7RtA1",
        "colab_type": "code",
        "colab": {}
      },
      "source": [
        "model1 = models.Sequential()\n",
        "model1.add(layers.Dense(16, activation='relu', input_shape=(10000,)))\n",
        "# model1.add(layers.Dense(16, activation='relu')) # Make it just one hiden layer\n",
        "model1.add(layers.Dense(1, activation='sigmoid'))\n",
        "model1.compile(optimizer=optimizers.RMSprop(lr=0.001),\n",
        "              loss=losses.binary_crossentropy,\n",
        "              metrics=[metrics.binary_accuracy])"
      ],
      "execution_count": 0,
      "outputs": []
    },
    {
      "cell_type": "markdown",
      "metadata": {
        "id": "lfmZkcToS2ZE",
        "colab_type": "text"
      },
      "source": [
        "**Evaluation Measure :** Code for Validation and Testing Accuracy (one layer)"
      ]
    },
    {
      "cell_type": "code",
      "metadata": {
        "id": "TOGQlDH1S7LT",
        "colab_type": "code",
        "colab": {
          "base_uri": "https://localhost:8080/",
          "height": 729
        },
        "outputId": "ce94cfd3-b9c5-4233-a733-fa05a5fd25ee"
      },
      "source": [
        "\n",
        "h1 = model1.fit(partial_x_train,\n",
        "                    partial_y_train,\n",
        "                    epochs=20,\n",
        "                    batch_size=512,\n",
        "                    validation_data=(x_val, y_val))"
      ],
      "execution_count": 64,
      "outputs": [
        {
          "output_type": "stream",
          "text": [
            "Train on 15000 samples, validate on 10000 samples\n",
            "Epoch 1/20\n",
            "15000/15000 [==============================] - 3s 231us/step - loss: 0.4984 - binary_accuracy: 0.7998 - val_loss: 0.4020 - val_binary_accuracy: 0.8527\n",
            "Epoch 2/20\n",
            "15000/15000 [==============================] - 3s 181us/step - loss: 0.3179 - binary_accuracy: 0.9039 - val_loss: 0.3195 - val_binary_accuracy: 0.8840\n",
            "Epoch 3/20\n",
            "15000/15000 [==============================] - 2s 148us/step - loss: 0.2447 - binary_accuracy: 0.9244 - val_loss: 0.2981 - val_binary_accuracy: 0.8841\n",
            "Epoch 4/20\n",
            "15000/15000 [==============================] - 3s 176us/step - loss: 0.2001 - binary_accuracy: 0.9393 - val_loss: 0.2951 - val_binary_accuracy: 0.8812\n",
            "Epoch 5/20\n",
            "15000/15000 [==============================] - 3s 174us/step - loss: 0.1719 - binary_accuracy: 0.9483 - val_loss: 0.2765 - val_binary_accuracy: 0.8865\n",
            "Epoch 6/20\n",
            "15000/15000 [==============================] - 2s 155us/step - loss: 0.1462 - binary_accuracy: 0.9576 - val_loss: 0.2757 - val_binary_accuracy: 0.8896\n",
            "Epoch 7/20\n",
            "15000/15000 [==============================] - 2s 159us/step - loss: 0.1293 - binary_accuracy: 0.9619 - val_loss: 0.2799 - val_binary_accuracy: 0.8896\n",
            "Epoch 8/20\n",
            "15000/15000 [==============================] - 2s 145us/step - loss: 0.1128 - binary_accuracy: 0.9697 - val_loss: 0.2877 - val_binary_accuracy: 0.8854\n",
            "Epoch 9/20\n",
            "15000/15000 [==============================] - 3s 183us/step - loss: 0.1000 - binary_accuracy: 0.9731 - val_loss: 0.2979 - val_binary_accuracy: 0.8866\n",
            "Epoch 10/20\n",
            "15000/15000 [==============================] - 3s 173us/step - loss: 0.0883 - binary_accuracy: 0.9779 - val_loss: 0.3096 - val_binary_accuracy: 0.8857\n",
            "Epoch 11/20\n",
            "15000/15000 [==============================] - 3s 169us/step - loss: 0.0769 - binary_accuracy: 0.9818 - val_loss: 0.3214 - val_binary_accuracy: 0.8841\n",
            "Epoch 12/20\n",
            "15000/15000 [==============================] - 2s 154us/step - loss: 0.0682 - binary_accuracy: 0.9842 - val_loss: 0.3360 - val_binary_accuracy: 0.8774\n",
            "Epoch 13/20\n",
            "15000/15000 [==============================] - 2s 158us/step - loss: 0.0604 - binary_accuracy: 0.9873 - val_loss: 0.3579 - val_binary_accuracy: 0.8786\n",
            "Epoch 14/20\n",
            "15000/15000 [==============================] - 2s 142us/step - loss: 0.0524 - binary_accuracy: 0.9897 - val_loss: 0.3774 - val_binary_accuracy: 0.8777\n",
            "Epoch 15/20\n",
            "15000/15000 [==============================] - 2s 138us/step - loss: 0.0469 - binary_accuracy: 0.9913 - val_loss: 0.3845 - val_binary_accuracy: 0.8778\n",
            "Epoch 16/20\n",
            "15000/15000 [==============================] - 3s 171us/step - loss: 0.0412 - binary_accuracy: 0.9926 - val_loss: 0.3959 - val_binary_accuracy: 0.8739\n",
            "Epoch 17/20\n",
            "15000/15000 [==============================] - 2s 162us/step - loss: 0.0360 - binary_accuracy: 0.9942 - val_loss: 0.4118 - val_binary_accuracy: 0.8721\n",
            "Epoch 18/20\n",
            "15000/15000 [==============================] - 2s 142us/step - loss: 0.0318 - binary_accuracy: 0.9951 - val_loss: 0.4278 - val_binary_accuracy: 0.8730\n",
            "Epoch 19/20\n",
            "15000/15000 [==============================] - 2s 138us/step - loss: 0.0275 - binary_accuracy: 0.9965 - val_loss: 0.4459 - val_binary_accuracy: 0.8728\n",
            "Epoch 20/20\n",
            "15000/15000 [==============================] - 3s 168us/step - loss: 0.0236 - binary_accuracy: 0.9976 - val_loss: 0.4639 - val_binary_accuracy: 0.8712\n"
          ],
          "name": "stdout"
        }
      ]
    },
    {
      "cell_type": "markdown",
      "metadata": {
        "id": "2TRELMcgkgTP",
        "colab_type": "text"
      },
      "source": [
        "### Experiment 1: Using 3 hidden layers"
      ]
    },
    {
      "cell_type": "code",
      "metadata": {
        "id": "1RvCTFsQlWXB",
        "colab_type": "code",
        "colab": {}
      },
      "source": [
        "model2 = models.Sequential()\n",
        "model2.add(layers.Dense(16, activation='relu', input_shape=(10000,)))\n",
        "model2.add(layers.Dense(16, activation='relu')) \n",
        "model2.add(layers.Dense(18, activation='relu')) # Add one more layer to make it three\n",
        "model2.add(layers.Dense(1, activation='sigmoid'))\n",
        "model2.compile(optimizer=optimizers.RMSprop(lr=0.001),\n",
        "              loss=losses.binary_crossentropy,\n",
        "              metrics=[metrics.binary_accuracy])"
      ],
      "execution_count": 0,
      "outputs": []
    },
    {
      "cell_type": "markdown",
      "metadata": {
        "id": "Y2Nyi3UgodjU",
        "colab_type": "text"
      },
      "source": [
        "**Evaluation Measure :** Code for Validation and Testing Accuracy (three layer)"
      ]
    },
    {
      "cell_type": "code",
      "metadata": {
        "id": "TkonOgQIluIV",
        "colab_type": "code",
        "colab": {
          "base_uri": "https://localhost:8080/",
          "height": 729
        },
        "outputId": "dcb50b9c-da08-48f9-d663-b51930f4faf1"
      },
      "source": [
        "\n",
        "h2 = model2.fit(partial_x_train,\n",
        "                    partial_y_train,\n",
        "                    epochs=20,\n",
        "                    batch_size=512,\n",
        "                    validation_data=(x_val, y_val))"
      ],
      "execution_count": 76,
      "outputs": [
        {
          "output_type": "stream",
          "text": [
            "Train on 15000 samples, validate on 10000 samples\n",
            "Epoch 1/20\n",
            "15000/15000 [==============================] - 3s 228us/step - loss: 0.5453 - binary_accuracy: 0.7743 - val_loss: 0.3916 - val_binary_accuracy: 0.8649\n",
            "Epoch 2/20\n",
            "15000/15000 [==============================] - 3s 203us/step - loss: 0.3065 - binary_accuracy: 0.8974 - val_loss: 0.3260 - val_binary_accuracy: 0.8693\n",
            "Epoch 3/20\n",
            "15000/15000 [==============================] - 3s 182us/step - loss: 0.2186 - binary_accuracy: 0.9246 - val_loss: 0.2937 - val_binary_accuracy: 0.8810\n",
            "Epoch 4/20\n",
            "15000/15000 [==============================] - 3s 174us/step - loss: 0.1697 - binary_accuracy: 0.9431 - val_loss: 0.2783 - val_binary_accuracy: 0.8886\n",
            "Epoch 5/20\n",
            "15000/15000 [==============================] - 3s 181us/step - loss: 0.1371 - binary_accuracy: 0.9555 - val_loss: 0.3050 - val_binary_accuracy: 0.8843\n",
            "Epoch 6/20\n",
            "15000/15000 [==============================] - 3s 183us/step - loss: 0.1128 - binary_accuracy: 0.9650 - val_loss: 0.3094 - val_binary_accuracy: 0.8850\n",
            "Epoch 7/20\n",
            "15000/15000 [==============================] - 3s 192us/step - loss: 0.0896 - binary_accuracy: 0.9719 - val_loss: 0.3447 - val_binary_accuracy: 0.8781\n",
            "Epoch 8/20\n",
            "15000/15000 [==============================] - 3s 178us/step - loss: 0.0757 - binary_accuracy: 0.9767 - val_loss: 0.3589 - val_binary_accuracy: 0.8808\n",
            "Epoch 9/20\n",
            "15000/15000 [==============================] - 3s 185us/step - loss: 0.0569 - binary_accuracy: 0.9831 - val_loss: 0.3846 - val_binary_accuracy: 0.8755\n",
            "Epoch 10/20\n",
            "15000/15000 [==============================] - 3s 208us/step - loss: 0.0500 - binary_accuracy: 0.9858 - val_loss: 0.4160 - val_binary_accuracy: 0.8749\n",
            "Epoch 11/20\n",
            "15000/15000 [==============================] - 3s 174us/step - loss: 0.0336 - binary_accuracy: 0.9923 - val_loss: 0.4538 - val_binary_accuracy: 0.8720\n",
            "Epoch 12/20\n",
            "15000/15000 [==============================] - 3s 193us/step - loss: 0.0303 - binary_accuracy: 0.9916 - val_loss: 0.4911 - val_binary_accuracy: 0.8701\n",
            "Epoch 13/20\n",
            "15000/15000 [==============================] - 3s 196us/step - loss: 0.0236 - binary_accuracy: 0.9939 - val_loss: 0.5324 - val_binary_accuracy: 0.8684\n",
            "Epoch 14/20\n",
            "15000/15000 [==============================] - 3s 178us/step - loss: 0.0223 - binary_accuracy: 0.9935 - val_loss: 0.5643 - val_binary_accuracy: 0.8685\n",
            "Epoch 15/20\n",
            "15000/15000 [==============================] - 3s 175us/step - loss: 0.0085 - binary_accuracy: 0.9993 - val_loss: 0.5997 - val_binary_accuracy: 0.8674\n",
            "Epoch 16/20\n",
            "15000/15000 [==============================] - 3s 195us/step - loss: 0.0175 - binary_accuracy: 0.9951 - val_loss: 0.6375 - val_binary_accuracy: 0.8684\n",
            "Epoch 17/20\n",
            "15000/15000 [==============================] - 3s 175us/step - loss: 0.0047 - binary_accuracy: 0.9997 - val_loss: 0.7159 - val_binary_accuracy: 0.8654\n",
            "Epoch 18/20\n",
            "15000/15000 [==============================] - 3s 203us/step - loss: 0.0184 - binary_accuracy: 0.9945 - val_loss: 0.7124 - val_binary_accuracy: 0.8681\n",
            "Epoch 19/20\n",
            "15000/15000 [==============================] - 3s 178us/step - loss: 0.0025 - binary_accuracy: 0.9997 - val_loss: 0.7347 - val_binary_accuracy: 0.8657\n",
            "Epoch 20/20\n",
            "15000/15000 [==============================] - 2s 158us/step - loss: 0.0092 - binary_accuracy: 0.9971 - val_loss: 0.7938 - val_binary_accuracy: 0.8587\n"
          ],
          "name": "stdout"
        }
      ]
    },
    {
      "cell_type": "code",
      "metadata": {
        "id": "n24yvp6Rx0zp",
        "colab_type": "code",
        "colab": {
          "base_uri": "https://localhost:8080/",
          "height": 1000
        },
        "outputId": "2cb2ba31-d285-4e1c-ba76-5a74d24654fd"
      },
      "source": [
        "print(\"One Layer validation\")\n",
        "validation_plot(h1)\n",
        "\n",
        "print(\"Three Layers validation\")\n",
        "validation_plot(h2)\n",
        "\n"
      ],
      "execution_count": 79,
      "outputs": [
        {
          "output_type": "stream",
          "text": [
            "One Layer validation\n"
          ],
          "name": "stdout"
        },
        {
          "output_type": "display_data",
          "data": {
            "image/png": "[encoded data removed]",
            "text/plain": [
              "<Figure size 432x288 with 1 Axes>"
            ]
          },
          "metadata": {
            "tags": []
          }
        },
        {
          "output_type": "display_data",
          "data": {
            "image/png": "[encoded data removed]",
            "text/plain": [
              "<Figure size 432x288 with 1 Axes>"
            ]
          },
          "metadata": {
            "tags": []
          }
        },
        {
          "output_type": "stream",
          "text": [
            "Three Layers validation\n"
          ],
          "name": "stdout"
        },
        {
          "output_type": "display_data",
          "data": {
            "image/png": "[encoded data removed]",
            "text/plain": [
              "<Figure size 432x288 with 1 Axes>"
            ]
          },
          "metadata": {
            "tags": []
          }
        },
        {
          "output_type": "display_data",
          "data": {
            "image/png": "[encoded data removed]",
            "text/plain": [
              "<Figure size 432x288 with 1 Axes>"
            ]
          },
          "metadata": {
            "tags": []
          }
        }
      ]
    },
    {
      "cell_type": "markdown",
      "metadata": {
        "id": "mM8-ERwDnEGO",
        "colab_type": "text"
      },
      "source": [
        "**Conclusion:**\n",
        "\n",
        "  The model seems overfitting when number of layes are increased.\n",
        "  \n",
        "  The training loss is decreasing while validation loss is increasing in three layers. Also, training accuracy is almost not changing while validation accuracy is decreasing.\n",
        "  \n",
        "  \n",
        "  Following is the result from my executions: \n",
        "  \n",
        "*   loss: 0.0236 - binary_accuracy: 0.9976 - val_loss: 0.4639 - val_binary_accuracy: 0.8712\n",
        "*   loss: 0.0092 - binary_accuracy: 0.9971 - val_loss: 0.7938 - val_binary_accuracy: 0.8587\n",
        "\n"
      ]
    },
    {
      "cell_type": "markdown",
      "metadata": {
        "id": "bpQH6tGhOf1i",
        "colab_type": "text"
      },
      "source": [
        "\n",
        "\n",
        "---\n",
        "\n"
      ]
    },
    {
      "cell_type": "code",
      "metadata": {
        "id": "J6XbcuksPiY8",
        "colab_type": "code",
        "colab": {}
      },
      "source": [
        ""
      ],
      "execution_count": 0,
      "outputs": []
    },
    {
      "cell_type": "code",
      "metadata": {
        "id": "wJETOHOSRO9D",
        "colab_type": "code",
        "colab": {}
      },
      "source": [
        ""
      ],
      "execution_count": 0,
      "outputs": []
    },
    {
      "cell_type": "code",
      "metadata": {
        "id": "RdBYsfXcRPKn",
        "colab_type": "code",
        "colab": {}
      },
      "source": [
        ""
      ],
      "execution_count": 0,
      "outputs": []
    }
  ]
}