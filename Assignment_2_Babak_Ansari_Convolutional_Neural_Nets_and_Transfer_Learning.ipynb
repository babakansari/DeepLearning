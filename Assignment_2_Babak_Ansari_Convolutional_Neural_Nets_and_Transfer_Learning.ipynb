{
  "nbformat": 4,
  "nbformat_minor": 0,
  "metadata": {
    "colab": {
      "name": "Assignment 2 - Babak Ansari - Convolutional Neural Nets and Transfer Learning",
      "provenance": [],
      "include_colab_link": true
    },
    "kernelspec": {
      "name": "python3",
      "display_name": "Python 3"
    }
  },
  "cells": [
    {
      "cell_type": "markdown",
      "metadata": {
        "id": "view-in-github",
        "colab_type": "text"
      },
      "source": [
        "<a href=\"https://colab.research.google.com/github/babakansari/DeepLearning/blob/master/Assignment_2_Babak_Ansari_Convolutional_Neural_Nets_and_Transfer_Learning.ipynb\" target=\"_parent\"><img src=\"https://colab.research.google.com/assets/colab-badge.svg\" alt=\"Open In Colab\"/></a>"
      ]
    },
    {
      "cell_type": "markdown",
      "metadata": {
        "id": "NihUzEPbP8JN",
        "colab_type": "text"
      },
      "source": [
        "# Assignment 2 - Babak Ansari-Jaberi"
      ]
    },
    {
      "cell_type": "code",
      "metadata": {
        "id": "qKrkPd-nQB-i",
        "colab_type": "code",
        "colab": {}
      },
      "source": [
        ""
      ],
      "execution_count": 0,
      "outputs": []
    }
  ]
}