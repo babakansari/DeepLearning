{
 "cells": [
  {
   "cell_type": "markdown",
   "metadata": {
    "colab_type": "text",
    "id": "view-in-github"
   },
   "source": [
    "<a href=\"https://colab.research.google.com/github/babakansari/DeepLearning/blob/master/Assignment_2_Babak_Ansari_Convolutional_Neural_Nets_and_Transfer_Learning.ipynb\" target=\"_parent\"><img src=\"https://colab.research.google.com/assets/colab-badge.svg\" alt=\"Open In Colab\"/></a>"
   ]
  },
  {
   "cell_type": "markdown",
   "metadata": {
    "colab_type": "text",
    "id": "NihUzEPbP8JN"
   },
   "source": [
    "# Assignment 2 - Babak Ansari-Jaberi"
   ]
  },
  {
   "cell_type": "markdown",
   "metadata": {},
   "source": [
    "## Data Prepration"
   ]
  },
  {
   "cell_type": "markdown",
   "metadata": {},
   "source": [
    "### Flower images should be downloaded into the current folder\n",
    "  \n",
    "Creating a function to resize the image files in `flower_photos` folder and save them into a new `data`  folder"
   ]
  },
  {
   "cell_type": "code",
   "execution_count": 259,
   "metadata": {},
   "outputs": [],
   "source": [
    "# required packages that might be missing and settings\n",
    "#!pip3 install PIL  --allow-unverified PIL --allow-all-external\n",
    "%config IPCompleter.greedy=True"
   ]
  },
  {
   "cell_type": "markdown",
   "metadata": {},
   "source": [
    "Function to convert image sizes and save in a destination folder"
   ]
  },
  {
   "cell_type": "code",
   "execution_count": 260,
   "metadata": {
    "colab": {},
    "colab_type": "code",
    "id": "qKrkPd-nQB-i"
   },
   "outputs": [],
   "source": [
    "import os, sys\n",
    "from PIL import Image\n",
    "\n",
    "# Supress warning and informational messages\n",
    "os.environ['TF_CPP_MIN_LOG_LEVEL'] = '2'\n",
    "\n",
    "img_height = 150 \n",
    "img_width = 150\n",
    "\n",
    "# Function to resize a single image\n",
    "def resize_photo(infile, outfile, width, height):   \n",
    "    size = width, height\n",
    "\n",
    "    if not os.path.exists(os.path.dirname(outfile)):\n",
    "        try:\n",
    "            os.makedirs(os.path.dirname(outfile))\n",
    "        except OSError as exc: # Guard against race condition\n",
    "            raise\n",
    "\n",
    "    try:\n",
    "        im = Image.open(infile)\n",
    "        im.thumbnail(size, Image.ANTIALIAS) \n",
    "        im.save(outfile, \"JPEG\")\n",
    "        im = Image.open(outfile)\n",
    "    except IOError:\n",
    "        raise\n",
    "    return im"
   ]
  },
  {
   "cell_type": "markdown",
   "metadata": {},
   "source": [
    "Function to add images to Data Frame for normalizing the distribution of flower kinds:"
   ]
  },
  {
   "cell_type": "code",
   "execution_count": 261,
   "metadata": {},
   "outputs": [],
   "source": [
    "import pandas as pd\n",
    "from os import listdir\n",
    "from os.path import isfile, join\n",
    "from IPython.display import clear_output # Print on the same line to show the progress\n",
    "\n",
    "# Function to populate a data frame of image paths and their kinds\n",
    "def photos_to_dataframe(idx, image_path):\n",
    "    flower_kind = image_path.replace('flower_photos', '').replace('/','')\n",
    "    \n",
    "    onlyfiles = [f for f in listdir(image_path) if isfile(join(image_path, f))]\n",
    "\n",
    "    df = pd.DataFrame(columns=['id', 'kind', 'image', 'path'])\n",
    "    \n",
    "    for imgfile in onlyfiles:\n",
    "        clear_output(wait=True)\n",
    "        print('Processing files in \"' + image_path + '\" folder.\\r\\n'+ imgfile)\n",
    "        df.loc[idx] = [idx, flower_kind, imgfile, image_path]\n",
    "        idx=idx+1\n",
    "    clear_output(wait=True)\n",
    "    print('Processing files in \"' + image_path + '\" folder is finished.')\n",
    "    return df"
   ]
  },
  {
   "cell_type": "markdown",
   "metadata": {},
   "source": [
    "Create a data frame of all images and their flower kinds to be used for preprocessing (e.g. normalizing the flower kinds distribution)"
   ]
  },
  {
   "cell_type": "code",
   "execution_count": 262,
   "metadata": {},
   "outputs": [
    {
     "name": "stdout",
     "output_type": "stream",
     "text": [
      "Processing files in \"flower_photos/tulips/\" folder is finished.\n"
     ]
    }
   ],
   "source": [
    "daisy_df = photos_to_dataframe(0, 'flower_photos/daisy/')\n",
    "dandelion_df = photos_to_dataframe(len(daisy_df)+1, 'flower_photos/dandelion/')\n",
    "roses_df = photos_to_dataframe(len(dandelion_df)+1, 'flower_photos/roses/')\n",
    "sunflowers_df = photos_to_dataframe(len(roses_df)+1, 'flower_photos/sunflowers/')\n",
    "tulips_df = photos_to_dataframe(len(sunflowers_df)+1, 'flower_photos/tulips/')\n",
    "\n",
    "df_main = daisy_df.append(dandelion_df).append(roses_df).append(sunflowers_df).append(tulips_df).sort_values(by=['kind'])"
   ]
  },
  {
   "cell_type": "code",
   "execution_count": 263,
   "metadata": {},
   "outputs": [
    {
     "data": {
      "text/html": [
       "<div>\n",
       "<style scoped>\n",
       "    .dataframe tbody tr th:only-of-type {\n",
       "        vertical-align: middle;\n",
       "    }\n",
       "\n",
       "    .dataframe tbody tr th {\n",
       "        vertical-align: top;\n",
       "    }\n",
       "\n",
       "    .dataframe thead th {\n",
       "        text-align: right;\n",
       "    }\n",
       "</style>\n",
       "<table border=\"1\" class=\"dataframe\">\n",
       "  <thead>\n",
       "    <tr style=\"text-align: right;\">\n",
       "      <th></th>\n",
       "      <th>id</th>\n",
       "      <th>kind</th>\n",
       "      <th>image</th>\n",
       "      <th>path</th>\n",
       "    </tr>\n",
       "  </thead>\n",
       "  <tbody>\n",
       "    <tr>\n",
       "      <td>0</td>\n",
       "      <td>0</td>\n",
       "      <td>daisy</td>\n",
       "      <td>100080576_f52e8ee070_n.jpg</td>\n",
       "      <td>flower_photos/daisy/</td>\n",
       "    </tr>\n",
       "    <tr>\n",
       "      <td>418</td>\n",
       "      <td>418</td>\n",
       "      <td>daisy</td>\n",
       "      <td>4858518329_7563eb0baa_m.jpg</td>\n",
       "      <td>flower_photos/daisy/</td>\n",
       "    </tr>\n",
       "    <tr>\n",
       "      <td>419</td>\n",
       "      <td>419</td>\n",
       "      <td>daisy</td>\n",
       "      <td>4861391074_c3e122dab0_m.jpg</td>\n",
       "      <td>flower_photos/daisy/</td>\n",
       "    </tr>\n",
       "    <tr>\n",
       "      <td>420</td>\n",
       "      <td>420</td>\n",
       "      <td>daisy</td>\n",
       "      <td>4865691548_00319261b8.jpg</td>\n",
       "      <td>flower_photos/daisy/</td>\n",
       "    </tr>\n",
       "    <tr>\n",
       "      <td>421</td>\n",
       "      <td>421</td>\n",
       "      <td>daisy</td>\n",
       "      <td>488202750_c420cbce61.jpg</td>\n",
       "      <td>flower_photos/daisy/</td>\n",
       "    </tr>\n",
       "  </tbody>\n",
       "</table>\n",
       "</div>"
      ],
      "text/plain": [
       "      id   kind                        image                  path\n",
       "0      0  daisy   100080576_f52e8ee070_n.jpg  flower_photos/daisy/\n",
       "418  418  daisy  4858518329_7563eb0baa_m.jpg  flower_photos/daisy/\n",
       "419  419  daisy  4861391074_c3e122dab0_m.jpg  flower_photos/daisy/\n",
       "420  420  daisy    4865691548_00319261b8.jpg  flower_photos/daisy/\n",
       "421  421  daisy     488202750_c420cbce61.jpg  flower_photos/daisy/"
      ]
     },
     "execution_count": 263,
     "metadata": {},
     "output_type": "execute_result"
    }
   ],
   "source": [
    "df_main.head()"
   ]
  },
  {
   "cell_type": "markdown",
   "metadata": {},
   "source": [
    "### The images have different dimensions. Resize all of them to 150x150.\n",
    "\n",
    "Normalize the flowe kinds folder for analysis"
   ]
  },
  {
   "cell_type": "code",
   "execution_count": 272,
   "metadata": {},
   "outputs": [
    {
     "data": {
      "text/html": [
       "<div>\n",
       "<style scoped>\n",
       "    .dataframe tbody tr th:only-of-type {\n",
       "        vertical-align: middle;\n",
       "    }\n",
       "\n",
       "    .dataframe tbody tr th {\n",
       "        vertical-align: top;\n",
       "    }\n",
       "\n",
       "    .dataframe thead th {\n",
       "        text-align: right;\n",
       "    }\n",
       "</style>\n",
       "<table border=\"1\" class=\"dataframe\">\n",
       "  <thead>\n",
       "    <tr style=\"text-align: right;\">\n",
       "      <th></th>\n",
       "      <th>id</th>\n",
       "      <th>kind</th>\n",
       "      <th>image</th>\n",
       "      <th>path</th>\n",
       "      <th>daisy</th>\n",
       "      <th>dandelion</th>\n",
       "      <th>roses</th>\n",
       "      <th>sunflowers</th>\n",
       "      <th>tulips</th>\n",
       "    </tr>\n",
       "  </thead>\n",
       "  <tbody>\n",
       "    <tr>\n",
       "      <td>0</td>\n",
       "      <td>0</td>\n",
       "      <td>daisy</td>\n",
       "      <td>100080576_f52e8ee070_n.jpg</td>\n",
       "      <td>flower_photos/daisy/</td>\n",
       "      <td>1</td>\n",
       "      <td>0</td>\n",
       "      <td>0</td>\n",
       "      <td>0</td>\n",
       "      <td>0</td>\n",
       "    </tr>\n",
       "    <tr>\n",
       "      <td>418</td>\n",
       "      <td>418</td>\n",
       "      <td>daisy</td>\n",
       "      <td>4858518329_7563eb0baa_m.jpg</td>\n",
       "      <td>flower_photos/daisy/</td>\n",
       "      <td>1</td>\n",
       "      <td>0</td>\n",
       "      <td>0</td>\n",
       "      <td>0</td>\n",
       "      <td>0</td>\n",
       "    </tr>\n",
       "    <tr>\n",
       "      <td>419</td>\n",
       "      <td>419</td>\n",
       "      <td>daisy</td>\n",
       "      <td>4861391074_c3e122dab0_m.jpg</td>\n",
       "      <td>flower_photos/daisy/</td>\n",
       "      <td>1</td>\n",
       "      <td>0</td>\n",
       "      <td>0</td>\n",
       "      <td>0</td>\n",
       "      <td>0</td>\n",
       "    </tr>\n",
       "    <tr>\n",
       "      <td>420</td>\n",
       "      <td>420</td>\n",
       "      <td>daisy</td>\n",
       "      <td>4865691548_00319261b8.jpg</td>\n",
       "      <td>flower_photos/daisy/</td>\n",
       "      <td>1</td>\n",
       "      <td>0</td>\n",
       "      <td>0</td>\n",
       "      <td>0</td>\n",
       "      <td>0</td>\n",
       "    </tr>\n",
       "    <tr>\n",
       "      <td>421</td>\n",
       "      <td>421</td>\n",
       "      <td>daisy</td>\n",
       "      <td>488202750_c420cbce61.jpg</td>\n",
       "      <td>flower_photos/daisy/</td>\n",
       "      <td>1</td>\n",
       "      <td>0</td>\n",
       "      <td>0</td>\n",
       "      <td>0</td>\n",
       "      <td>0</td>\n",
       "    </tr>\n",
       "  </tbody>\n",
       "</table>\n",
       "</div>"
      ],
      "text/plain": [
       "      id   kind                        image                  path  daisy  \\\n",
       "0      0  daisy   100080576_f52e8ee070_n.jpg  flower_photos/daisy/      1   \n",
       "418  418  daisy  4858518329_7563eb0baa_m.jpg  flower_photos/daisy/      1   \n",
       "419  419  daisy  4861391074_c3e122dab0_m.jpg  flower_photos/daisy/      1   \n",
       "420  420  daisy    4865691548_00319261b8.jpg  flower_photos/daisy/      1   \n",
       "421  421  daisy     488202750_c420cbce61.jpg  flower_photos/daisy/      1   \n",
       "\n",
       "     dandelion  roses  sunflowers  tulips  \n",
       "0            0      0           0       0  \n",
       "418          0      0           0       0  \n",
       "419          0      0           0       0  \n",
       "420          0      0           0       0  \n",
       "421          0      0           0       0  "
      ]
     },
     "execution_count": 272,
     "metadata": {},
     "output_type": "execute_result"
    }
   ],
   "source": [
    "# One hot encoding the flower kinds\n",
    "df = pd.concat([df_main,pd.get_dummies(df_main['kind'], drop_first=False)],axis=1)\n",
    "df.head()"
   ]
  },
  {
   "cell_type": "markdown",
   "metadata": {},
   "source": [
    "### Split images to 75-25% for training and test:\n",
    "\n",
    "Make sure the distribution is random `shuffle=True`"
   ]
  },
  {
   "cell_type": "code",
   "execution_count": 273,
   "metadata": {},
   "outputs": [],
   "source": [
    "from sklearn.model_selection import train_test_split\n",
    "\n",
    "train, test = train_test_split(df, test_size=0.25, shuffle=True)"
   ]
  },
  {
   "cell_type": "markdown",
   "metadata": {},
   "source": [
    "### Make sure you have the same distribution of flower types between train and test datasets:\n",
    "The distribution of the rows are the same for both train and test.\n",
    "As you could see in bellow statistical summary for train and test set. The average number of all flower kinds are very close. Meaning that each flower kind is distributed evenly in test and training set."
   ]
  },
  {
   "cell_type": "code",
   "execution_count": 274,
   "metadata": {},
   "outputs": [
    {
     "data": {
      "text/html": [
       "<div>\n",
       "<style scoped>\n",
       "    .dataframe tbody tr th:only-of-type {\n",
       "        vertical-align: middle;\n",
       "    }\n",
       "\n",
       "    .dataframe tbody tr th {\n",
       "        vertical-align: top;\n",
       "    }\n",
       "\n",
       "    .dataframe thead th {\n",
       "        text-align: right;\n",
       "    }\n",
       "</style>\n",
       "<table border=\"1\" class=\"dataframe\">\n",
       "  <thead>\n",
       "    <tr style=\"text-align: right;\">\n",
       "      <th></th>\n",
       "      <th>daisy</th>\n",
       "      <th>dandelion</th>\n",
       "      <th>roses</th>\n",
       "      <th>sunflowers</th>\n",
       "      <th>tulips</th>\n",
       "    </tr>\n",
       "  </thead>\n",
       "  <tbody>\n",
       "    <tr>\n",
       "      <td>count</td>\n",
       "      <td>2752.000000</td>\n",
       "      <td>2752.000000</td>\n",
       "      <td>2752.000000</td>\n",
       "      <td>2752.000000</td>\n",
       "      <td>2752.000000</td>\n",
       "    </tr>\n",
       "    <tr>\n",
       "      <td>mean</td>\n",
       "      <td>0.172602</td>\n",
       "      <td>0.248547</td>\n",
       "      <td>0.172965</td>\n",
       "      <td>0.189680</td>\n",
       "      <td>0.216206</td>\n",
       "    </tr>\n",
       "    <tr>\n",
       "      <td>std</td>\n",
       "      <td>0.377971</td>\n",
       "      <td>0.432249</td>\n",
       "      <td>0.378286</td>\n",
       "      <td>0.392119</td>\n",
       "      <td>0.411731</td>\n",
       "    </tr>\n",
       "    <tr>\n",
       "      <td>min</td>\n",
       "      <td>0.000000</td>\n",
       "      <td>0.000000</td>\n",
       "      <td>0.000000</td>\n",
       "      <td>0.000000</td>\n",
       "      <td>0.000000</td>\n",
       "    </tr>\n",
       "    <tr>\n",
       "      <td>25%</td>\n",
       "      <td>0.000000</td>\n",
       "      <td>0.000000</td>\n",
       "      <td>0.000000</td>\n",
       "      <td>0.000000</td>\n",
       "      <td>0.000000</td>\n",
       "    </tr>\n",
       "    <tr>\n",
       "      <td>50%</td>\n",
       "      <td>0.000000</td>\n",
       "      <td>0.000000</td>\n",
       "      <td>0.000000</td>\n",
       "      <td>0.000000</td>\n",
       "      <td>0.000000</td>\n",
       "    </tr>\n",
       "    <tr>\n",
       "      <td>75%</td>\n",
       "      <td>0.000000</td>\n",
       "      <td>0.000000</td>\n",
       "      <td>0.000000</td>\n",
       "      <td>0.000000</td>\n",
       "      <td>0.000000</td>\n",
       "    </tr>\n",
       "    <tr>\n",
       "      <td>max</td>\n",
       "      <td>1.000000</td>\n",
       "      <td>1.000000</td>\n",
       "      <td>1.000000</td>\n",
       "      <td>1.000000</td>\n",
       "      <td>1.000000</td>\n",
       "    </tr>\n",
       "  </tbody>\n",
       "</table>\n",
       "</div>"
      ],
      "text/plain": [
       "             daisy    dandelion        roses   sunflowers       tulips\n",
       "count  2752.000000  2752.000000  2752.000000  2752.000000  2752.000000\n",
       "mean      0.172602     0.248547     0.172965     0.189680     0.216206\n",
       "std       0.377971     0.432249     0.378286     0.392119     0.411731\n",
       "min       0.000000     0.000000     0.000000     0.000000     0.000000\n",
       "25%       0.000000     0.000000     0.000000     0.000000     0.000000\n",
       "50%       0.000000     0.000000     0.000000     0.000000     0.000000\n",
       "75%       0.000000     0.000000     0.000000     0.000000     0.000000\n",
       "max       1.000000     1.000000     1.000000     1.000000     1.000000"
      ]
     },
     "execution_count": 274,
     "metadata": {},
     "output_type": "execute_result"
    }
   ],
   "source": [
    "train.describe()"
   ]
  },
  {
   "cell_type": "code",
   "execution_count": 275,
   "metadata": {},
   "outputs": [
    {
     "data": {
      "text/html": [
       "<div>\n",
       "<style scoped>\n",
       "    .dataframe tbody tr th:only-of-type {\n",
       "        vertical-align: middle;\n",
       "    }\n",
       "\n",
       "    .dataframe tbody tr th {\n",
       "        vertical-align: top;\n",
       "    }\n",
       "\n",
       "    .dataframe thead th {\n",
       "        text-align: right;\n",
       "    }\n",
       "</style>\n",
       "<table border=\"1\" class=\"dataframe\">\n",
       "  <thead>\n",
       "    <tr style=\"text-align: right;\">\n",
       "      <th></th>\n",
       "      <th>daisy</th>\n",
       "      <th>dandelion</th>\n",
       "      <th>roses</th>\n",
       "      <th>sunflowers</th>\n",
       "      <th>tulips</th>\n",
       "    </tr>\n",
       "  </thead>\n",
       "  <tbody>\n",
       "    <tr>\n",
       "      <td>count</td>\n",
       "      <td>918.000000</td>\n",
       "      <td>918.000000</td>\n",
       "      <td>918.000000</td>\n",
       "      <td>918.000000</td>\n",
       "      <td>918.000000</td>\n",
       "    </tr>\n",
       "    <tr>\n",
       "      <td>mean</td>\n",
       "      <td>0.172113</td>\n",
       "      <td>0.233115</td>\n",
       "      <td>0.179739</td>\n",
       "      <td>0.192810</td>\n",
       "      <td>0.222222</td>\n",
       "    </tr>\n",
       "    <tr>\n",
       "      <td>std</td>\n",
       "      <td>0.377685</td>\n",
       "      <td>0.423046</td>\n",
       "      <td>0.384179</td>\n",
       "      <td>0.394721</td>\n",
       "      <td>0.415966</td>\n",
       "    </tr>\n",
       "    <tr>\n",
       "      <td>min</td>\n",
       "      <td>0.000000</td>\n",
       "      <td>0.000000</td>\n",
       "      <td>0.000000</td>\n",
       "      <td>0.000000</td>\n",
       "      <td>0.000000</td>\n",
       "    </tr>\n",
       "    <tr>\n",
       "      <td>25%</td>\n",
       "      <td>0.000000</td>\n",
       "      <td>0.000000</td>\n",
       "      <td>0.000000</td>\n",
       "      <td>0.000000</td>\n",
       "      <td>0.000000</td>\n",
       "    </tr>\n",
       "    <tr>\n",
       "      <td>50%</td>\n",
       "      <td>0.000000</td>\n",
       "      <td>0.000000</td>\n",
       "      <td>0.000000</td>\n",
       "      <td>0.000000</td>\n",
       "      <td>0.000000</td>\n",
       "    </tr>\n",
       "    <tr>\n",
       "      <td>75%</td>\n",
       "      <td>0.000000</td>\n",
       "      <td>0.000000</td>\n",
       "      <td>0.000000</td>\n",
       "      <td>0.000000</td>\n",
       "      <td>0.000000</td>\n",
       "    </tr>\n",
       "    <tr>\n",
       "      <td>max</td>\n",
       "      <td>1.000000</td>\n",
       "      <td>1.000000</td>\n",
       "      <td>1.000000</td>\n",
       "      <td>1.000000</td>\n",
       "      <td>1.000000</td>\n",
       "    </tr>\n",
       "  </tbody>\n",
       "</table>\n",
       "</div>"
      ],
      "text/plain": [
       "            daisy   dandelion       roses  sunflowers      tulips\n",
       "count  918.000000  918.000000  918.000000  918.000000  918.000000\n",
       "mean     0.172113    0.233115    0.179739    0.192810    0.222222\n",
       "std      0.377685    0.423046    0.384179    0.394721    0.415966\n",
       "min      0.000000    0.000000    0.000000    0.000000    0.000000\n",
       "25%      0.000000    0.000000    0.000000    0.000000    0.000000\n",
       "50%      0.000000    0.000000    0.000000    0.000000    0.000000\n",
       "75%      0.000000    0.000000    0.000000    0.000000    0.000000\n",
       "max      1.000000    1.000000    1.000000    1.000000    1.000000"
      ]
     },
     "execution_count": 275,
     "metadata": {},
     "output_type": "execute_result"
    }
   ],
   "source": [
    "test.describe()"
   ]
  },
  {
   "cell_type": "markdown",
   "metadata": {},
   "source": [
    "The mean and std are almost the same in train and test sets as you could see in above summary.\n",
    "\n",
    "Now creating data frames with total flower kinds in train and test to analyse the total flower kinds in tran and test set:"
   ]
  },
  {
   "cell_type": "code",
   "execution_count": 276,
   "metadata": {},
   "outputs": [
    {
     "data": {
      "text/html": [
       "<div>\n",
       "<style scoped>\n",
       "    .dataframe tbody tr th:only-of-type {\n",
       "        vertical-align: middle;\n",
       "    }\n",
       "\n",
       "    .dataframe tbody tr th {\n",
       "        vertical-align: top;\n",
       "    }\n",
       "\n",
       "    .dataframe thead th {\n",
       "        text-align: right;\n",
       "    }\n",
       "</style>\n",
       "<table border=\"1\" class=\"dataframe\">\n",
       "  <thead>\n",
       "    <tr style=\"text-align: right;\">\n",
       "      <th></th>\n",
       "      <th>kind</th>\n",
       "      <th>count</th>\n",
       "    </tr>\n",
       "  </thead>\n",
       "  <tbody>\n",
       "    <tr>\n",
       "      <td>0</td>\n",
       "      <td>daisy</td>\n",
       "      <td>633</td>\n",
       "    </tr>\n",
       "    <tr>\n",
       "      <td>1</td>\n",
       "      <td>dandelion</td>\n",
       "      <td>898</td>\n",
       "    </tr>\n",
       "    <tr>\n",
       "      <td>2</td>\n",
       "      <td>roses</td>\n",
       "      <td>641</td>\n",
       "    </tr>\n",
       "    <tr>\n",
       "      <td>3</td>\n",
       "      <td>sunflowers</td>\n",
       "      <td>699</td>\n",
       "    </tr>\n",
       "    <tr>\n",
       "      <td>4</td>\n",
       "      <td>tulips</td>\n",
       "      <td>799</td>\n",
       "    </tr>\n",
       "  </tbody>\n",
       "</table>\n",
       "</div>"
      ],
      "text/plain": [
       "         kind  count\n",
       "0       daisy    633\n",
       "1   dandelion    898\n",
       "2       roses    641\n",
       "3  sunflowers    699\n",
       "4      tulips    799"
      ]
     },
     "execution_count": 276,
     "metadata": {},
     "output_type": "execute_result"
    }
   ],
   "source": [
    "import seaborn as sns\n",
    "import matplotlib.pyplot as plt\n",
    "\n",
    "df_kinds = pd.DataFrame({'count' : df.groupby( [ \"kind\" ] ).size()}).reset_index()\n",
    "train_kinds = pd.DataFrame({'count' : train.groupby( [ \"kind\" ] ).size()}).reset_index()\n",
    "test_kinds = pd.DataFrame({'count' : test.groupby( [ \"kind\" ] ).size()}).reset_index()\n",
    "df_kinds"
   ]
  },
  {
   "cell_type": "markdown",
   "metadata": {},
   "source": [
    "Normalize the counts"
   ]
  },
  {
   "cell_type": "code",
   "execution_count": 277,
   "metadata": {},
   "outputs": [],
   "source": [
    "from sklearn import preprocessing\n",
    "\n",
    "\n",
    "df_kinds[['count']] = preprocessing.minmax_scale(df_kinds[['count']])\n",
    "train_kinds[['count']] = preprocessing.minmax_scale(train_kinds[['count']])\n",
    "test_kinds[['count']] = preprocessing.minmax_scale(test_kinds[['count']])"
   ]
  },
  {
   "cell_type": "markdown",
   "metadata": {},
   "source": [
    "The following graph bellow is showing that the distribution of flower kinds are normal between Blue (Entire set), Red (Train set) and (Green set)"
   ]
  },
  {
   "cell_type": "code",
   "execution_count": 278,
   "metadata": {},
   "outputs": [
    {
     "data": {
      "text/plain": [
       "<matplotlib.axes._subplots.AxesSubplot at 0x233df6950>"
      ]
     },
     "execution_count": 278,
     "metadata": {},
     "output_type": "execute_result"
    },
    {
     "data": {
      "image/png": "[encoded data removed]",
      "text/plain": [
       "<Figure size 432x288 with 1 Axes>"
      ]
     },
     "metadata": {
      "needs_background": "light"
     },
     "output_type": "display_data"
    }
   ],
   "source": [
    "sns.distplot(df_kinds['count'], color=\"Blue\", label=\"All\")\n",
    "sns.distplot(train_kinds['count'], color=\"Red\")\n",
    "sns.distplot(test_kinds['count'], color=\"Green\")"
   ]
  },
  {
   "cell_type": "markdown",
   "metadata": {},
   "source": [
    "The following bar charts are also showing the distribution of flower kinds are the same (With different scaling) on test and training data sets"
   ]
  },
  {
   "cell_type": "code",
   "execution_count": 279,
   "metadata": {},
   "outputs": [
    {
     "data": {
      "text/plain": [
       "[Text(0, 0, 'daisy'),\n",
       " Text(0, 0, 'dandelion'),\n",
       " Text(0, 0, 'roses'),\n",
       " Text(0, 0, 'sunflowers'),\n",
       " Text(0, 0, 'tulips')]"
      ]
     },
     "execution_count": 279,
     "metadata": {},
     "output_type": "execute_result"
    },
    {
     "data": {
      "image/png": "[encoded data removed]",
      "text/plain": [
       "<Figure size 1202.4x504 with 3 Axes>"
      ]
     },
     "metadata": {
      "needs_background": "light"
     },
     "output_type": "display_data"
    }
   ],
   "source": [
    "\n",
    "fig, (ax1, ax2, ax3) = plt.subplots(ncols=3, sharey=True, figsize=(16.7, 7))\n",
    "\n",
    "a1 = sns.barplot(x=\"kind\", y=\"count\", hue=\"kind\", data=df_kinds, palette=\"Blues\", ax=ax1)\n",
    "a2 = sns.barplot(x=\"kind\", y=\"count\", hue=\"kind\", data=train_kinds, palette=\"Reds\", ax=ax2)\n",
    "a3 = sns.barplot(x=\"kind\", y=\"count\", hue=\"kind\", data=test_kinds, palette=\"Greens\", ax=ax3)\n",
    "\n",
    "a1.set_xticklabels(a1.get_xticklabels(), rotation=45)\n",
    "a2.set_xticklabels(a2.get_xticklabels(), rotation=45)\n",
    "a3.set_xticklabels(a3.get_xticklabels(), rotation=45)\n",
    "\n"
   ]
  },
  {
   "cell_type": "markdown",
   "metadata": {},
   "source": [
    "#### Now we know our dataset is correct so we could create the trainable folder for Keras.\n",
    "\n",
    "We could create a trainable folder structure for `Keras` now that we know our training and test set are having same flower type distribution.\n",
    "\n",
    "For that we could loop throught both train and test data frames and create `data\\train\\{flower kind}` and `data\\validate\\{flower kind}` folders respectively."
   ]
  },
  {
   "cell_type": "code",
   "execution_count": 304,
   "metadata": {},
   "outputs": [],
   "source": [
    "def create_files_for_training(df, train_test_name):\n",
    "    for index, row in df.iterrows():\n",
    "        source_loc = row['path']+row['image']\n",
    "        dest_loc = 'data/' + train_test_name + '/' + row['kind'] + '/' + row['image']\n",
    "        img = resize_photo(source_loc, dest_loc, 150, 150)\n",
    "        clear_output(wait=True)\n",
    "        print('Create flower image in '+ dest_loc + ' folder.\\r\\n')\n",
    "    print('Creating images for '+train_test_name+' in ' + 'data/' + train_test_name  + ' folder is done.')\n",
    "    return 'data/' + train_test_name"
   ]
  },
  {
   "cell_type": "markdown",
   "metadata": {},
   "source": [
    "Create the train and test folders:"
   ]
  },
  {
   "cell_type": "code",
   "execution_count": 305,
   "metadata": {},
   "outputs": [
    {
     "name": "stdout",
     "output_type": "stream",
     "text": [
      "Create flower image in data/validate/tulips/15632065904_0d9caf174b.jpg folder.\r\n",
      "\n",
      "Creating images for validate in data/validate folder is done.\n",
      "The training folder is: data/train and validation folder is: data/validate\n"
     ]
    }
   ],
   "source": [
    "train_folder = create_files_for_training(train, 'train')\n",
    "validate_folder = create_files_for_training(test, 'validate')\n",
    "\n",
    "print('The training folder is: '+ train_folder + ' and validation folder is: '+validate_folder)"
   ]
  },
  {
   "cell_type": "markdown",
   "metadata": {},
   "source": [
    "## Model"
   ]
  },
  {
   "cell_type": "markdown",
   "metadata": {},
   "source": [
    "###  Use a VGG16 model (pre-trained on ImageNet)\n",
    "Use VGG16 class has a parameter called `include_top` which could remove the top layers (fully connected layers) when is set `False`. \n",
    "Trying to remove the layer using `layers.pop()` function is not as straight so use this feature to remove the top layers:"
   ]
  },
  {
   "cell_type": "code",
   "execution_count": 319,
   "metadata": {},
   "outputs": [
    {
     "name": "stdout",
     "output_type": "stream",
     "text": [
      "Model: \"vgg16\"\n",
      "_________________________________________________________________\n",
      "Layer (type)                 Output Shape              Param #   \n",
      "=================================================================\n",
      "input_23 (InputLayer)        (None, 150, 150, 3)       0         \n",
      "_________________________________________________________________\n",
      "block1_conv1 (Conv2D)        (None, 150, 150, 64)      1792      \n",
      "_________________________________________________________________\n",
      "block1_conv2 (Conv2D)        (None, 150, 150, 64)      36928     \n",
      "_________________________________________________________________\n",
      "block1_pool (MaxPooling2D)   (None, 75, 75, 64)        0         \n",
      "_________________________________________________________________\n",
      "block2_conv1 (Conv2D)        (None, 75, 75, 128)       73856     \n",
      "_________________________________________________________________\n",
      "block2_conv2 (Conv2D)        (None, 75, 75, 128)       147584    \n",
      "_________________________________________________________________\n",
      "block2_pool (MaxPooling2D)   (None, 37, 37, 128)       0         \n",
      "_________________________________________________________________\n",
      "block3_conv1 (Conv2D)        (None, 37, 37, 256)       295168    \n",
      "_________________________________________________________________\n",
      "block3_conv2 (Conv2D)        (None, 37, 37, 256)       590080    \n",
      "_________________________________________________________________\n",
      "block3_conv3 (Conv2D)        (None, 37, 37, 256)       590080    \n",
      "_________________________________________________________________\n",
      "block3_pool (MaxPooling2D)   (None, 18, 18, 256)       0         \n",
      "_________________________________________________________________\n",
      "block4_conv1 (Conv2D)        (None, 18, 18, 512)       1180160   \n",
      "_________________________________________________________________\n",
      "block4_conv2 (Conv2D)        (None, 18, 18, 512)       2359808   \n",
      "_________________________________________________________________\n",
      "block4_conv3 (Conv2D)        (None, 18, 18, 512)       2359808   \n",
      "_________________________________________________________________\n",
      "block4_pool (MaxPooling2D)   (None, 9, 9, 512)         0         \n",
      "_________________________________________________________________\n",
      "block5_conv1 (Conv2D)        (None, 9, 9, 512)         2359808   \n",
      "_________________________________________________________________\n",
      "block5_conv2 (Conv2D)        (None, 9, 9, 512)         2359808   \n",
      "_________________________________________________________________\n",
      "block5_conv3 (Conv2D)        (None, 9, 9, 512)         2359808   \n",
      "_________________________________________________________________\n",
      "block5_pool (MaxPooling2D)   (None, 4, 4, 512)         0         \n",
      "=================================================================\n",
      "Total params: 14,714,688\n",
      "Trainable params: 14,714,688\n",
      "Non-trainable params: 0\n",
      "_________________________________________________________________\n"
     ]
    }
   ],
   "source": [
    "from keras.applications.vgg16 import VGG16\n",
    "from keras.preprocessing import image\n",
    "from keras.applications.vgg16 import preprocess_input\n",
    "from keras.layers import Input, Flatten, Dense\n",
    "from keras.models import Model\n",
    "import numpy as np\n",
    "\n",
    "#Get back the convolutional part of a VGG network trained on ImageNet\n",
    "input_tensor = Input(shape=(150,150,3))\n",
    "model_vgg16_conv = VGG16(weights='imagenet', include_top=False, input_tensor=input_tensor)\n",
    "model_vgg16_conv.summary()\n"
   ]
  },
  {
   "cell_type": "markdown",
   "metadata": {},
   "source": [
    "### Add fully connected layers\n",
    "One with 256 nodes using ‘relu’ activation and output layer with 5 nodes and ‘softmax’ activation"
   ]
  },
  {
   "cell_type": "code",
   "execution_count": 320,
   "metadata": {},
   "outputs": [],
   "source": [
    "\n",
    "last = model_vgg16_conv.output\n",
    "\n",
    "x = Flatten(name='flatten_layer')(last)\n",
    "x = Dense(256, activation='relu')(x)\n",
    "preds = Dense(5, activation='softmax')(x)\n",
    "\n",
    "new_model = Model(model_vgg16_conv.input, preds)"
   ]
  },
  {
   "cell_type": "code",
   "execution_count": 321,
   "metadata": {},
   "outputs": [
    {
     "name": "stdout",
     "output_type": "stream",
     "text": [
      "Model: \"model_14\"\n",
      "_________________________________________________________________\n",
      "Layer (type)                 Output Shape              Param #   \n",
      "=================================================================\n",
      "input_23 (InputLayer)        (None, 150, 150, 3)       0         \n",
      "_________________________________________________________________\n",
      "block1_conv1 (Conv2D)        (None, 150, 150, 64)      1792      \n",
      "_________________________________________________________________\n",
      "block1_conv2 (Conv2D)        (None, 150, 150, 64)      36928     \n",
      "_________________________________________________________________\n",
      "block1_pool (MaxPooling2D)   (None, 75, 75, 64)        0         \n",
      "_________________________________________________________________\n",
      "block2_conv1 (Conv2D)        (None, 75, 75, 128)       73856     \n",
      "_________________________________________________________________\n",
      "block2_conv2 (Conv2D)        (None, 75, 75, 128)       147584    \n",
      "_________________________________________________________________\n",
      "block2_pool (MaxPooling2D)   (None, 37, 37, 128)       0         \n",
      "_________________________________________________________________\n",
      "block3_conv1 (Conv2D)        (None, 37, 37, 256)       295168    \n",
      "_________________________________________________________________\n",
      "block3_conv2 (Conv2D)        (None, 37, 37, 256)       590080    \n",
      "_________________________________________________________________\n",
      "block3_conv3 (Conv2D)        (None, 37, 37, 256)       590080    \n",
      "_________________________________________________________________\n",
      "block3_pool (MaxPooling2D)   (None, 18, 18, 256)       0         \n",
      "_________________________________________________________________\n",
      "block4_conv1 (Conv2D)        (None, 18, 18, 512)       1180160   \n",
      "_________________________________________________________________\n",
      "block4_conv2 (Conv2D)        (None, 18, 18, 512)       2359808   \n",
      "_________________________________________________________________\n",
      "block4_conv3 (Conv2D)        (None, 18, 18, 512)       2359808   \n",
      "_________________________________________________________________\n",
      "block4_pool (MaxPooling2D)   (None, 9, 9, 512)         0         \n",
      "_________________________________________________________________\n",
      "block5_conv1 (Conv2D)        (None, 9, 9, 512)         2359808   \n",
      "_________________________________________________________________\n",
      "block5_conv2 (Conv2D)        (None, 9, 9, 512)         2359808   \n",
      "_________________________________________________________________\n",
      "block5_conv3 (Conv2D)        (None, 9, 9, 512)         2359808   \n",
      "_________________________________________________________________\n",
      "block5_pool (MaxPooling2D)   (None, 4, 4, 512)         0         \n",
      "_________________________________________________________________\n",
      "flatten_layer (Flatten)      (None, 8192)              0         \n",
      "_________________________________________________________________\n",
      "dense_54 (Dense)             (None, 256)               2097408   \n",
      "_________________________________________________________________\n",
      "dense_55 (Dense)             (None, 5)                 1285      \n",
      "=================================================================\n",
      "Total params: 16,813,381\n",
      "Trainable params: 16,813,381\n",
      "Non-trainable params: 0\n",
      "_________________________________________________________________\n"
     ]
    }
   ],
   "source": [
    "new_model.summary()"
   ]
  },
  {
   "cell_type": "markdown",
   "metadata": {},
   "source": [
    "### Freez all VGG16 layers\n",
    "Train (fine-tune) and evaluate the model"
   ]
  },
  {
   "cell_type": "code",
   "execution_count": 326,
   "metadata": {},
   "outputs": [
    {
     "name": "stdout",
     "output_type": "stream",
     "text": [
      "The input_23 layer freezing status is False\n",
      "The block1_conv1 layer freezing status is True\n",
      "The block1_conv2 layer freezing status is True\n",
      "The block1_pool layer freezing status is True\n",
      "The block2_conv1 layer freezing status is True\n",
      "The block2_conv2 layer freezing status is True\n",
      "The block2_pool layer freezing status is True\n",
      "The block3_conv1 layer freezing status is True\n",
      "The block3_conv2 layer freezing status is True\n",
      "The block3_conv3 layer freezing status is True\n",
      "The block3_pool layer freezing status is True\n",
      "The block4_conv1 layer freezing status is True\n",
      "The block4_conv2 layer freezing status is True\n",
      "The block4_conv3 layer freezing status is True\n",
      "The block4_pool layer freezing status is True\n",
      "The block5_conv1 layer freezing status is True\n",
      "The block5_conv2 layer freezing status is True\n",
      "The block5_conv3 layer freezing status is True\n",
      "The block5_pool layer freezing status is True\n",
      "The flatten_layer layer freezing status is True\n",
      "The dense_54 layer freezing status is True\n",
      "The dense_55 layer freezing status is True\n"
     ]
    }
   ],
   "source": [
    "# This function displays the trainability of the layers\n",
    "def print_layers_trainability(model):\n",
    "    for layer in model.layers:\n",
    "        print('The ' + layer.name + ' layer freezing status is ' + str(layer.trainable))\n",
    "\n",
    "print_layers_trainability(new_model)"
   ]
  },
  {
   "cell_type": "code",
   "execution_count": 327,
   "metadata": {},
   "outputs": [
    {
     "name": "stdout",
     "output_type": "stream",
     "text": [
      "Freezing input_23 layer\n",
      "Freezing block1_conv1 layer\n",
      "Freezing block1_conv2 layer\n",
      "Freezing block1_pool layer\n",
      "Freezing block2_conv1 layer\n",
      "Freezing block2_conv2 layer\n",
      "Freezing block2_pool layer\n",
      "Freezing block3_conv1 layer\n",
      "Freezing block3_conv2 layer\n",
      "Freezing block3_conv3 layer\n",
      "Freezing block3_pool layer\n",
      "Freezing block4_conv1 layer\n",
      "Freezing block4_conv2 layer\n",
      "Freezing block4_conv3 layer\n",
      "Freezing block4_pool layer\n",
      "Freezing block5_conv1 layer\n",
      "Freezing block5_conv2 layer\n",
      "Freezing block5_conv3 layer\n",
      "Freezing block5_pool layer\n",
      "The input_23 layer freezing status is False\n",
      "The block1_conv1 layer freezing status is False\n",
      "The block1_conv2 layer freezing status is False\n",
      "The block1_pool layer freezing status is False\n",
      "The block2_conv1 layer freezing status is False\n",
      "The block2_conv2 layer freezing status is False\n",
      "The block2_pool layer freezing status is False\n",
      "The block3_conv1 layer freezing status is False\n",
      "The block3_conv2 layer freezing status is False\n",
      "The block3_conv3 layer freezing status is False\n",
      "The block3_pool layer freezing status is False\n",
      "The block4_conv1 layer freezing status is False\n",
      "The block4_conv2 layer freezing status is False\n",
      "The block4_conv3 layer freezing status is False\n",
      "The block4_pool layer freezing status is False\n",
      "The block5_conv1 layer freezing status is False\n",
      "The block5_conv2 layer freezing status is False\n",
      "The block5_conv3 layer freezing status is False\n",
      "The block5_pool layer freezing status is False\n",
      "The flatten_layer layer freezing status is True\n",
      "The dense_54 layer freezing status is True\n",
      "The dense_55 layer freezing status is True\n"
     ]
    }
   ],
   "source": [
    "# LOCK THE TOP CONV LAYERS\n",
    "for layer in new_model.layers:\n",
    "    if layer.name == 'flatten_layer':\n",
    "        break;\n",
    "    print('Freezing ' + layer.name + ' layer')\n",
    "    layer.trainable = False\n",
    "    \n",
    "print_layers_trainability(new_model)"
   ]
  },
  {
   "cell_type": "code",
   "execution_count": 324,
   "metadata": {},
   "outputs": [
    {
     "data": {
      "text/plain": [
       "'data/validate'"
      ]
     },
     "execution_count": 324,
     "metadata": {},
     "output_type": "execute_result"
    }
   ],
   "source": [
    "print('Train folder: ' + train_folder + '\\r\\n')\n",
    "print('Validation folder:' + validate_folder + '\\r\\n')"
   ]
  },
  {
   "cell_type": "code",
   "execution_count": 325,
   "metadata": {},
   "outputs": [
    {
     "name": "stdout",
     "output_type": "stream",
     "text": [
      "Found 3440 images belonging to 5 classes.\n",
      "Found 1606 images belonging to 5 classes.\n",
      "Epoch 1/3\n",
      "108/108 [==============================] - 936s 9s/step - loss: 1.2661 - accuracy: 0.5047 - val_loss: 0.5446 - val_accuracy: 0.7092\n",
      "Epoch 2/3\n",
      "108/108 [==============================] - 910s 8s/step - loss: 0.6311 - accuracy: 0.7683 - val_loss: 0.1868 - val_accuracy: 0.7983\n",
      "Epoch 3/3\n",
      "108/108 [==============================] - 988s 9s/step - loss: 0.4745 - accuracy: 0.8297 - val_loss: 0.1037 - val_accuracy: 0.8306\n"
     ]
    }
   ],
   "source": [
    "from keras import applications, optimizers\n",
    "from keras.preprocessing.image import ImageDataGenerator\n",
    "from keras.models import Sequential\n",
    "from keras.layers import Dropout, Flatten, Dense, Input\n",
    "import keras\n",
    "\n",
    "batch_size = 32\n",
    "epochs = 3\n",
    "# COMPILE THE MODEL - Use categorical crossentropy because we have four classes of flower kinds\n",
    "new_model.compile(loss='categorical_crossentropy',\n",
    "              optimizer=optimizers.SGD(lr=1e-4, momentum=0.9),\n",
    "              metrics=['accuracy'])\n",
    "\n",
    "# CREATE THE IMAGE GENERATORS\n",
    "train_datagen = ImageDataGenerator(rescale=1./255,\n",
    "                                   shear_range=0.2,\n",
    "                                   zoom_range=0.2,\n",
    "                                   horizontal_flip=True)\n",
    "validation_datagen = ImageDataGenerator(rescale=1./255)\n",
    "\n",
    "train_generator = train_datagen.flow_from_directory(\n",
    "                        train_folder,\n",
    "                        target_size=(img_height,img_width),\n",
    "                        batch_size=batch_size)\n",
    "\n",
    "validation_generator = validation_datagen.flow_from_directory(\n",
    "                            validate_folder,\n",
    "                            target_size=(img_height,img_width),\n",
    "                            batch_size=batch_size)\n",
    "\n",
    "\n",
    "#  FIT THE MODEL\n",
    "history = new_model.fit_generator(\n",
    "    train_generator,\n",
    "    epochs=epochs,\n",
    "    validation_data=validation_generator)"
   ]
  },
  {
   "cell_type": "markdown",
   "metadata": {},
   "source": [
    "Save the model for future use:"
   ]
  },
  {
   "cell_type": "code",
   "execution_count": 317,
   "metadata": {},
   "outputs": [],
   "source": [
    "new_model.save('flower_category1.model')"
   ]
  },
  {
   "cell_type": "markdown",
   "metadata": {},
   "source": [
    "#### Experiments\n",
    "- First try with 5 epoch the model had `0.89` percent accuracy and `0.36` percent loss. But reduce the epochs to 3 to have faster training performance.\n",
    "- Second experiment is with 3 epochs. The model had `0.84` percent accuracy and `0.10` percent loss.\n",
    "-  The Loss and Accuracy plot shows the model is improving in each epoch"
   ]
  },
  {
   "cell_type": "code",
   "execution_count": 344,
   "metadata": {},
   "outputs": [
    {
     "data": {
      "image/png": "[encoded data removed]",
      "text/plain": [
       "<Figure size 432x288 with 1 Axes>"
      ]
     },
     "metadata": {},
     "output_type": "display_data"
    }
   ],
   "source": [
    "### plt.style.use(\"ggplot\")\n",
    "def plot_model(training_history):\n",
    "    plt.figure()\n",
    "    plt.plot(np.arange(0, 3), training_history.history[\"loss\"], label=\"train_loss\")\n",
    "    plt.plot(np.arange(0, 3), training_history.history[\"val_loss\"], label=\"val_loss\")\n",
    "    plt.plot(np.arange(0, 3), training_history.history[\"accuracy\"], label=\"train_acc\")\n",
    "    plt.plot(np.arange(0, 3), training_history.history[\"val_accuracy\"], label=\"val_acc\")\n",
    "    plt.title(\"Training Loss and Accuracy on Dataset\")\n",
    "    plt.xlabel(\"Epoch #\")\n",
    "    plt.ylabel(\"Loss/Accuracy\")\n",
    "    plt.legend(loc=\"lower left\")\n",
    "    \n",
    "plot_model(history)"
   ]
  },
  {
   "cell_type": "markdown",
   "metadata": {},
   "source": [
    "### Unfreeze the last block of VGG16 (block5)\n",
    "\n",
    "Re-train and evaluate the model"
   ]
  },
  {
   "cell_type": "code",
   "execution_count": 340,
   "metadata": {},
   "outputs": [
    {
     "name": "stdout",
     "output_type": "stream",
     "text": [
      "The input_17 layer freezing status is False\n",
      "The block1_conv1 layer freezing status is False\n",
      "The block1_conv2 layer freezing status is False\n",
      "The block1_pool layer freezing status is False\n",
      "The block2_conv1 layer freezing status is False\n",
      "The block2_conv2 layer freezing status is False\n",
      "The block2_pool layer freezing status is False\n",
      "The block3_conv1 layer freezing status is False\n",
      "The block3_conv2 layer freezing status is False\n",
      "The block3_conv3 layer freezing status is False\n",
      "The block3_pool layer freezing status is False\n",
      "The block4_conv1 layer freezing status is False\n",
      "The block4_conv2 layer freezing status is False\n",
      "The block4_conv3 layer freezing status is False\n",
      "The block4_pool layer freezing status is False\n",
      "The block5_conv1 layer freezing status is True\n",
      "The block5_conv2 layer freezing status is True\n",
      "The block5_conv3 layer freezing status is True\n",
      "The block5_pool layer freezing status is True\n",
      "The flatten_layer layer freezing status is True\n",
      "The dense_40 layer freezing status is True\n",
      "The dense_41 layer freezing status is True\n"
     ]
    }
   ],
   "source": [
    "\n",
    "model.get_layer('block5_conv1').trainable = True\n",
    "model.get_layer('block5_conv2').trainable = True\n",
    "model.get_layer('block5_conv3').trainable = True\n",
    "model.get_layer('block5_pool').trainable = True\n",
    "\n",
    "print_layers_trainability(model)"
   ]
  },
  {
   "cell_type": "code",
   "execution_count": 341,
   "metadata": {},
   "outputs": [
    {
     "name": "stdout",
     "output_type": "stream",
     "text": [
      "Epoch 1/3\n",
      "108/108 [==============================] - 949s 9s/step - loss: 0.4142 - accuracy: 0.8468 - val_loss: 0.2434 - val_accuracy: 0.8263\n",
      "Epoch 2/3\n",
      "108/108 [==============================] - 905s 8s/step - loss: 0.3648 - accuracy: 0.8666 - val_loss: 0.0970 - val_accuracy: 0.8599\n",
      "Epoch 3/3\n",
      "108/108 [==============================] - 956s 9s/step - loss: 0.3334 - accuracy: 0.8791 - val_loss: 0.3396 - val_accuracy: 0.8780\n"
     ]
    }
   ],
   "source": [
    "#  FIT THE MODEL\n",
    "history2 = new_model.fit_generator(\n",
    "    train_generator,\n",
    "    epochs=epochs,\n",
    "    validation_data=validation_generator)"
   ]
  },
  {
   "cell_type": "code",
   "execution_count": null,
   "metadata": {},
   "outputs": [],
   "source": [
    "new_model.save('flower_category2.model')"
   ]
  },
  {
   "cell_type": "markdown",
   "metadata": {},
   "source": [
    "#### Experiments\n",
    "The experiment for unfreeze the last block of VGG16 with 3 epochs:\n",
    "- The model had `0.88` percent accuracy and `0.34` percent loss.\n",
    "- It seems adding the last block layer improved the performance eventhough the loss was more\n",
    "- The Loss and Accuracy plot shows the model is improving in each epoch"
   ]
  },
  {
   "cell_type": "code",
   "execution_count": 345,
   "metadata": {},
   "outputs": [
    {
     "data": {
      "image/png": "[encoded data removed]",
      "text/plain": [
       "<Figure size 432x288 with 1 Axes>"
      ]
     },
     "metadata": {},
     "output_type": "display_data"
    }
   ],
   "source": [
    "\n",
    "plot_model(history2)"
   ]
  },
  {
   "cell_type": "markdown",
   "metadata": {},
   "source": [
    "### Unfreeze all the layers and try again. "
   ]
  },
  {
   "cell_type": "code",
   "execution_count": 346,
   "metadata": {},
   "outputs": [
    {
     "name": "stdout",
     "output_type": "stream",
     "text": [
      "Un-freezing input_23 layer\n",
      "Un-freezing block1_conv1 layer\n",
      "Un-freezing block1_conv2 layer\n",
      "Un-freezing block1_pool layer\n",
      "Un-freezing block2_conv1 layer\n",
      "Un-freezing block2_conv2 layer\n",
      "Un-freezing block2_pool layer\n",
      "Un-freezing block3_conv1 layer\n",
      "Un-freezing block3_conv2 layer\n",
      "Un-freezing block3_conv3 layer\n",
      "Un-freezing block3_pool layer\n",
      "Un-freezing block4_conv1 layer\n",
      "Un-freezing block4_conv2 layer\n",
      "Un-freezing block4_conv3 layer\n",
      "Un-freezing block4_pool layer\n",
      "Un-freezing block5_conv1 layer\n",
      "Un-freezing block5_conv2 layer\n",
      "Un-freezing block5_conv3 layer\n",
      "Un-freezing block5_pool layer\n",
      "Un-freezing flatten_layer layer\n",
      "Un-freezing dense_54 layer\n",
      "Un-freezing dense_55 layer\n",
      "The input_23 layer freezing status is True\n",
      "The block1_conv1 layer freezing status is True\n",
      "The block1_conv2 layer freezing status is True\n",
      "The block1_pool layer freezing status is True\n",
      "The block2_conv1 layer freezing status is True\n",
      "The block2_conv2 layer freezing status is True\n",
      "The block2_pool layer freezing status is True\n",
      "The block3_conv1 layer freezing status is True\n",
      "The block3_conv2 layer freezing status is True\n",
      "The block3_conv3 layer freezing status is True\n",
      "The block3_pool layer freezing status is True\n",
      "The block4_conv1 layer freezing status is True\n",
      "The block4_conv2 layer freezing status is True\n",
      "The block4_conv3 layer freezing status is True\n",
      "The block4_pool layer freezing status is True\n",
      "The block5_conv1 layer freezing status is True\n",
      "The block5_conv2 layer freezing status is True\n",
      "The block5_conv3 layer freezing status is True\n",
      "The block5_pool layer freezing status is True\n",
      "The flatten_layer layer freezing status is True\n",
      "The dense_54 layer freezing status is True\n",
      "The dense_55 layer freezing status is True\n"
     ]
    }
   ],
   "source": [
    "# Unfreez all layers\n",
    "for layer in new_model.layers:\n",
    "    print('Un-freezing ' + layer.name + ' layer')\n",
    "    layer.trainable = True\n",
    "    \n",
    "print_layers_trainability(new_model)"
   ]
  },
  {
   "cell_type": "code",
   "execution_count": 347,
   "metadata": {},
   "outputs": [
    {
     "name": "stdout",
     "output_type": "stream",
     "text": [
      "Epoch 1/3\n",
      "108/108 [==============================] - 890s 8s/step - loss: 0.2764 - accuracy: 0.9032 - val_loss: 0.1988 - val_accuracy: 0.9029\n",
      "Epoch 2/3\n",
      "108/108 [==============================] - 887s 8s/step - loss: 0.2497 - accuracy: 0.9119 - val_loss: 0.0399 - val_accuracy: 0.9085\n",
      "Epoch 3/3\n",
      "108/108 [==============================] - 949s 9s/step - loss: 0.2248 - accuracy: 0.9166 - val_loss: 0.1996 - val_accuracy: 0.9303\n"
     ]
    }
   ],
   "source": [
    "#  FIT THE MODEL\n",
    "history3 = new_model.fit_generator(\n",
    "    train_generator,\n",
    "    epochs=epochs,\n",
    "    validation_data=validation_generator)"
   ]
  },
  {
   "cell_type": "markdown",
   "metadata": {},
   "source": [
    "#### Experiments\n",
    "The experiment for unfreeze all layers epochs:\n",
    "- The model had `0.93` percent accuracy and `0.20` percent loss.\n",
    "- The performance significantly increase after adding all layers to the training\n",
    "- The Loss and Accuracy plot shows the model is improving in each epoch"
   ]
  },
  {
   "cell_type": "code",
   "execution_count": 348,
   "metadata": {},
   "outputs": [
    {
     "data": {
      "image/png": "[encoded data removed]",
      "text/plain": [
       "<Figure size 432x288 with 1 Axes>"
      ]
     },
     "metadata": {},
     "output_type": "display_data"
    }
   ],
   "source": [
    "plot_model(history3)"
   ]
  },
  {
   "cell_type": "markdown",
   "metadata": {},
   "source": [
    "## Compare the accuracy you got in both cases . \n",
    "Which one is better and why?\n",
    "\n",
    "As stated above, it seems the model with layers participating on training performed the best but most likely less efficient for more data."
   ]
  },
  {
   "cell_type": "code",
   "execution_count": null,
   "metadata": {},
   "outputs": [],
   "source": []
  }
 ],
 "metadata": {
  "colab": {
   "include_colab_link": true,
   "name": "Assignment 2 - Babak Ansari - Convolutional Neural Nets and Transfer Learning",
   "provenance": []
  },
  "kernelspec": {
   "display_name": "Python 3",
   "language": "python",
   "name": "python3"
  },
  "language_info": {
   "codemirror_mode": {
    "name": "ipython",
    "version": 3
   },
   "file_extension": ".py",
   "mimetype": "text/x-python",
   "name": "python",
   "nbconvert_exporter": "python",
   "pygments_lexer": "ipython3",
   "version": "3.7.4"
  }
 },
 "nbformat": 4,
 "nbformat_minor": 1
}
