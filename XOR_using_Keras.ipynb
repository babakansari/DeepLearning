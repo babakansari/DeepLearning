{
  "nbformat": 4,
  "nbformat_minor": 0,
  "metadata": {
    "colab": {
      "name": "XOR using Keras",
      "provenance": [],
      "collapsed_sections": [],
      "include_colab_link": true
    },
    "kernelspec": {
      "name": "python3",
      "display_name": "Python 3"
    },
    "accelerator": "GPU"
  },
  "cells": [
    {
      "cell_type": "markdown",
      "metadata": {
        "id": "view-in-github",
        "colab_type": "text"
      },
      "source": [
        "<a href=\"https://colab.research.google.com/github/babakansari/DeepLearning/blob/master/XOR_using_Keras.ipynb\" target=\"_parent\"><img src=\"https://colab.research.google.com/assets/colab-badge.svg\" alt=\"Open In Colab\"/></a>"
      ]
    },
    {
      "cell_type": "code",
      "metadata": {
        "id": "-DrdU0DyXnu6",
        "colab_type": "code",
        "colab": {}
      },
      "source": [
        "import numpy as np\n",
        "\n",
        "inputs = np.array([[0,0],[0,1],[1,0],[1,1]])\n",
        "expected_output = np.array([[0],[1],[1],[0]])"
      ],
      "execution_count": 0,
      "outputs": []
    },
    {
      "cell_type": "markdown",
      "metadata": {
        "id": "xgtXRbcIZjsv",
        "colab_type": "text"
      },
      "source": [
        "Train and Test are the same in this exercise "
      ]
    },
    {
      "cell_type": "code",
      "metadata": {
        "id": "XO4pq1lvZlW6",
        "colab_type": "code",
        "colab": {}
      },
      "source": [
        "from keras.models import Sequential\n",
        "from keras.layers import Dense\n",
        "from keras.layers.core import Dense, Dropout, Activation\n",
        "from keras.optimizers import SGD\n",
        "# Still a WIP\n",
        "# model = Sequential([\n",
        "#   Dense(2, activation='relu', input_shape=(2,)),\n",
        "#   Dense(3, activation='tanh'),\n",
        "#   Dense(1, activation='softmax'),\n",
        "# ])\n",
        "\n",
        "# model = Sequential([\n",
        "#   Dense(8, input_dim=2),\n",
        "#   Dense(3, activation='tanh'),\n",
        "#   Dense(1, activation='softmax'),\n",
        "# ])\n",
        "\n",
        "model = Sequential()\n",
        "model.add(Dense(8, input_dim=2))\n",
        "model.add(Dense(12, activation='relu'))\n",
        "#model.add(Activation('tanh'))\n",
        "model.add(Dense(1,  activation='sigmoid'))\n",
        "#model.add(Activation('sigmoid'))"
      ],
      "execution_count": 0,
      "outputs": []
    },
    {
      "cell_type": "code",
      "metadata": {
        "id": "YypYx3CfZ39e",
        "colab_type": "code",
        "outputId": "601d85f5-2604-4d81-c6f7-2a113ec9f3a8",
        "colab": {
          "base_uri": "https://localhost:8080/",
          "height": 255
        }
      },
      "source": [
        "model.compile(\n",
        "  # optimizer='adam',\n",
        "  optimizer=SGD(lr=0.1),\n",
        "  # loss='categorical_crossentropy',\n",
        "  loss='binary_crossentropy',\n",
        "  metrics=['accuracy'],\n",
        ")\n",
        "\n",
        "model.summary()"
      ],
      "execution_count": 59,
      "outputs": [
        {
          "output_type": "stream",
          "text": [
            "Model: \"sequential_17\"\n",
            "_________________________________________________________________\n",
            "Layer (type)                 Output Shape              Param #   \n",
            "=================================================================\n",
            "dense_44 (Dense)             (None, 8)                 24        \n",
            "_________________________________________________________________\n",
            "dense_45 (Dense)             (None, 12)                108       \n",
            "_________________________________________________________________\n",
            "dense_46 (Dense)             (None, 1)                 13        \n",
            "=================================================================\n",
            "Total params: 145\n",
            "Trainable params: 145\n",
            "Non-trainable params: 0\n",
            "_________________________________________________________________\n"
          ],
          "name": "stdout"
        }
      ]
    },
    {
      "cell_type": "code",
      "metadata": {
        "id": "GLH89m54a1J5",
        "colab_type": "code",
        "outputId": "fd428aba-17e6-4a2b-b25a-599559c0efbf",
        "colab": {
          "base_uri": "https://localhost:8080/",
          "height": 1000
        }
      },
      "source": [
        "# model.fit(\n",
        "#   inputs, # training data\n",
        "#   expected_output, # training targets\n",
        "#   epochs=4,\n",
        "# )\n",
        "\n",
        "model.fit(inputs, expected_output, batch_size=1, nb_epoch=100)"
      ],
      "execution_count": 60,
      "outputs": [
        {
          "output_type": "stream",
          "text": [
            "/usr/local/lib/python3.6/dist-packages/ipykernel_launcher.py:2: UserWarning: The `nb_epoch` argument in `fit` has been renamed `epochs`.\n",
            "  \n"
          ],
          "name": "stderr"
        },
        {
          "output_type": "stream",
          "text": [
            "Epoch 1/100\n",
            "4/4 [==============================] - 1s 198ms/step - loss: 0.7404 - acc: 0.5000\n",
            "Epoch 2/100\n",
            "4/4 [==============================] - 0s 5ms/step - loss: 0.7176 - acc: 0.5000\n",
            "Epoch 3/100\n",
            "4/4 [==============================] - 0s 4ms/step - loss: 0.6933 - acc: 0.5000\n",
            "Epoch 4/100\n",
            "4/4 [==============================] - 0s 5ms/step - loss: 0.6741 - acc: 0.7500\n",
            "Epoch 5/100\n",
            "4/4 [==============================] - 0s 5ms/step - loss: 0.6688 - acc: 0.5000\n",
            "Epoch 6/100\n",
            "4/4 [==============================] - 0s 5ms/step - loss: 0.6512 - acc: 0.7500\n",
            "Epoch 7/100\n",
            "4/4 [==============================] - 0s 5ms/step - loss: 0.6371 - acc: 0.5000\n",
            "Epoch 8/100\n",
            "4/4 [==============================] - 0s 5ms/step - loss: 0.6124 - acc: 0.7500\n",
            "Epoch 9/100\n",
            "4/4 [==============================] - 0s 5ms/step - loss: 0.6078 - acc: 0.7500\n",
            "Epoch 10/100\n",
            "4/4 [==============================] - 0s 6ms/step - loss: 0.5829 - acc: 0.7500\n",
            "Epoch 11/100\n",
            "4/4 [==============================] - 0s 5ms/step - loss: 0.5860 - acc: 0.7500\n",
            "Epoch 12/100\n",
            "4/4 [==============================] - 0s 5ms/step - loss: 0.5517 - acc: 0.7500\n",
            "Epoch 13/100\n",
            "4/4 [==============================] - 0s 6ms/step - loss: 0.5616 - acc: 1.0000\n",
            "Epoch 14/100\n",
            "4/4 [==============================] - 0s 7ms/step - loss: 0.5205 - acc: 1.0000\n",
            "Epoch 15/100\n",
            "4/4 [==============================] - 0s 6ms/step - loss: 0.5248 - acc: 0.7500\n",
            "Epoch 16/100\n",
            "4/4 [==============================] - 0s 6ms/step - loss: 0.5012 - acc: 1.0000\n",
            "Epoch 17/100\n",
            "4/4 [==============================] - 0s 6ms/step - loss: 0.4814 - acc: 1.0000\n",
            "Epoch 18/100\n",
            "4/4 [==============================] - 0s 6ms/step - loss: 0.4719 - acc: 1.0000\n",
            "Epoch 19/100\n",
            "4/4 [==============================] - 0s 6ms/step - loss: 0.4520 - acc: 1.0000\n",
            "Epoch 20/100\n",
            "4/4 [==============================] - 0s 5ms/step - loss: 0.4356 - acc: 1.0000\n",
            "Epoch 21/100\n",
            "4/4 [==============================] - 0s 6ms/step - loss: 0.4089 - acc: 1.0000\n",
            "Epoch 22/100\n",
            "4/4 [==============================] - 0s 6ms/step - loss: 0.4249 - acc: 1.0000\n",
            "Epoch 23/100\n",
            "4/4 [==============================] - 0s 7ms/step - loss: 0.3837 - acc: 1.0000\n",
            "Epoch 24/100\n",
            "4/4 [==============================] - 0s 7ms/step - loss: 0.3629 - acc: 1.0000\n",
            "Epoch 25/100\n",
            "4/4 [==============================] - 0s 5ms/step - loss: 0.3656 - acc: 1.0000\n",
            "Epoch 26/100\n",
            "4/4 [==============================] - 0s 6ms/step - loss: 0.3493 - acc: 1.0000\n",
            "Epoch 27/100\n",
            "4/4 [==============================] - 0s 6ms/step - loss: 0.3208 - acc: 1.0000\n",
            "Epoch 28/100\n",
            "4/4 [==============================] - 0s 6ms/step - loss: 0.3032 - acc: 1.0000\n",
            "Epoch 29/100\n",
            "4/4 [==============================] - 0s 6ms/step - loss: 0.3011 - acc: 1.0000\n",
            "Epoch 30/100\n",
            "4/4 [==============================] - 0s 7ms/step - loss: 0.2748 - acc: 1.0000\n",
            "Epoch 31/100\n",
            "4/4 [==============================] - 0s 4ms/step - loss: 0.2523 - acc: 1.0000\n",
            "Epoch 32/100\n",
            "4/4 [==============================] - 0s 5ms/step - loss: 0.2350 - acc: 1.0000\n",
            "Epoch 33/100\n",
            "4/4 [==============================] - 0s 7ms/step - loss: 0.2165 - acc: 1.0000\n",
            "Epoch 34/100\n",
            "4/4 [==============================] - 0s 7ms/step - loss: 0.2101 - acc: 1.0000\n",
            "Epoch 35/100\n",
            "4/4 [==============================] - 0s 7ms/step - loss: 0.1882 - acc: 1.0000\n",
            "Epoch 36/100\n",
            "4/4 [==============================] - 0s 7ms/step - loss: 0.1781 - acc: 1.0000\n",
            "Epoch 37/100\n",
            "4/4 [==============================] - 0s 6ms/step - loss: 0.1629 - acc: 1.0000\n",
            "Epoch 38/100\n",
            "4/4 [==============================] - 0s 6ms/step - loss: 0.1445 - acc: 1.0000\n",
            "Epoch 39/100\n",
            "4/4 [==============================] - 0s 6ms/step - loss: 0.1386 - acc: 1.0000\n",
            "Epoch 40/100\n",
            "4/4 [==============================] - 0s 6ms/step - loss: 0.1242 - acc: 1.0000\n",
            "Epoch 41/100\n",
            "4/4 [==============================] - 0s 6ms/step - loss: 0.1183 - acc: 1.0000\n",
            "Epoch 42/100\n",
            "4/4 [==============================] - 0s 7ms/step - loss: 0.1048 - acc: 1.0000\n",
            "Epoch 43/100\n",
            "4/4 [==============================] - 0s 6ms/step - loss: 0.0954 - acc: 1.0000\n",
            "Epoch 44/100\n",
            "4/4 [==============================] - 0s 5ms/step - loss: 0.0939 - acc: 1.0000\n",
            "Epoch 45/100\n",
            "4/4 [==============================] - 0s 6ms/step - loss: 0.0844 - acc: 1.0000\n",
            "Epoch 46/100\n",
            "4/4 [==============================] - 0s 7ms/step - loss: 0.0785 - acc: 1.0000\n",
            "Epoch 47/100\n",
            "4/4 [==============================] - 0s 7ms/step - loss: 0.0709 - acc: 1.0000\n",
            "Epoch 48/100\n",
            "4/4 [==============================] - 0s 5ms/step - loss: 0.0688 - acc: 1.0000\n",
            "Epoch 49/100\n",
            "4/4 [==============================] - 0s 5ms/step - loss: 0.0638 - acc: 1.0000\n",
            "Epoch 50/100\n",
            "4/4 [==============================] - 0s 6ms/step - loss: 0.0588 - acc: 1.0000\n",
            "Epoch 51/100\n",
            "4/4 [==============================] - 0s 6ms/step - loss: 0.0547 - acc: 1.0000\n",
            "Epoch 52/100\n",
            "4/4 [==============================] - 0s 6ms/step - loss: 0.0519 - acc: 1.0000\n",
            "Epoch 53/100\n",
            "4/4 [==============================] - 0s 6ms/step - loss: 0.0481 - acc: 1.0000\n",
            "Epoch 54/100\n",
            "4/4 [==============================] - 0s 6ms/step - loss: 0.0455 - acc: 1.0000\n",
            "Epoch 55/100\n",
            "4/4 [==============================] - 0s 6ms/step - loss: 0.0442 - acc: 1.0000\n",
            "Epoch 56/100\n",
            "4/4 [==============================] - 0s 7ms/step - loss: 0.0404 - acc: 1.0000\n",
            "Epoch 57/100\n",
            "4/4 [==============================] - 0s 6ms/step - loss: 0.0388 - acc: 1.0000\n",
            "Epoch 58/100\n",
            "4/4 [==============================] - 0s 7ms/step - loss: 0.0366 - acc: 1.0000\n",
            "Epoch 59/100\n",
            "4/4 [==============================] - 0s 6ms/step - loss: 0.0347 - acc: 1.0000\n",
            "Epoch 60/100\n",
            "4/4 [==============================] - 0s 5ms/step - loss: 0.0331 - acc: 1.0000\n",
            "Epoch 61/100\n",
            "4/4 [==============================] - 0s 5ms/step - loss: 0.0312 - acc: 1.0000\n",
            "Epoch 62/100\n",
            "4/4 [==============================] - 0s 8ms/step - loss: 0.0309 - acc: 1.0000\n",
            "Epoch 63/100\n",
            "4/4 [==============================] - 0s 5ms/step - loss: 0.0290 - acc: 1.0000\n",
            "Epoch 64/100\n",
            "4/4 [==============================] - 0s 5ms/step - loss: 0.0274 - acc: 1.0000\n",
            "Epoch 65/100\n",
            "4/4 [==============================] - 0s 5ms/step - loss: 0.0262 - acc: 1.0000\n",
            "Epoch 66/100\n",
            "4/4 [==============================] - 0s 7ms/step - loss: 0.0259 - acc: 1.0000\n",
            "Epoch 67/100\n",
            "4/4 [==============================] - 0s 6ms/step - loss: 0.0243 - acc: 1.0000\n",
            "Epoch 68/100\n",
            "4/4 [==============================] - 0s 6ms/step - loss: 0.0233 - acc: 1.0000\n",
            "Epoch 69/100\n",
            "4/4 [==============================] - 0s 6ms/step - loss: 0.0223 - acc: 1.0000\n",
            "Epoch 70/100\n",
            "4/4 [==============================] - 0s 9ms/step - loss: 0.0218 - acc: 1.0000\n",
            "Epoch 71/100\n",
            "4/4 [==============================] - 0s 6ms/step - loss: 0.0207 - acc: 1.0000\n",
            "Epoch 72/100\n",
            "4/4 [==============================] - 0s 8ms/step - loss: 0.0203 - acc: 1.0000\n",
            "Epoch 73/100\n",
            "4/4 [==============================] - 0s 6ms/step - loss: 0.0193 - acc: 1.0000\n",
            "Epoch 74/100\n",
            "4/4 [==============================] - 0s 6ms/step - loss: 0.0188 - acc: 1.0000\n",
            "Epoch 75/100\n",
            "4/4 [==============================] - 0s 6ms/step - loss: 0.0182 - acc: 1.0000\n",
            "Epoch 76/100\n",
            "4/4 [==============================] - 0s 7ms/step - loss: 0.0176 - acc: 1.0000\n",
            "Epoch 77/100\n",
            "4/4 [==============================] - 0s 5ms/step - loss: 0.0169 - acc: 1.0000\n",
            "Epoch 78/100\n",
            "4/4 [==============================] - 0s 6ms/step - loss: 0.0167 - acc: 1.0000\n",
            "Epoch 79/100\n",
            "4/4 [==============================] - 0s 5ms/step - loss: 0.0159 - acc: 1.0000\n",
            "Epoch 80/100\n",
            "4/4 [==============================] - 0s 7ms/step - loss: 0.0157 - acc: 1.0000\n",
            "Epoch 81/100\n",
            "4/4 [==============================] - 0s 6ms/step - loss: 0.0150 - acc: 1.0000\n",
            "Epoch 82/100\n",
            "4/4 [==============================] - 0s 6ms/step - loss: 0.0146 - acc: 1.0000\n",
            "Epoch 83/100\n",
            "4/4 [==============================] - 0s 7ms/step - loss: 0.0142 - acc: 1.0000\n",
            "Epoch 84/100\n",
            "4/4 [==============================] - 0s 5ms/step - loss: 0.0139 - acc: 1.0000\n",
            "Epoch 85/100\n",
            "4/4 [==============================] - 0s 7ms/step - loss: 0.0135 - acc: 1.0000\n",
            "Epoch 86/100\n",
            "4/4 [==============================] - 0s 6ms/step - loss: 0.0131 - acc: 1.0000\n",
            "Epoch 87/100\n",
            "4/4 [==============================] - 0s 5ms/step - loss: 0.0128 - acc: 1.0000\n",
            "Epoch 88/100\n",
            "4/4 [==============================] - 0s 5ms/step - loss: 0.0125 - acc: 1.0000\n",
            "Epoch 89/100\n",
            "4/4 [==============================] - 0s 6ms/step - loss: 0.0121 - acc: 1.0000\n",
            "Epoch 90/100\n",
            "4/4 [==============================] - 0s 5ms/step - loss: 0.0119 - acc: 1.0000\n",
            "Epoch 91/100\n",
            "4/4 [==============================] - 0s 6ms/step - loss: 0.0116 - acc: 1.0000\n",
            "Epoch 92/100\n",
            "4/4 [==============================] - 0s 9ms/step - loss: 0.0112 - acc: 1.0000\n",
            "Epoch 93/100\n",
            "4/4 [==============================] - 0s 6ms/step - loss: 0.0110 - acc: 1.0000\n",
            "Epoch 94/100\n",
            "4/4 [==============================] - 0s 6ms/step - loss: 0.0108 - acc: 1.0000\n",
            "Epoch 95/100\n",
            "4/4 [==============================] - 0s 5ms/step - loss: 0.0105 - acc: 1.0000\n",
            "Epoch 96/100\n",
            "4/4 [==============================] - 0s 7ms/step - loss: 0.0104 - acc: 1.0000\n",
            "Epoch 97/100\n",
            "4/4 [==============================] - 0s 7ms/step - loss: 0.0100 - acc: 1.0000\n",
            "Epoch 98/100\n",
            "4/4 [==============================] - 0s 6ms/step - loss: 0.0098 - acc: 1.0000\n",
            "Epoch 99/100\n",
            "4/4 [==============================] - 0s 6ms/step - loss: 0.0097 - acc: 1.0000\n",
            "Epoch 100/100\n",
            "4/4 [==============================] - 0s 6ms/step - loss: 0.0094 - acc: 1.0000\n"
          ],
          "name": "stdout"
        },
        {
          "output_type": "execute_result",
          "data": {
            "text/plain": [
              "<keras.callbacks.History at 0x7f5b8d5c16d8>"
            ]
          },
          "metadata": {
            "tags": []
          },
          "execution_count": 60
        }
      ]
    },
    {
      "cell_type": "code",
      "metadata": {
        "id": "ZCMNAOvXbLGo",
        "colab_type": "code",
        "outputId": "8dd3008b-c7dc-4a0b-f8ea-99f3cb72c866",
        "colab": {
          "base_uri": "https://localhost:8080/",
          "height": 51
        }
      },
      "source": [
        "model.evaluate(\n",
        "  inputs,\n",
        "  expected_output\n",
        ")\n"
      ],
      "execution_count": 5,
      "outputs": [
        {
          "output_type": "stream",
          "text": [
            "\r4/4 [==============================] - 0s 12ms/step\n"
          ],
          "name": "stdout"
        },
        {
          "output_type": "execute_result",
          "data": {
            "text/plain": [
              "[0.05702676624059677, 1.0]"
            ]
          },
          "metadata": {
            "tags": []
          },
          "execution_count": 5
        }
      ]
    },
    {
      "cell_type": "code",
      "metadata": {
        "id": "atp_7Nvab6i3",
        "colab_type": "code",
        "outputId": "5cd8fe98-fe06-4caf-aa50-ea8089a488a0",
        "colab": {
          "base_uri": "https://localhost:8080/",
          "height": 85
        }
      },
      "source": [
        "# Predict on the first 5 test images.\n",
        "predictions = model.predict(inputs)\n",
        "\n",
        "predictions"
      ],
      "execution_count": 6,
      "outputs": [
        {
          "output_type": "execute_result",
          "data": {
            "text/plain": [
              "array([[0.02553245],\n",
              "       [0.93906635],\n",
              "       [0.9410823 ],\n",
              "       [0.07563585]], dtype=float32)"
            ]
          },
          "metadata": {
            "tags": []
          },
          "execution_count": 6
        }
      ]
    },
    {
      "cell_type": "code",
      "metadata": {
        "id": "4i4uTAo6cYw_",
        "colab_type": "code",
        "outputId": "57556535-db56-4bde-b371-801bbc61b1d8",
        "colab": {
          "base_uri": "https://localhost:8080/",
          "height": 34
        }
      },
      "source": [
        "# Print our model's predictions.\n",
        "print(np.argmax(predictions, axis=1)) # [7, 2, 1, 0, 4]\n",
        "\n",
        "# Check our predictions against the ground truths.\n",
        "#print(inputs[:5]) # [7, 2, 1, 0, 4]"
      ],
      "execution_count": 7,
      "outputs": [
        {
          "output_type": "stream",
          "text": [
            "[0 0 0 0]\n"
          ],
          "name": "stdout"
        }
      ]
    },
    {
      "cell_type": "code",
      "metadata": {
        "id": "Q8sJMrrudr0-",
        "colab_type": "code",
        "colab": {}
      },
      "source": [
        ""
      ],
      "execution_count": 0,
      "outputs": []
    }
  ]
}