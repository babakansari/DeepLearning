{
  "nbformat": 4,
  "nbformat_minor": 0,
  "metadata": {
    "colab": {
      "name": "XOR using Keras",
      "provenance": [],
      "collapsed_sections": [],
      "include_colab_link": true
    },
    "kernelspec": {
      "name": "python3",
      "display_name": "Python 3"
    }
  },
  "cells": [
    {
      "cell_type": "markdown",
      "metadata": {
        "id": "view-in-github",
        "colab_type": "text"
      },
      "source": [
        "<a href=\"https://colab.research.google.com/github/babakansari/DeepLearning/blob/master/XOR_using_Keras.ipynb\" target=\"_parent\"><img src=\"https://colab.research.google.com/assets/colab-badge.svg\" alt=\"Open In Colab\"/></a>"
      ]
    },
    {
      "cell_type": "code",
      "metadata": {
        "id": "-DrdU0DyXnu6",
        "colab_type": "code",
        "colab": {}
      },
      "source": [
        "import numpy as np\n",
        "\n",
        "inputs = np.array([[0,0],[0,1],[1,0],[1,1]])\n",
        "expected_output = np.array([[0],[1],[1],[0]])"
      ],
      "execution_count": 0,
      "outputs": []
    },
    {
      "cell_type": "markdown",
      "metadata": {
        "id": "xgtXRbcIZjsv",
        "colab_type": "text"
      },
      "source": [
        "Train and Test are the same in this exercise "
      ]
    },
    {
      "cell_type": "code",
      "metadata": {
        "id": "XO4pq1lvZlW6",
        "colab_type": "code",
        "colab": {}
      },
      "source": [
        "from keras.models import Sequential\n",
        "from keras.layers import Dense\n",
        "from keras.layers.core import Dense, Dropout, Activation\n",
        "from keras.optimizers import SGD\n",
        "# Still a WIP\n",
        "# model = Sequential([\n",
        "#   Dense(2, activation='relu', input_shape=(2,)),\n",
        "#   Dense(3, activation='tanh'),\n",
        "#   Dense(1, activation='softmax'),\n",
        "# ])\n",
        "\n",
        "# model = Sequential([\n",
        "#   Dense(8, input_dim=2),\n",
        "#   Dense(3, activation='tanh'),\n",
        "#   Dense(1, activation='softmax'),\n",
        "# ])\n",
        "\n",
        "model = Sequential()\n",
        "model.add(Dense(8, input_dim=2))\n",
        "model.add(Activation('tanh'))\n",
        "model.add(Dense(1))\n",
        "model.add(Activation('sigmoid'))"
      ],
      "execution_count": 0,
      "outputs": []
    },
    {
      "cell_type": "code",
      "metadata": {
        "id": "YypYx3CfZ39e",
        "colab_type": "code",
        "colab": {
          "base_uri": "https://localhost:8080/",
          "height": 319
        },
        "outputId": "6201b67f-33c0-4fbd-c3f0-02b714d80b93"
      },
      "source": [
        "model.compile(\n",
        "  # optimizer='adam',\n",
        "  optimizer=SGD(lr=0.1),\n",
        "  # loss='categorical_crossentropy',\n",
        "  loss='binary_crossentropy',\n",
        "  metrics=['accuracy'],\n",
        ")\n",
        "\n",
        "model.summary()"
      ],
      "execution_count": 105,
      "outputs": [
        {
          "output_type": "stream",
          "text": [
            "Model: \"sequential_21\"\n",
            "_________________________________________________________________\n",
            "Layer (type)                 Output Shape              Param #   \n",
            "=================================================================\n",
            "dense_52 (Dense)             (None, 8)                 24        \n",
            "_________________________________________________________________\n",
            "activation_12 (Activation)   (None, 8)                 0         \n",
            "_________________________________________________________________\n",
            "dense_53 (Dense)             (None, 1)                 9         \n",
            "_________________________________________________________________\n",
            "activation_13 (Activation)   (None, 1)                 0         \n",
            "=================================================================\n",
            "Total params: 33\n",
            "Trainable params: 33\n",
            "Non-trainable params: 0\n",
            "_________________________________________________________________\n"
          ],
          "name": "stdout"
        }
      ]
    },
    {
      "cell_type": "code",
      "metadata": {
        "id": "GLH89m54a1J5",
        "colab_type": "code",
        "colab": {
          "base_uri": "https://localhost:8080/",
          "height": 828
        },
        "outputId": "2bdf54ce-787d-480c-ef69-a7d45aaf60b2"
      },
      "source": [
        "# model.fit(\n",
        "#   inputs, # training data\n",
        "#   expected_output, # training targets\n",
        "#   epochs=4,\n",
        "# )\n",
        "\n",
        "model.fit(inputs, expected_output, batch_size=1, nb_epoch=20)"
      ],
      "execution_count": 110,
      "outputs": [
        {
          "output_type": "stream",
          "text": [
            "Epoch 1/20\n",
            "4/4 [==============================] - 0s 2ms/step - loss: 0.0303 - acc: 1.0000\n",
            "Epoch 2/20\n",
            "4/4 [==============================] - 0s 2ms/step - loss: 0.0301 - acc: 1.0000\n",
            "Epoch 3/20\n",
            "4/4 [==============================] - 0s 2ms/step - loss: 0.0299 - acc: 1.0000\n",
            "Epoch 4/20\n",
            "4/4 [==============================] - 0s 2ms/step - loss: 0.0297 - acc: 1.0000\n",
            "Epoch 5/20\n",
            "4/4 [==============================] - 0s 2ms/step - loss: 0.0295 - acc: 1.0000\n",
            "Epoch 6/20\n",
            "4/4 [==============================] - 0s 2ms/step - loss: 0.0293 - acc: 1.0000\n",
            "Epoch 7/20\n",
            "4/4 [==============================] - 0s 2ms/step - loss: 0.0291 - acc: 1.0000\n",
            "Epoch 8/20\n",
            "4/4 [==============================] - 0s 2ms/step - loss: 0.0289 - acc: 1.0000\n",
            "Epoch 9/20\n",
            "4/4 [==============================] - 0s 2ms/step - loss: 0.0287 - acc: 1.0000\n",
            "Epoch 10/20\n",
            "4/4 [==============================] - 0s 2ms/step - loss: 0.0285 - acc: 1.0000\n",
            "Epoch 11/20\n",
            "4/4 [==============================] - 0s 2ms/step - loss: 0.0283 - acc: 1.0000\n",
            "Epoch 12/20\n",
            "4/4 [==============================] - 0s 2ms/step - loss: 0.0282 - acc: 1.0000\n",
            "Epoch 13/20\n",
            "4/4 [==============================] - 0s 2ms/step - loss: 0.0280 - acc: 1.0000\n",
            "Epoch 14/20\n",
            "4/4 [==============================] - 0s 2ms/step - loss: 0.0278 - acc: 1.0000\n",
            "Epoch 15/20\n",
            "4/4 [==============================] - 0s 2ms/step - loss: 0.0276 - acc: 1.0000\n",
            "Epoch 16/20\n",
            "4/4 [==============================] - 0s 2ms/step - loss: 0.0274 - acc: 1.0000\n",
            "Epoch 17/20\n",
            "4/4 [==============================] - 0s 2ms/step - loss: 0.0273 - acc: 1.0000\n",
            "Epoch 18/20\n",
            "4/4 [==============================] - 0s 2ms/step - loss: 0.0271 - acc: 1.0000\n",
            "Epoch 19/20\n",
            "4/4 [==============================] - 0s 2ms/step - loss: 0.0269 - acc: 1.0000\n",
            "Epoch 20/20\n",
            "4/4 [==============================] - 0s 3ms/step - loss: 0.0268 - acc: 1.0000\n"
          ],
          "name": "stdout"
        },
        {
          "output_type": "stream",
          "text": [
            "/usr/local/lib/python3.6/dist-packages/ipykernel_launcher.py:2: UserWarning: The `nb_epoch` argument in `fit` has been renamed `epochs`.\n",
            "  \n"
          ],
          "name": "stderr"
        },
        {
          "output_type": "execute_result",
          "data": {
            "text/plain": [
              "<keras.callbacks.History at 0x7f058a20b518>"
            ]
          },
          "metadata": {
            "tags": []
          },
          "execution_count": 110
        }
      ]
    },
    {
      "cell_type": "code",
      "metadata": {
        "id": "ZCMNAOvXbLGo",
        "colab_type": "code",
        "colab": {
          "base_uri": "https://localhost:8080/",
          "height": 55
        },
        "outputId": "af91e86c-2277-4489-f6c9-5d8208dc4ca7"
      },
      "source": [
        "model.evaluate(\n",
        "  inputs,\n",
        "  expected_output\n",
        ")\n"
      ],
      "execution_count": 111,
      "outputs": [
        {
          "output_type": "stream",
          "text": [
            "\r4/4 [==============================] - 0s 574us/step\n"
          ],
          "name": "stdout"
        },
        {
          "output_type": "execute_result",
          "data": {
            "text/plain": [
              "[0.0261651873588562, 1.0]"
            ]
          },
          "metadata": {
            "tags": []
          },
          "execution_count": 111
        }
      ]
    },
    {
      "cell_type": "code",
      "metadata": {
        "id": "atp_7Nvab6i3",
        "colab_type": "code",
        "colab": {
          "base_uri": "https://localhost:8080/",
          "height": 92
        },
        "outputId": "58c1c87c-37a8-4fd7-c085-e3263396e2ca"
      },
      "source": [
        "# Predict on the first 5 test images.\n",
        "predictions = model.predict(inputs)\n",
        "\n",
        "predictions"
      ],
      "execution_count": 112,
      "outputs": [
        {
          "output_type": "execute_result",
          "data": {
            "text/plain": [
              "array([[0.01121957],\n",
              "       [0.97071934],\n",
              "       [0.97096336],\n",
              "       [0.03361533]], dtype=float32)"
            ]
          },
          "metadata": {
            "tags": []
          },
          "execution_count": 112
        }
      ]
    },
    {
      "cell_type": "code",
      "metadata": {
        "id": "4i4uTAo6cYw_",
        "colab_type": "code",
        "colab": {
          "base_uri": "https://localhost:8080/",
          "height": 36
        },
        "outputId": "0562a0e5-e9f0-4044-98ee-2f02c9a2976e"
      },
      "source": [
        "# Print our model's predictions.\n",
        "print(np.argmax(predictions, axis=1)) # [7, 2, 1, 0, 4]\n",
        "\n",
        "# Check our predictions against the ground truths.\n",
        "#print(inputs[:5]) # [7, 2, 1, 0, 4]"
      ],
      "execution_count": 113,
      "outputs": [
        {
          "output_type": "stream",
          "text": [
            "[0 0 0 0]\n"
          ],
          "name": "stdout"
        }
      ]
    },
    {
      "cell_type": "code",
      "metadata": {
        "id": "Q8sJMrrudr0-",
        "colab_type": "code",
        "colab": {}
      },
      "source": [
        ""
      ],
      "execution_count": 0,
      "outputs": []
    }
  ]
}