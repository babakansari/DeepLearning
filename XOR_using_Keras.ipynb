{
  "nbformat": 4,
  "nbformat_minor": 0,
  "metadata": {
    "colab": {
      "name": "XOR using Keras",
      "provenance": [],
      "collapsed_sections": [],
      "include_colab_link": true
    },
    "kernelspec": {
      "name": "python3",
      "display_name": "Python 3"
    },
    "accelerator": "GPU"
  },
  "cells": [
    {
      "cell_type": "markdown",
      "metadata": {
        "id": "view-in-github",
        "colab_type": "text"
      },
      "source": [
        "<a href=\"https://colab.research.google.com/github/babakansari/DeepLearning/blob/master/XOR_using_Keras.ipynb\" target=\"_parent\"><img src=\"https://colab.research.google.com/assets/colab-badge.svg\" alt=\"Open In Colab\"/></a>"
      ]
    },
    {
      "cell_type": "code",
      "metadata": {
        "id": "-DrdU0DyXnu6",
        "colab_type": "code",
        "colab": {}
      },
      "source": [
        "import numpy as np\n",
        "\n",
        "# inputs = np.array([[0,0],[0,1],[1,0],[1,1]])\n",
        "# expected_output = np.array([[0],[1],[1],[0]])\n",
        "\n",
        "inputs = np.array([[0,0,0],\n",
        "                   [0,0,1],\n",
        "                   [0,1,0],\n",
        "                   [0,1,1],\n",
        "                   [1,0,0],\n",
        "                   [1,0,1],\n",
        "                   [1,1,0],\n",
        "                   [1,1,1]\n",
        "                   ])\n",
        "expected_output = np.array([[0],[1],[1],[0],[1],[0],[0],[1]])"
      ],
      "execution_count": 0,
      "outputs": []
    },
    {
      "cell_type": "markdown",
      "metadata": {
        "id": "xgtXRbcIZjsv",
        "colab_type": "text"
      },
      "source": [
        "Train and Test are the same in this exercise "
      ]
    },
    {
      "cell_type": "code",
      "metadata": {
        "id": "0QXulkW6nsIR",
        "colab_type": "code",
        "colab": {}
      },
      "source": [
        "import matplotlib.pyplot as plt\n",
        "\n",
        "def plot_epoch(history):\n",
        "  # Plot training & validation accuracy values\n",
        "  plt.plot(history.history['acc'])\n",
        "  plt.title('Model accuracy')\n",
        "  plt.ylabel('Accuracy')\n",
        "  plt.xlabel('Epoch')\n",
        "  plt.legend(['Train', 'Test'], loc='upper left')\n",
        "  plt.show()\n",
        "\n",
        "  # Plot training & validation loss values\n",
        "  plt.plot(history.history['loss'])\n",
        "  plt.title('Model loss')\n",
        "  plt.ylabel('Loss')\n",
        "  plt.xlabel('Epoch')\n",
        "  plt.legend(['Train', 'Test'], loc='upper left')\n",
        "  plt.show()\n"
      ],
      "execution_count": 0,
      "outputs": []
    },
    {
      "cell_type": "code",
      "metadata": {
        "id": "XO4pq1lvZlW6",
        "colab_type": "code",
        "colab": {}
      },
      "source": [
        "from keras.models import Sequential\n",
        "from keras.layers import Dense\n",
        "from keras.layers.core import Dense, Dropout, Activation\n",
        "from keras.optimizers import SGD\n",
        "\n",
        "def create_model(inputs, nEpoch):\n",
        "  input_dimension = inputs.shape[1]\n",
        "  model = Sequential()\n",
        "  model.add(Dense(2, input_dim=input_dimension))\n",
        "  model.add(Dense(12, activation='relu'))\n",
        "  model.add(Dense(1,  activation='sigmoid'))\n",
        "\n",
        "  model.compile(\n",
        "    #optimizer='adam',\n",
        "    optimizer=SGD(lr=0.1),\n",
        "    # loss='categorical_crossentropy',\n",
        "    loss='binary_crossentropy',\n",
        "    metrics=['accuracy'],\n",
        "  )\n",
        "\n",
        "  #model.summary()\n",
        "  model.evaluate(inputs,expected_output)\n",
        "  return model, model.fit(inputs, expected_output, batch_size=1, verbose=0, epochs=nEpoch)"
      ],
      "execution_count": 0,
      "outputs": []
    },
    {
      "cell_type": "code",
      "metadata": {
        "id": "c4gCeOs3npIa",
        "colab_type": "code",
        "colab": {}
      },
      "source": [
        ""
      ],
      "execution_count": 0,
      "outputs": []
    },
    {
      "cell_type": "code",
      "metadata": {
        "id": "atp_7Nvab6i3",
        "colab_type": "code",
        "outputId": "e05ccb0e-7fea-4a98-afc7-d49e83a440bd",
        "colab": {
          "base_uri": "https://localhost:8080/",
          "height": 726
        }
      },
      "source": [
        "model, history = create_model(inputs, 80)\n",
        "plot_epoch(history)\n",
        "\n",
        "# Predic inputs\n",
        "predictions = model.predict(inputs)\n",
        "\n",
        "predictions"
      ],
      "execution_count": 153,
      "outputs": [
        {
          "output_type": "stream",
          "text": [
            "\r8/8 [==============================] - 1s 126ms/step\n"
          ],
          "name": "stdout"
        },
        {
          "output_type": "display_data",
          "data": {
            "image/png": "[encoded data removed]",
            "text/plain": [
              "<Figure size 432x288 with 1 Axes>"
            ]
          },
          "metadata": {
            "tags": []
          }
        },
        {
          "output_type": "display_data",
          "data": {
            "image/png": "[encoded data removed]",
            "text/plain": [
              "<Figure size 432x288 with 1 Axes>"
            ]
          },
          "metadata": {
            "tags": []
          }
        },
        {
          "output_type": "execute_result",
          "data": {
            "text/plain": [
              "array([[0.16002613],\n",
              "       [0.9509473 ],\n",
              "       [0.977706  ],\n",
              "       [0.03650507],\n",
              "       [0.97981817],\n",
              "       [0.04723781],\n",
              "       [0.17105663],\n",
              "       [0.9497918 ]], dtype=float32)"
            ]
          },
          "metadata": {
            "tags": []
          },
          "execution_count": 153
        }
      ]
    },
    {
      "cell_type": "code",
      "metadata": {
        "id": "4i4uTAo6cYw_",
        "colab_type": "code",
        "outputId": "70b7917e-9189-4ac8-8708-d79c1624007e",
        "colab": {
          "base_uri": "https://localhost:8080/",
          "height": 34
        }
      },
      "source": [
        "if( (np.round(predictions)==expected_output).all() ):\n",
        "  print('Memorized')\n",
        "else:\n",
        "  print(np.round(predictions))\n",
        "  print(expected_output)\n",
        "\n",
        "# Print our model's predictions.\n",
        "# print(np.argmin(predictions, axis=1)) # [7, 2, 1, 0, 4]\n",
        "\n",
        "# Check our predictions against the ground truths.\n",
        "#print(inputs[:5]) # [7, 2, 1, 0, 4]"
      ],
      "execution_count": 154,
      "outputs": [
        {
          "output_type": "stream",
          "text": [
            "Memorized\n"
          ],
          "name": "stdout"
        }
      ]
    },
    {
      "cell_type": "code",
      "metadata": {
        "id": "Q8sJMrrudr0-",
        "colab_type": "code",
        "colab": {}
      },
      "source": [
        ""
      ],
      "execution_count": 0,
      "outputs": []
    }
  ]
}