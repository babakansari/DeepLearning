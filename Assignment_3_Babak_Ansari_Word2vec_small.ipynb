{
  "nbformat": 4,
  "nbformat_minor": 0,
  "metadata": {
    "colab": {
      "name": "Assignment 3 - Babak-Ansari - Word2vec",
      "provenance": [],
      "collapsed_sections": [],
      "include_colab_link": true
    },
    "kernelspec": {
      "name": "python3",
      "display_name": "Python 3"
    },
    "accelerator": "GPU"
  },
  "cells": [
    {
      "cell_type": "markdown",
      "metadata": {
        "id": "view-in-github",
        "colab_type": "text"
      },
      "source": [
        "<a href=\"https://colab.research.google.com/github/babakansari/DeepLearning/blob/master/Assignment_3_Babak_Ansari_Word2vec_small.ipynb\" target=\"_parent\"><img src=\"https://colab.research.google.com/assets/colab-badge.svg\" alt=\"Open In Colab\"/></a>"
      ]
    },
    {
      "cell_type": "code",
      "metadata": {
        "id": "4b5GTVXMBAfC",
        "colab_type": "code",
        "outputId": "45240a3d-803d-429c-d8d5-665a19a53a3b",
        "colab": {
          "base_uri": "https://localhost:8080/",
          "height": 63
        }
      },
      "source": [
        "from __future__ import absolute_import\n",
        "from __future__ import division\n",
        "from __future__ import print_function\n",
        "\n",
        "import argparse\n",
        "import collections\n",
        "import hashlib\n",
        "import math\n",
        "import os\n",
        "import random\n",
        "import sys\n",
        "from tempfile import gettempdir\n",
        "import zipfile\n",
        "\n",
        "import numpy as np\n",
        "from six.moves import urllib\n",
        "from six.moves import xrange  # pylint: disable=redefined-builtin\n",
        "import tensorflow as tf\n",
        "\n",
        "from tensorflow.contrib.tensorboard.plugins import projector\n",
        "\n",
        "data_index = 0\n"
      ],
      "execution_count": 1,
      "outputs": [
        {
          "output_type": "display_data",
          "data": {
            "text/html": [
              "<p style=\"color: red;\">\n",
              "The default version of TensorFlow in Colab will soon switch to TensorFlow 2.x.<br>\n",
              "We recommend you <a href=\"https://www.tensorflow.org/guide/migrate\" target=\"_blank\">upgrade</a> now \n",
              "or ensure your notebook will continue to use TensorFlow 1.x via the <code>%tensorflow_version 1.x</code> magic:\n",
              "<a href=\"https://colab.research.google.com/notebooks/tensorflow_version.ipynb\" target=\"_blank\">more info</a>.</p>\n"
            ],
            "text/plain": [
              "<IPython.core.display.HTML object>"
            ]
          },
          "metadata": {
            "tags": []
          }
        }
      ]
    },
    {
      "cell_type": "code",
      "metadata": {
        "id": "HziCjYYiC4BV",
        "colab_type": "code",
        "colab": {}
      },
      "source": [
        "\n",
        "# Give a folder path as an argument with '--log_dir' to save\n",
        "# TensorBoard summaries. Default is a log folder in current directory.\n",
        "current_path = os.path.dirname(os.path.realpath(sys.argv[0]))\n",
        "\n",
        "parser = argparse.ArgumentParser()\n",
        "parser.add_argument(\n",
        "    '--log_dir',\n",
        "    type=str,\n",
        "    default=os.path.join(current_path, 'log'),\n",
        "    help='The log directory for TensorBoard summaries.')\n",
        "flags, unused_flags = parser.parse_known_args()\n",
        "#word2vec_basic(flags.log_dir)\n",
        "\n",
        "log_dir = flags.log_dir\n",
        "\n",
        "def _hash_file(fpath):\n",
        "  hasher = hashlib.sha256()\n",
        "  with open(fpath, 'rb') as fpath_file:\n",
        "    for chunk in iter(lambda: fpath_file.read(65535), b''):\n",
        "      hasher.update(chunk)\n",
        "  return hasher.hexdigest()\n"
      ],
      "execution_count": 0,
      "outputs": []
    },
    {
      "cell_type": "code",
      "metadata": {
        "id": "g7_AKDaHC4eL",
        "colab_type": "code",
        "outputId": "ec21449d-a633-47b1-ea67-4fa255d086ae",
        "colab": {
          "base_uri": "https://localhost:8080/",
          "height": 85
        }
      },
      "source": [
        "\"\"\"Example of building, training and visualizing a word2vec model.\"\"\"\n",
        "# Create the directory for TensorBoard variables if there is not.\n",
        "if not os.path.exists(log_dir):\n",
        "  os.makedirs(log_dir)\n",
        "\n",
        "# Step 1: Download the data.\n",
        "# Note: Source website does not support HTTPS right now.\n",
        "url = 'http://mattmahoney.net/dc/'\n",
        "\n",
        "# pylint: disable=redefined-outer-name\n",
        "def maybe_download(filename, expected_bytes, sha256=None):\n",
        "  \"\"\"Download a file if not present, and make sure it's the right size.\"\"\"\n",
        "  local_filename = os.path.join(gettempdir(), filename)\n",
        "  if not os.path.exists(local_filename):\n",
        "    local_filename, _ = urllib.request.urlretrieve(url + filename,\n",
        "                                                    local_filename)\n",
        "  statinfo = os.stat(local_filename)\n",
        "\n",
        "  print(local_filename)\n",
        "  if sha256 and _hash_file(local_filename) != sha256:\n",
        "    raise Exception('Failed to verify ' + local_filename + ' due to hash '\n",
        "                    'mismatch. Can you get to it with a browser?')\n",
        "\n",
        "  if statinfo.st_size == expected_bytes:\n",
        "    print('Found and verified', filename)\n",
        "  else:\n",
        "    print(statinfo.st_size)\n",
        "    raise Exception('Failed to verify ' + local_filename +\n",
        "                    '. Can you get to it with a browser?')\n",
        "  return local_filename\n",
        "\n",
        "filename = maybe_download(\n",
        "    'text8.zip',\n",
        "    31344016,\n",
        "    sha256='a6640522afe85d1963ad56c05b0ede0a0c000dddc9671758a6cc09b7a38e5232')\n",
        "\n",
        "# Read the data into a list of strings.\n",
        "def read_data(filename):\n",
        "  \"\"\"Extract the first file enclosed in a zip file as a list of words.\"\"\"\n",
        "  i = 0\n",
        "  with zipfile.ZipFile(filename) as f:\n",
        "    namelist = f.namelist()\n",
        "    r = f.read(namelist[0])\n",
        "    if(i<10):\n",
        "      print(r[:100])\n",
        "      i = i + 1\n",
        "    data = tf.compat.as_str(r).split()\n",
        "  return data\n",
        "\n",
        "vocabulary = read_data(filename)\n",
        "print('Data size', len(vocabulary))\n",
        "\n"
      ],
      "execution_count": 24,
      "outputs": [
        {
          "output_type": "stream",
          "text": [
            "/tmp/text8.zip\n",
            "Found and verified text8.zip\n",
            "b' anarchism originated as a term of abuse first used against early working class radicals including t'\n",
            "Data size 17005207\n"
          ],
          "name": "stdout"
        }
      ]
    },
    {
      "cell_type": "code",
      "metadata": {
        "id": "7US35oPQ_oct",
        "colab_type": "code",
        "colab": {
          "base_uri": "https://localhost:8080/",
          "height": 51
        },
        "outputId": "a53bdfd9-3a56-4356-d942-26a4eb21926d"
      },
      "source": [
        "vocabulary = read_data(filename)\n",
        "vocabulary[:4]"
      ],
      "execution_count": 25,
      "outputs": [
        {
          "output_type": "stream",
          "text": [
            "b' anarchism originated as a term of abuse first used against early working class radicals including t'\n"
          ],
          "name": "stdout"
        },
        {
          "output_type": "execute_result",
          "data": {
            "text/plain": [
              "['anarchism', 'originated', 'as', 'a']"
            ]
          },
          "metadata": {
            "tags": []
          },
          "execution_count": 25
        }
      ]
    },
    {
      "cell_type": "code",
      "metadata": {
        "id": "6U7Fm-Fhj7lp",
        "colab_type": "code",
        "colab": {
          "base_uri": "https://localhost:8080/",
          "height": 34
        },
        "outputId": "eb4fd1f3-7411-4a7f-d6fc-0e0b243f0403"
      },
      "source": [
        "# Try countries as dataset\n",
        "import pandas as pd\n",
        "import io\n",
        "file_name = 'https://github.com/babakansari/DeepLearning/blob/master/Countries.xlsx?raw=true'\n",
        "\n",
        "main_df = pd.read_excel(file_name)\n",
        "df = pd.DataFrame(main_df['Name'].str.lower())\n",
        "vocabulary = df[\"Name\"].tolist()\n",
        "print('Data size', len(vocabulary))"
      ],
      "execution_count": 2,
      "outputs": [
        {
          "output_type": "stream",
          "text": [
            "Data size 259\n"
          ],
          "name": "stdout"
        }
      ]
    },
    {
      "cell_type": "code",
      "metadata": {
        "id": "sULmTWNd-738",
        "colab_type": "code",
        "colab": {
          "base_uri": "https://localhost:8080/",
          "height": 34
        },
        "outputId": "478bc788-1450-45b7-b667-602c85287f66"
      },
      "source": [
        "\n",
        "# vocabulary = df[\"Name\"].tolist()\n",
        "vocabulary = []\n",
        "vocabulary.append('iran')\n",
        "vocabulary.append('iran')\n",
        "vocabulary.append('iran')\n",
        "vocabulary.append('iraq (iq)')\n",
        "vocabulary.append('iran')\n",
        "vocabulary.append('irland')\n",
        "vocabulary.append('irland')\n",
        "vocabulary.append('irland')\n",
        "vocabulary.append('irvan')\n",
        "vocabulary.append('india')\n",
        "vocabulary.append('korea')\n",
        "vocabulary.append('korea')\n",
        "vocabulary.append('korea')\n",
        "vocabulary.append('nigeria')\n",
        "vocabulary.append('russia')\n",
        "vocabulary.append('russia')\n",
        "vocabulary.append('romania')\n",
        "vocabulary.append('rowanda')\n",
        "vocabulary.append('sudan')\n",
        "vocabulary.append('usa')\n",
        "vocabulary.append('korea')\n",
        "print('Data size', len(vocabulary))"
      ],
      "execution_count": 18,
      "outputs": [
        {
          "output_type": "stream",
          "text": [
            "Data size 21\n"
          ],
          "name": "stdout"
        }
      ]
    },
    {
      "cell_type": "code",
      "metadata": {
        "id": "S5WLX91JJgs7",
        "colab_type": "code",
        "outputId": "284cbce5-d284-4b38-874b-721dec998c05",
        "colab": {
          "base_uri": "https://localhost:8080/",
          "height": 51
        }
      },
      "source": [
        "# Step 2: Build the dictionary and replace rare words with UNK token.\n",
        "vocabulary_size = 12\n",
        "\n",
        "def build_dataset(words, n_words):\n",
        "  \"\"\"Process raw inputs into a dataset.\"\"\"\n",
        "  count = [['UNK', -1]]\n",
        "  count.extend(collections.Counter(words).most_common(n_words - 1))\n",
        "  dictionary = {word: index for index, (word, _) in enumerate(count)}\n",
        "  data = []\n",
        "  unk_count = 0\n",
        "  for word in words:\n",
        "    index = dictionary.get(word, 0)\n",
        "    if index == 0:  # dictionary['UNK']\n",
        "      unk_count += 1\n",
        "    data.append(index)\n",
        "  count[0][1] = unk_count\n",
        "  reversed_dictionary = dict(zip(dictionary.values(), dictionary.keys()))\n",
        "  return data, count, dictionary, reversed_dictionary\n",
        "\n",
        "# Filling 4 global variables:\n",
        "# data - list of codes (integers from 0 to vocabulary_size-1).\n",
        "#   This is the original text but words are replaced by their codes\n",
        "# count - map of words(strings) to count of occurrences\n",
        "# dictionary - map of words(strings) to their codes(integers)\n",
        "# reverse_dictionary - map of codes(integers) to words(strings)\n",
        "data, count, unused_dictionary, reverse_dictionary = build_dataset(\n",
        "    vocabulary, vocabulary_size)\n",
        "del vocabulary  # Hint to reduce memory.\n",
        "print('Most common words (+UNK)', count[:5])\n",
        "print('Sample data', data[:10], [reverse_dictionary[i] for i in data[:10]])\n"
      ],
      "execution_count": 19,
      "outputs": [
        {
          "output_type": "stream",
          "text": [
            "Most common words (+UNK) [['UNK', 1], ('iran', 4), ('korea', 4), ('irland', 3), ('russia', 2)]\n",
            "Sample data [1, 1, 1, 5, 1, 3, 3, 3, 6, 7] ['iran', 'iran', 'iran', 'iraq (iq)', 'iran', 'irland', 'irland', 'irland', 'irvan', 'india']\n"
          ],
          "name": "stdout"
        }
      ]
    },
    {
      "cell_type": "code",
      "metadata": {
        "id": "rXMsUlcpDVqY",
        "colab_type": "code",
        "colab": {
          "base_uri": "https://localhost:8080/",
          "height": 136
        },
        "outputId": "9efa4b6f-e5bc-48b8-c1d2-50f771cede2b"
      },
      "source": [
        "count[:7]"
      ],
      "execution_count": 20,
      "outputs": [
        {
          "output_type": "execute_result",
          "data": {
            "text/plain": [
              "[['UNK', 1],\n",
              " ('iran', 4),\n",
              " ('korea', 4),\n",
              " ('irland', 3),\n",
              " ('russia', 2),\n",
              " ('iraq (iq)', 1),\n",
              " ('irvan', 1)]"
            ]
          },
          "metadata": {
            "tags": []
          },
          "execution_count": 20
        }
      ]
    },
    {
      "cell_type": "code",
      "metadata": {
        "id": "oh0EKYobLA2F",
        "colab_type": "code",
        "outputId": "2deceec6-904d-4f32-dd6b-8dc48aefdff8",
        "colab": {
          "base_uri": "https://localhost:8080/",
          "height": 153
        }
      },
      "source": [
        "# Step 3: Function to generate a training batch for the skip-gram model.\n",
        "def generate_batch(batch_size, num_skips, skip_window):\n",
        "  global data_index\n",
        "  assert batch_size % num_skips == 0\n",
        "  assert num_skips <= 2 * skip_window\n",
        "  batch = np.ndarray(shape=(batch_size), dtype=np.int32)\n",
        "  labels = np.ndarray(shape=(batch_size, 1), dtype=np.int32)\n",
        "  span = 2 * skip_window + 1  # [ skip_window target skip_window ]\n",
        "  buffer = collections.deque(maxlen=span)  # pylint: disable=redefined-builtin\n",
        "  if data_index + span > len(data):\n",
        "    data_index = 0\n",
        "  buffer.extend(data[data_index:data_index + span])\n",
        "  data_index += span\n",
        "  for i in range(batch_size // num_skips):\n",
        "    context_words = [w for w in range(span) if w != skip_window]\n",
        "    words_to_use = random.sample(context_words, num_skips)\n",
        "    for j, context_word in enumerate(words_to_use):\n",
        "      batch[i * num_skips + j] = buffer[skip_window]\n",
        "      labels[i * num_skips + j, 0] = buffer[context_word]\n",
        "    if data_index == len(data):\n",
        "      buffer.extend(data[0:span])\n",
        "      data_index = span\n",
        "    else:\n",
        "      buffer.append(data[data_index])\n",
        "      data_index += 1\n",
        "  # Backtrack a little bit to avoid skipping words in the end of a batch\n",
        "  data_index = (data_index - span) % len(data)\n",
        "  return batch, labels\n",
        "\n",
        "batch, labels = generate_batch(batch_size=8, num_skips=2, skip_window=1)\n",
        "for i in range(8):\n",
        "  print(batch[i], reverse_dictionary[batch[i]], '->', labels[i, 0],\n",
        "        reverse_dictionary[labels[i, 0]])"
      ],
      "execution_count": 21,
      "outputs": [
        {
          "output_type": "stream",
          "text": [
            "3 irland -> 3 irland\n",
            "3 irland -> 1 iran\n",
            "3 irland -> 3 irland\n",
            "3 irland -> 3 irland\n",
            "3 irland -> 3 irland\n",
            "3 irland -> 6 irvan\n",
            "6 irvan -> 7 india\n",
            "6 irvan -> 3 irland\n"
          ],
          "name": "stdout"
        }
      ]
    },
    {
      "cell_type": "code",
      "metadata": {
        "id": "KUruLCTmKc75",
        "colab_type": "code",
        "colab": {}
      },
      "source": [
        "\n",
        "\n",
        "# Step 4: Build and train a skip-gram model.\n",
        "\n",
        "batch_size = 12\n",
        "embedding_size = 12  # Dimension of the embedding vector.\n",
        "skip_window = 5  # How many words to consider left and right.\n",
        "num_skips = 2  # How many times to reuse an input to generate a label.\n",
        "num_sampled = 5  # Number of negative examples to sample.\n",
        "\n",
        "# We pick a random validation set to sample nearest neighbors. Here we limit\n",
        "# the validation samples to the words that have a low numeric ID, which by\n",
        "# construction are also the most frequent. These 3 variables are used only for\n",
        "# displaying model accuracy, they don't affect calculation.\n",
        "valid_size = 3  # Random set of words to evaluate similarity on.\n",
        "valid_window = 8  # Only pick dev samples in the head of the distribution.\n",
        "valid_examples = np.random.choice(valid_window, valid_size, replace=False)\n",
        "\n",
        "graph = tf.Graph()\n",
        "\n",
        "with graph.as_default():\n",
        "\n",
        "  # Input data.\n",
        "  with tf.name_scope('inputs'):\n",
        "    train_inputs = tf.placeholder(tf.int32, shape=[batch_size])\n",
        "    train_labels = tf.placeholder(tf.int32, shape=[batch_size, 1])\n",
        "    valid_dataset = tf.constant(valid_examples, dtype=tf.int32)\n",
        "\n",
        "  # Ops and variables pinned to the CPU because of missing GPU implementation\n",
        "  with tf.device('/cpu:0'):\n",
        "    # Look up embeddings for inputs.\n",
        "    with tf.name_scope('embeddings'):\n",
        "      embeddings = tf.Variable(\n",
        "          tf.random_uniform([vocabulary_size, embedding_size], -1.0, 1.0))\n",
        "      embed = tf.nn.embedding_lookup(embeddings, train_inputs)\n",
        "\n",
        "    # Construct the variables for the NCE loss\n",
        "    with tf.name_scope('weights'):\n",
        "      nce_weights = tf.Variable(\n",
        "          tf.truncated_normal([vocabulary_size, embedding_size],\n",
        "                              stddev=1.0 / math.sqrt(embedding_size)))\n",
        "    with tf.name_scope('biases'):\n",
        "      nce_biases = tf.Variable(tf.zeros([vocabulary_size]))\n",
        "\n",
        "  # Compute the average NCE loss for the batch.\n",
        "  # tf.nce_loss automatically draws a new sample of the negative labels each\n",
        "  # time we evaluate the loss.\n",
        "  # Explanation of the meaning of NCE loss and why choosing NCE over tf.nn.sampled_softmax_loss:\n",
        "  #   http://mccormickml.com/2016/04/19/word2vec-tutorial-the-skip-gram-model/\n",
        "  #   http://papers.nips.cc/paper/5165-learning-word-embeddings-efficiently-with-noise-contrastive-estimation.pdf\n",
        "  with tf.name_scope('loss'):\n",
        "    loss = tf.reduce_mean(\n",
        "        tf.nn.nce_loss(\n",
        "            weights=nce_weights,\n",
        "            biases=nce_biases,\n",
        "            labels=train_labels,\n",
        "            inputs=embed,\n",
        "            num_sampled=num_sampled,\n",
        "            num_classes=vocabulary_size))\n",
        "\n",
        "  # Add the loss value as a scalar to summary.\n",
        "  tf.summary.scalar('loss', loss)\n",
        "\n",
        "  # Construct the SGD optimizer using a learning rate of 1.0.\n",
        "  with tf.name_scope('optimizer'):\n",
        "    optimizer = tf.train.GradientDescentOptimizer(1.0).minimize(loss)\n",
        "\n",
        "  # Compute the cosine similarity between minibatch examples and all\n",
        "  # embeddings.\n",
        "  norm = tf.sqrt(tf.reduce_sum(tf.square(embeddings), 1, keepdims=True))\n",
        "  normalized_embeddings = embeddings / norm\n",
        "  valid_embeddings = tf.nn.embedding_lookup(normalized_embeddings,\n",
        "                                            valid_dataset)\n",
        "  similarity = tf.matmul(\n",
        "      valid_embeddings, normalized_embeddings, transpose_b=True)\n",
        "\n",
        "  # Merge all summaries.\n",
        "  merged = tf.summary.merge_all()\n",
        "\n",
        "  # Add variable initializer.\n",
        "  init = tf.global_variables_initializer()\n",
        "\n",
        "  # Create a saver.\n",
        "  saver = tf.train.Saver()\n",
        "\n",
        "# Step 5: Begin training.\n",
        "num_steps = 10000\n"
      ],
      "execution_count": 0,
      "outputs": []
    },
    {
      "cell_type": "code",
      "metadata": {
        "id": "tQCo5nHxLbvY",
        "colab_type": "code",
        "outputId": "a17a6460-a34a-43a4-e2e9-f5b1604a0a67",
        "colab": {
          "base_uri": "https://localhost:8080/",
          "height": 1000
        }
      },
      "source": [
        "\n",
        "with tf.compat.v1.Session(graph=graph) as session:\n",
        "  # Open a writer to write summaries.\n",
        "  writer = tf.summary.FileWriter(log_dir, session.graph)\n",
        "\n",
        "  # We must initialize all variables before we use them.\n",
        "  init.run()\n",
        "  print('Initialized')\n",
        "\n",
        "  average_loss = 0\n",
        "  for step in xrange(num_steps):\n",
        "    batch_inputs, batch_labels = generate_batch(batch_size, num_skips,\n",
        "                                                skip_window)\n",
        "    feed_dict = {train_inputs: batch_inputs, train_labels: batch_labels}\n",
        "\n",
        "    # Define metadata variable.\n",
        "    run_metadata = tf.RunMetadata()\n",
        "\n",
        "    # We perform one update step by evaluating the optimizer op (including it\n",
        "    # in the list of returned values for session.run()\n",
        "    # Also, evaluate the merged op to get all summaries from the returned\n",
        "    # \"summary\" variable. Feed metadata variable to session for visualizing\n",
        "    # the graph in TensorBoard.\n",
        "    _, summary, loss_val = session.run([optimizer, merged, loss],\n",
        "                                        feed_dict=feed_dict,\n",
        "                                        run_metadata=run_metadata)\n",
        "    average_loss += loss_val\n",
        "\n",
        "    # Add returned summaries to writer in each step.\n",
        "    writer.add_summary(summary, step)\n",
        "    # Add metadata to visualize the graph for the last run.\n",
        "    if step == (num_steps - 1):\n",
        "      writer.add_run_metadata(run_metadata, 'step%d' % step)\n",
        "\n",
        "    if step % 2000 == 0:\n",
        "      if step > 0:\n",
        "        average_loss /= 2000\n",
        "      # The average loss is an estimate of the loss over the last 2000\n",
        "      # batches.\n",
        "      print('Average loss at step ', step, ': ', average_loss)\n",
        "      average_loss = 0\n",
        "\n",
        "    # Note that this is expensive (~20% slowdown if computed every 500 steps)\n",
        "    if step % 10000 == 0:\n",
        "      sim = similarity.eval()\n",
        "      for i in xrange(valid_size):\n",
        "        valid_word = reverse_dictionary[valid_examples[i]]\n",
        "        top_k = 8  # number of nearest neighbors\n",
        "        nearest = (-sim[i, :]).argsort()[1:top_k + 1]\n",
        "        log_str = 'Nearest to %s:' % valid_word\n",
        "\n",
        "        print(\n",
        "            log_str,\n",
        "            ', '.join([reverse_dictionary[nearest[k]] for k in range(top_k)]))\n",
        "  final_embeddings = normalized_embeddings.eval()\n",
        "\n",
        "  # Write corresponding labels for the embeddings.\n",
        "  with open(log_dir + '/metadata.tsv', 'w') as f:\n",
        "    for i in xrange(vocabulary_size):\n",
        "      f.write(reverse_dictionary[i] + '\\n')\n",
        "\n",
        "  # Save the model for checkpoints.\n",
        "  saver.save(session, os.path.join(log_dir, 'model.ckpt'))\n",
        "\n",
        "  # Create a configuration for visualizing embeddings with the labels in\n",
        "  # TensorBoard.\n",
        "  config = projector.ProjectorConfig()\n",
        "  embedding_conf = config.embeddings.add()\n",
        "  embedding_conf.tensor_name = embeddings.name\n",
        "  embedding_conf.metadata_path = os.path.join(log_dir, 'metadata.tsv')\n",
        "  projector.visualize_embeddings(writer, config)\n",
        "\n",
        "writer.close()\n",
        "\n",
        "# Step 6: Visualize the embeddings.\n",
        "\n",
        "# pylint: disable=missing-docstring\n",
        "# Function to draw visualization of distance between embeddings.\n",
        "def plot_with_labels(low_dim_embs, labels, filename):\n",
        "  assert low_dim_embs.shape[0] >= len(labels), 'More labels than embeddings'\n",
        "  plt.figure(figsize=(18, 18))  # in inches\n",
        "  for i, label in enumerate(labels):\n",
        "    x, y = low_dim_embs[i, :]\n",
        "    plt.scatter(x, y)\n",
        "    plt.annotate(\n",
        "        label,\n",
        "        xy=(x, y),\n",
        "        xytext=(5, 2),\n",
        "        textcoords='offset points',\n",
        "        ha='right',\n",
        "        va='bottom')\n",
        "\n",
        "  plt.savefig(filename)\n",
        "\n",
        "try:\n",
        "  # pylint: disable=g-import-not-at-top\n",
        "  from sklearn.manifold import TSNE\n",
        "  import matplotlib.pyplot as plt\n",
        "\n",
        "  tsne = TSNE(\n",
        "      perplexity=30, n_components=2, init='pca', n_iter=5000, method='exact')\n",
        "  plot_only = 10\n",
        "  low_dim_embs = tsne.fit_transform(final_embeddings[:plot_only, :])\n",
        "  labels = [reverse_dictionary[i] for i in xrange(plot_only)]\n",
        "  plot_with_labels(low_dim_embs, labels, os.path.join(gettempdir(),\n",
        "                                                      'tsne.png'))\n",
        "\n",
        "except ImportError as ex:\n",
        "  print('Please install sklearn, matplotlib, and scipy to show embeddings.')\n",
        "  print(ex)"
      ],
      "execution_count": 29,
      "outputs": [
        {
          "output_type": "stream",
          "text": [
            "Initialized\n",
            "Average loss at step  0 :  5.797466278076172\n",
            "Nearest to irland: irvan, iran, romania, rowanda, UNK, korea, nigeria, sudan\n",
            "Nearest to iran: irland, irvan, rowanda, UNK, romania, iraq (iq), korea, russia\n",
            "Nearest to india: korea, russia, sudan, iraq (iq), UNK, rowanda, irvan, nigeria\n",
            "Average loss at step  2000 :  2.339272371351719\n",
            "Average loss at step  4000 :  2.3080714413523675\n",
            "Average loss at step  6000 :  2.3087891750335694\n",
            "Average loss at step  8000 :  2.306526431143284\n"
          ],
          "name": "stdout"
        },
        {
          "output_type": "display_data",
          "data": {
            "image/png": "[encoded data removed]",
            "text/plain": [
              "<Figure size 1296x1296 with 1 Axes>"
            ]
          },
          "metadata": {
            "tags": []
          }
        }
      ]
    },
    {
      "cell_type": "code",
      "metadata": {
        "id": "zlr8boYbSNno",
        "colab_type": "code",
        "colab": {}
      },
      "source": [
        ""
      ],
      "execution_count": 0,
      "outputs": []
    },
    {
      "cell_type": "code",
      "metadata": {
        "id": "KW3aMaeSm17q",
        "colab_type": "code",
        "colab": {}
      },
      "source": [
        ""
      ],
      "execution_count": 0,
      "outputs": []
    }
  ]
}