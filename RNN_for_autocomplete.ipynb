{
  "nbformat": 4,
  "nbformat_minor": 0,
  "metadata": {
    "colab": {
      "name": "RNN for autocomplete",
      "provenance": [],
      "collapsed_sections": [],
      "include_colab_link": true
    },
    "kernelspec": {
      "name": "python3",
      "display_name": "Python 3"
    }
  },
  "cells": [
    {
      "cell_type": "markdown",
      "metadata": {
        "id": "view-in-github",
        "colab_type": "text"
      },
      "source": [
        "<a href=\"https://colab.research.google.com/github/babakansari/DeepLearning/blob/master/RNN_for_autocomplete.ipynb\" target=\"_parent\"><img src=\"https://colab.research.google.com/assets/colab-badge.svg\" alt=\"Open In Colab\"/></a>"
      ]
    },
    {
      "cell_type": "markdown",
      "metadata": {
        "id": "uH5j71wmaqwY",
        "colab_type": "text"
      },
      "source": [
        "# Recurrent Neural-network experiment for Auto Complete - Babak Ansari-Jaberi"
      ]
    },
    {
      "cell_type": "markdown",
      "metadata": {
        "id": "EmyYbcxwACQY",
        "colab_type": "text"
      },
      "source": [
        "https://www.youtube.com/watch?v=iMIWee_PXl8"
      ]
    },
    {
      "cell_type": "code",
      "metadata": {
        "id": "_VUWg0oGa6m2",
        "colab_type": "code",
        "colab": {}
      },
      "source": [
        "from keras.models import Sequential\n",
        "from keras.layers import Dense, Flatten, Activation, Dropout, LSTM\n",
        "import numpy as np\n",
        "from sklearn.model_selection import train_test_split\n",
        "import matplotlib.pyplot as plt"
      ],
      "execution_count": 0,
      "outputs": []
    },
    {
      "cell_type": "code",
      "metadata": {
        "id": "E5_vr4Kl5EMw",
        "colab_type": "code",
        "colab": {}
      },
      "source": [
        "Data = [[[(i+j)/100] for i in range(5)] for j in range (100)]\n",
        "Target = [(i+5)/100 for i in range(100)]\n"
      ],
      "execution_count": 0,
      "outputs": []
    },
    {
      "cell_type": "code",
      "metadata": {
        "id": "01cT6vzY5mP4",
        "colab_type": "code",
        "colab": {}
      },
      "source": [
        "data = np.array(Data, dtype=float)\n",
        "target = np.array(Target, dtype=float)"
      ],
      "execution_count": 0,
      "outputs": []
    },
    {
      "cell_type": "code",
      "metadata": {
        "id": "1iVgjd_Z54WW",
        "colab_type": "code",
        "colab": {}
      },
      "source": [
        "x_train, x_test, y_train, y_test = train_test_split(data, target, test_size=0.2, random_state = 4 )"
      ],
      "execution_count": 0,
      "outputs": []
    },
    {
      "cell_type": "code",
      "metadata": {
        "id": "8iqzkoIua-gm",
        "colab_type": "code",
        "colab": {
          "base_uri": "https://localhost:8080/",
          "height": 245
        },
        "outputId": "defd1fe7-4161-4493-b887-0bd017bafe18"
      },
      "source": [
        "model = Sequential()\n",
        "model.add(LSTM(1, batch_input_shape=(None, 5, 1), return_sequences=True,  activation='tanh'))\n",
        "model.add(LSTM(50,  activation='tanh', return_sequences=False))\n",
        "model.add(Dropout(0.2))\n",
        "model.add(Dense(1))\n"
      ],
      "execution_count": 6,
      "outputs": [
        {
          "output_type": "stream",
          "text": [
            "WARNING:tensorflow:From /usr/local/lib/python3.6/dist-packages/keras/backend/tensorflow_backend.py:66: The name tf.get_default_graph is deprecated. Please use tf.compat.v1.get_default_graph instead.\n",
            "\n",
            "WARNING:tensorflow:From /usr/local/lib/python3.6/dist-packages/keras/backend/tensorflow_backend.py:541: The name tf.placeholder is deprecated. Please use tf.compat.v1.placeholder instead.\n",
            "\n",
            "WARNING:tensorflow:From /usr/local/lib/python3.6/dist-packages/keras/backend/tensorflow_backend.py:4432: The name tf.random_uniform is deprecated. Please use tf.random.uniform instead.\n",
            "\n",
            "WARNING:tensorflow:From /usr/local/lib/python3.6/dist-packages/keras/backend/tensorflow_backend.py:148: The name tf.placeholder_with_default is deprecated. Please use tf.compat.v1.placeholder_with_default instead.\n",
            "\n",
            "WARNING:tensorflow:From /usr/local/lib/python3.6/dist-packages/keras/backend/tensorflow_backend.py:3733: calling dropout (from tensorflow.python.ops.nn_ops) with keep_prob is deprecated and will be removed in a future version.\n",
            "Instructions for updating:\n",
            "Please use `rate` instead of `keep_prob`. Rate should be set to `rate = 1 - keep_prob`.\n"
          ],
          "name": "stdout"
        }
      ]
    },
    {
      "cell_type": "code",
      "metadata": {
        "id": "NO9-6uM87erG",
        "colab_type": "code",
        "colab": {
          "base_uri": "https://localhost:8080/",
          "height": 55
        },
        "outputId": "8e9b996d-64b8-4cb1-bc1b-5b0edcebfb7c"
      },
      "source": [
        "#model.compile(loss='categorical_crossentropy', optimizer=RMSprop(lr=0.01), metrics=['accuracy'])\n",
        "model.compile(loss='mean_absolute_error', optimizer='adam', metrics=['accuracy'])"
      ],
      "execution_count": 7,
      "outputs": [
        {
          "output_type": "stream",
          "text": [
            "WARNING:tensorflow:From /usr/local/lib/python3.6/dist-packages/keras/optimizers.py:793: The name tf.train.Optimizer is deprecated. Please use tf.compat.v1.train.Optimizer instead.\n",
            "\n"
          ],
          "name": "stdout"
        }
      ]
    },
    {
      "cell_type": "code",
      "metadata": {
        "id": "-AcaxpVK-rtS",
        "colab_type": "code",
        "outputId": "8c895dff-7853-4ded-f80b-a9f8bc86d079",
        "colab": {
          "base_uri": "https://localhost:8080/",
          "height": 319
        }
      },
      "source": [
        "model.summary()"
      ],
      "execution_count": 8,
      "outputs": [
        {
          "output_type": "stream",
          "text": [
            "Model: \"sequential_1\"\n",
            "_________________________________________________________________\n",
            "Layer (type)                 Output Shape              Param #   \n",
            "=================================================================\n",
            "lstm_1 (LSTM)                (None, 5, 1)              12        \n",
            "_________________________________________________________________\n",
            "lstm_2 (LSTM)                (None, 50)                10400     \n",
            "_________________________________________________________________\n",
            "dropout_1 (Dropout)          (None, 50)                0         \n",
            "_________________________________________________________________\n",
            "dense_1 (Dense)              (None, 1)                 51        \n",
            "=================================================================\n",
            "Total params: 10,463\n",
            "Trainable params: 10,463\n",
            "Non-trainable params: 0\n",
            "_________________________________________________________________\n"
          ],
          "name": "stdout"
        }
      ]
    },
    {
      "cell_type": "code",
      "metadata": {
        "id": "poGUATk7-ucq",
        "colab_type": "code",
        "outputId": "1a39d150-9c77-419a-8159-602de5535f93",
        "colab": {
          "base_uri": "https://localhost:8080/",
          "height": 1000
        }
      },
      "source": [
        "history = model.fit(x_train, y_train, epochs = 40, validation_data=(x_test, y_test))"
      ],
      "execution_count": 9,
      "outputs": [
        {
          "output_type": "stream",
          "text": [
            "WARNING:tensorflow:From /usr/local/lib/python3.6/dist-packages/tensorflow_core/python/ops/math_grad.py:1424: where (from tensorflow.python.ops.array_ops) is deprecated and will be removed in a future version.\n",
            "Instructions for updating:\n",
            "Use tf.where in 2.0, which has the same broadcast rule as np.where\n",
            "WARNING:tensorflow:From /usr/local/lib/python3.6/dist-packages/keras/backend/tensorflow_backend.py:1033: The name tf.assign_add is deprecated. Please use tf.compat.v1.assign_add instead.\n",
            "\n",
            "WARNING:tensorflow:From /usr/local/lib/python3.6/dist-packages/keras/backend/tensorflow_backend.py:1020: The name tf.assign is deprecated. Please use tf.compat.v1.assign instead.\n",
            "\n",
            "WARNING:tensorflow:From /usr/local/lib/python3.6/dist-packages/keras/backend/tensorflow_backend.py:3005: The name tf.Session is deprecated. Please use tf.compat.v1.Session instead.\n",
            "\n",
            "Train on 80 samples, validate on 20 samples\n",
            "Epoch 1/40\n",
            "WARNING:tensorflow:From /usr/local/lib/python3.6/dist-packages/keras/backend/tensorflow_backend.py:190: The name tf.get_default_session is deprecated. Please use tf.compat.v1.get_default_session instead.\n",
            "\n",
            "WARNING:tensorflow:From /usr/local/lib/python3.6/dist-packages/keras/backend/tensorflow_backend.py:197: The name tf.ConfigProto is deprecated. Please use tf.compat.v1.ConfigProto instead.\n",
            "\n",
            "WARNING:tensorflow:From /usr/local/lib/python3.6/dist-packages/keras/backend/tensorflow_backend.py:207: The name tf.global_variables is deprecated. Please use tf.compat.v1.global_variables instead.\n",
            "\n",
            "WARNING:tensorflow:From /usr/local/lib/python3.6/dist-packages/keras/backend/tensorflow_backend.py:216: The name tf.is_variable_initialized is deprecated. Please use tf.compat.v1.is_variable_initialized instead.\n",
            "\n",
            "WARNING:tensorflow:From /usr/local/lib/python3.6/dist-packages/keras/backend/tensorflow_backend.py:223: The name tf.variables_initializer is deprecated. Please use tf.compat.v1.variables_initializer instead.\n",
            "\n",
            "80/80 [==============================] - 2s 26ms/step - loss: 0.5522 - acc: 0.0000e+00 - val_loss: 0.4256 - val_acc: 0.0000e+00\n",
            "Epoch 2/40\n",
            "80/80 [==============================] - 0s 533us/step - loss: 0.5241 - acc: 0.0000e+00 - val_loss: 0.3967 - val_acc: 0.0000e+00\n",
            "Epoch 3/40\n",
            "80/80 [==============================] - 0s 506us/step - loss: 0.4909 - acc: 0.0000e+00 - val_loss: 0.3657 - val_acc: 0.0000e+00\n",
            "Epoch 4/40\n",
            "80/80 [==============================] - 0s 494us/step - loss: 0.4596 - acc: 0.0000e+00 - val_loss: 0.3340 - val_acc: 0.0000e+00\n",
            "Epoch 5/40\n",
            "80/80 [==============================] - 0s 507us/step - loss: 0.4251 - acc: 0.0000e+00 - val_loss: 0.2987 - val_acc: 0.0000e+00\n",
            "Epoch 6/40\n",
            "80/80 [==============================] - 0s 534us/step - loss: 0.3890 - acc: 0.0000e+00 - val_loss: 0.2603 - val_acc: 0.0000e+00\n",
            "Epoch 7/40\n",
            "80/80 [==============================] - 0s 502us/step - loss: 0.3501 - acc: 0.0000e+00 - val_loss: 0.2254 - val_acc: 0.0000e+00\n",
            "Epoch 8/40\n",
            "80/80 [==============================] - 0s 470us/step - loss: 0.3030 - acc: 0.0000e+00 - val_loss: 0.1942 - val_acc: 0.0000e+00\n",
            "Epoch 9/40\n",
            "80/80 [==============================] - 0s 649us/step - loss: 0.2614 - acc: 0.0000e+00 - val_loss: 0.1743 - val_acc: 0.0000e+00\n",
            "Epoch 10/40\n",
            "80/80 [==============================] - 0s 543us/step - loss: 0.2237 - acc: 0.0000e+00 - val_loss: 0.1717 - val_acc: 0.0500\n",
            "Epoch 11/40\n",
            "80/80 [==============================] - 0s 626us/step - loss: 0.1957 - acc: 0.0000e+00 - val_loss: 0.2025 - val_acc: 0.0500\n",
            "Epoch 12/40\n",
            "80/80 [==============================] - 0s 678us/step - loss: 0.1849 - acc: 0.0000e+00 - val_loss: 0.2486 - val_acc: 0.0500\n",
            "Epoch 13/40\n",
            "80/80 [==============================] - 0s 566us/step - loss: 0.1927 - acc: 0.0000e+00 - val_loss: 0.2653 - val_acc: 0.0500\n",
            "Epoch 14/40\n",
            "80/80 [==============================] - 0s 653us/step - loss: 0.1971 - acc: 0.0000e+00 - val_loss: 0.2440 - val_acc: 0.0500\n",
            "Epoch 15/40\n",
            "80/80 [==============================] - 0s 599us/step - loss: 0.1879 - acc: 0.0000e+00 - val_loss: 0.2044 - val_acc: 0.0500\n",
            "Epoch 16/40\n",
            "80/80 [==============================] - 0s 680us/step - loss: 0.1750 - acc: 0.0000e+00 - val_loss: 0.1742 - val_acc: 0.0500\n",
            "Epoch 17/40\n",
            "80/80 [==============================] - 0s 488us/step - loss: 0.1680 - acc: 0.0000e+00 - val_loss: 0.1587 - val_acc: 0.0500\n",
            "Epoch 18/40\n",
            "80/80 [==============================] - 0s 485us/step - loss: 0.1735 - acc: 0.0000e+00 - val_loss: 0.1506 - val_acc: 0.0500\n",
            "Epoch 19/40\n",
            "80/80 [==============================] - 0s 601us/step - loss: 0.1679 - acc: 0.0000e+00 - val_loss: 0.1472 - val_acc: 0.0500\n",
            "Epoch 20/40\n",
            "80/80 [==============================] - 0s 557us/step - loss: 0.1593 - acc: 0.0000e+00 - val_loss: 0.1478 - val_acc: 0.0500\n",
            "Epoch 21/40\n",
            "80/80 [==============================] - 0s 493us/step - loss: 0.1442 - acc: 0.0000e+00 - val_loss: 0.1530 - val_acc: 0.0500\n",
            "Epoch 22/40\n",
            "80/80 [==============================] - 0s 494us/step - loss: 0.1320 - acc: 0.0000e+00 - val_loss: 0.1628 - val_acc: 0.0500\n",
            "Epoch 23/40\n",
            "80/80 [==============================] - 0s 465us/step - loss: 0.1371 - acc: 0.0000e+00 - val_loss: 0.1643 - val_acc: 0.0500\n",
            "Epoch 24/40\n",
            "80/80 [==============================] - 0s 574us/step - loss: 0.1323 - acc: 0.0000e+00 - val_loss: 0.1446 - val_acc: 0.0500\n",
            "Epoch 25/40\n",
            "80/80 [==============================] - 0s 480us/step - loss: 0.1126 - acc: 0.0000e+00 - val_loss: 0.1234 - val_acc: 0.0500\n",
            "Epoch 26/40\n",
            "80/80 [==============================] - 0s 488us/step - loss: 0.1156 - acc: 0.0000e+00 - val_loss: 0.1098 - val_acc: 0.0500\n",
            "Epoch 27/40\n",
            "80/80 [==============================] - 0s 471us/step - loss: 0.1180 - acc: 0.0000e+00 - val_loss: 0.1015 - val_acc: 0.0500\n",
            "Epoch 28/40\n",
            "80/80 [==============================] - 0s 474us/step - loss: 0.1019 - acc: 0.0000e+00 - val_loss: 0.0939 - val_acc: 0.0500\n",
            "Epoch 29/40\n",
            "80/80 [==============================] - 0s 524us/step - loss: 0.0891 - acc: 0.0000e+00 - val_loss: 0.0880 - val_acc: 0.0500\n",
            "Epoch 30/40\n",
            "80/80 [==============================] - 0s 507us/step - loss: 0.0844 - acc: 0.0000e+00 - val_loss: 0.0778 - val_acc: 0.0500\n",
            "Epoch 31/40\n",
            "80/80 [==============================] - 0s 555us/step - loss: 0.0716 - acc: 0.0000e+00 - val_loss: 0.0636 - val_acc: 0.0500\n",
            "Epoch 32/40\n",
            "80/80 [==============================] - 0s 501us/step - loss: 0.0637 - acc: 0.0000e+00 - val_loss: 0.0460 - val_acc: 0.0500\n",
            "Epoch 33/40\n",
            "80/80 [==============================] - 0s 521us/step - loss: 0.0587 - acc: 0.0000e+00 - val_loss: 0.0280 - val_acc: 0.0500\n",
            "Epoch 34/40\n",
            "80/80 [==============================] - 0s 560us/step - loss: 0.0423 - acc: 0.0000e+00 - val_loss: 0.0154 - val_acc: 0.0500\n",
            "Epoch 35/40\n",
            "80/80 [==============================] - 0s 518us/step - loss: 0.0387 - acc: 0.0000e+00 - val_loss: 0.0132 - val_acc: 0.0500\n",
            "Epoch 36/40\n",
            "80/80 [==============================] - 0s 524us/step - loss: 0.0403 - acc: 0.0000e+00 - val_loss: 0.0189 - val_acc: 0.0500\n",
            "Epoch 37/40\n",
            "80/80 [==============================] - 0s 478us/step - loss: 0.0420 - acc: 0.0000e+00 - val_loss: 0.0157 - val_acc: 0.0500\n",
            "Epoch 38/40\n",
            "80/80 [==============================] - 0s 553us/step - loss: 0.0404 - acc: 0.0000e+00 - val_loss: 0.0122 - val_acc: 0.0500\n",
            "Epoch 39/40\n",
            "80/80 [==============================] - 0s 473us/step - loss: 0.0383 - acc: 0.0000e+00 - val_loss: 0.0086 - val_acc: 0.0500\n",
            "Epoch 40/40\n",
            "80/80 [==============================] - 0s 547us/step - loss: 0.0335 - acc: 0.0000e+00 - val_loss: 0.0127 - val_acc: 0.0500\n"
          ],
          "name": "stdout"
        }
      ]
    },
    {
      "cell_type": "code",
      "metadata": {
        "id": "2hDyxx9T_FU7",
        "colab_type": "code",
        "colab": {}
      },
      "source": [
        "results = model.predict(x_test)\n"
      ],
      "execution_count": 0,
      "outputs": []
    },
    {
      "cell_type": "code",
      "metadata": {
        "id": "cJ0oSQTJXx5a",
        "colab_type": "code",
        "colab": {
          "base_uri": "https://localhost:8080/",
          "height": 36
        },
        "outputId": "32e1b92e-ab1d-43de-e61f-f2cb7d8e4b4f"
      },
      "source": [
        "x = np.array([[[0.21],\n",
        "       [0.22],\n",
        "       [0.23],\n",
        "       [0.24],\n",
        "       [0.25]]])\n",
        "\n",
        "\n",
        "results2 = model.predict(x)\n",
        "\n",
        "results2"
      ],
      "execution_count": 11,
      "outputs": [
        {
          "output_type": "execute_result",
          "data": {
            "text/plain": [
              "array([[0.24420048]], dtype=float32)"
            ]
          },
          "metadata": {
            "tags": []
          },
          "execution_count": 11
        }
      ]
    },
    {
      "cell_type": "code",
      "metadata": {
        "id": "WBQxlNfpOeHB",
        "colab_type": "code",
        "colab": {}
      },
      "source": [
        ""
      ],
      "execution_count": 0,
      "outputs": []
    },
    {
      "cell_type": "code",
      "metadata": {
        "id": "AL2MrYF1_azo",
        "colab_type": "code",
        "outputId": "ae05735f-40ae-4cbe-8215-4faa033c5495",
        "colab": {
          "base_uri": "https://localhost:8080/",
          "height": 269
        }
      },
      "source": [
        "plt.scatter(range(20), results, c= 'r')\n",
        "plt.scatter(range(20), y_test, c= 'g')\n",
        "plt.show()"
      ],
      "execution_count": 12,
      "outputs": [
        {
          "output_type": "display_data",
          "data": {
            "image/png": "[encoded data removed]",
            "text/plain": [
              "<Figure size 432x288 with 1 Axes>"
            ]
          },
          "metadata": {
            "tags": []
          }
        }
      ]
    },
    {
      "cell_type": "code",
      "metadata": {
        "id": "EZDehtSC_tQV",
        "colab_type": "code",
        "outputId": "35f8050e-3fe1-4161-b98f-b8206a75d7a3",
        "colab": {
          "base_uri": "https://localhost:8080/",
          "height": 269
        }
      },
      "source": [
        "plt.plot(history.history['loss'])\n",
        "plt.show()"
      ],
      "execution_count": 12,
      "outputs": [
        {
          "output_type": "display_data",
          "data": {
            "image/png": "[encoded data removed]",
            "text/plain": [
              "<Figure size 432x288 with 1 Axes>"
            ]
          },
          "metadata": {
            "tags": []
          }
        }
      ]
    },
    {
      "cell_type": "code",
      "metadata": {
        "id": "3LZS5Ed7_4EL",
        "colab_type": "code",
        "colab": {}
      },
      "source": [
        ""
      ],
      "execution_count": 0,
      "outputs": []
    }
  ]
}