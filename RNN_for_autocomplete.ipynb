{
  "nbformat": 4,
  "nbformat_minor": 0,
  "metadata": {
    "colab": {
      "name": "RNN for autocomplete",
      "provenance": [],
      "collapsed_sections": [],
      "include_colab_link": true
    },
    "kernelspec": {
      "name": "python3",
      "display_name": "Python 3"
    }
  },
  "cells": [
    {
      "cell_type": "markdown",
      "metadata": {
        "id": "view-in-github",
        "colab_type": "text"
      },
      "source": [
        "<a href=\"https://colab.research.google.com/github/babakansari/DeepLearning/blob/master/RNN_for_autocomplete.ipynb\" target=\"_parent\"><img src=\"https://colab.research.google.com/assets/colab-badge.svg\" alt=\"Open In Colab\"/></a>"
      ]
    },
    {
      "cell_type": "markdown",
      "metadata": {
        "id": "uH5j71wmaqwY",
        "colab_type": "text"
      },
      "source": [
        "# Recurrent Neural-network experiment for Auto Complete - Babak Ansari-Jaberi"
      ]
    },
    {
      "cell_type": "markdown",
      "metadata": {
        "id": "EmyYbcxwACQY",
        "colab_type": "text"
      },
      "source": [
        "https://www.youtube.com/watch?v=iMIWee_PXl8"
      ]
    },
    {
      "cell_type": "code",
      "metadata": {
        "id": "_VUWg0oGa6m2",
        "colab_type": "code",
        "colab": {}
      },
      "source": [
        "from keras.models import Sequential\n",
        "from keras.layers import Dense, Flatten, Activation, Dropout, LSTM\n",
        "import numpy as np\n",
        "from sklearn.model_selection import train_test_split\n",
        "import matplotlib.pyplot as plt"
      ],
      "execution_count": 0,
      "outputs": []
    },
    {
      "cell_type": "code",
      "metadata": {
        "id": "E5_vr4Kl5EMw",
        "colab_type": "code",
        "colab": {}
      },
      "source": [
        "Data = [[[(i+j)/100] for i in range(5)] for j in range (100)]\n",
        "Target = [(i+5)/100 for i in range(100)]\n"
      ],
      "execution_count": 0,
      "outputs": []
    },
    {
      "cell_type": "code",
      "metadata": {
        "id": "01cT6vzY5mP4",
        "colab_type": "code",
        "colab": {}
      },
      "source": [
        "data = np.array(Data, dtype=float)\n",
        "target = np.array(Target, dtype=float)\n",
        "data\n"
      ],
      "execution_count": 0,
      "outputs": []
    },
    {
      "cell_type": "code",
      "metadata": {
        "id": "1iVgjd_Z54WW",
        "colab_type": "code",
        "colab": {}
      },
      "source": [
        "x_train, x_test, y_train, y_test = train_test_split(data, target, test_size=0.2, random_state = 4 )"
      ],
      "execution_count": 0,
      "outputs": []
    },
    {
      "cell_type": "code",
      "metadata": {
        "id": "8iqzkoIua-gm",
        "colab_type": "code",
        "colab": {}
      },
      "source": [
        "model = Sequential()\n",
        "model.add(LSTM(1, batch_input_shape=(None, 5, 1), return_sequences=True,  activation='tanh'))\n",
        "model.add(LSTM(50,  activation='tanh', return_sequences=False))\n",
        "model.add(Dense(1))\n"
      ],
      "execution_count": 0,
      "outputs": []
    },
    {
      "cell_type": "code",
      "metadata": {
        "id": "NO9-6uM87erG",
        "colab_type": "code",
        "colab": {}
      },
      "source": [
        "#model.compile(loss='categorical_crossentropy', optimizer=RMSprop(lr=0.01), metrics=['accuracy'])\n",
        "model.compile(loss='mean_absolute_error', optimizer='adam', metrics=['accuracy'])"
      ],
      "execution_count": 0,
      "outputs": []
    },
    {
      "cell_type": "code",
      "metadata": {
        "id": "-AcaxpVK-rtS",
        "colab_type": "code",
        "outputId": "d27a664e-b974-43da-c062-c5becdd6fa40",
        "colab": {
          "base_uri": "https://localhost:8080/",
          "height": 281
        }
      },
      "source": [
        "model.summary()"
      ],
      "execution_count": 72,
      "outputs": [
        {
          "output_type": "stream",
          "text": [
            "Model: \"sequential_14\"\n",
            "_________________________________________________________________\n",
            "Layer (type)                 Output Shape              Param #   \n",
            "=================================================================\n",
            "lstm_33 (LSTM)               (None, 5, 1)              12        \n",
            "_________________________________________________________________\n",
            "lstm_34 (LSTM)               (None, 50)                10400     \n",
            "_________________________________________________________________\n",
            "dense_10 (Dense)             (None, 1)                 51        \n",
            "=================================================================\n",
            "Total params: 10,463\n",
            "Trainable params: 10,463\n",
            "Non-trainable params: 0\n",
            "_________________________________________________________________\n"
          ],
          "name": "stdout"
        }
      ]
    },
    {
      "cell_type": "code",
      "metadata": {
        "id": "poGUATk7-ucq",
        "colab_type": "code",
        "outputId": "62446cc5-0786-4139-912b-92173db086f3",
        "colab": {
          "base_uri": "https://localhost:8080/",
          "height": 1000
        }
      },
      "source": [
        "history = model.fit(x_train, y_train, epochs = 40, validation_data=(x_test, y_test))"
      ],
      "execution_count": 73,
      "outputs": [
        {
          "output_type": "stream",
          "text": [
            "Train on 80 samples, validate on 20 samples\n",
            "Epoch 1/40\n",
            "80/80 [==============================] - 4s 48ms/step - loss: 0.5640 - acc: 0.0000e+00 - val_loss: 0.4323 - val_acc: 0.0000e+00\n",
            "Epoch 2/40\n",
            "80/80 [==============================] - 0s 457us/step - loss: 0.5324 - acc: 0.0000e+00 - val_loss: 0.4015 - val_acc: 0.0000e+00\n",
            "Epoch 3/40\n",
            "80/80 [==============================] - 0s 386us/step - loss: 0.4991 - acc: 0.0000e+00 - val_loss: 0.3690 - val_acc: 0.0000e+00\n",
            "Epoch 4/40\n",
            "80/80 [==============================] - 0s 377us/step - loss: 0.4643 - acc: 0.0000e+00 - val_loss: 0.3360 - val_acc: 0.0000e+00\n",
            "Epoch 5/40\n",
            "80/80 [==============================] - 0s 417us/step - loss: 0.4293 - acc: 0.0000e+00 - val_loss: 0.2992 - val_acc: 0.0000e+00\n",
            "Epoch 6/40\n",
            "80/80 [==============================] - 0s 473us/step - loss: 0.3920 - acc: 0.0000e+00 - val_loss: 0.2606 - val_acc: 0.0000e+00\n",
            "Epoch 7/40\n",
            "80/80 [==============================] - 0s 393us/step - loss: 0.3508 - acc: 0.0000e+00 - val_loss: 0.2267 - val_acc: 0.0000e+00\n",
            "Epoch 8/40\n",
            "80/80 [==============================] - 0s 398us/step - loss: 0.3079 - acc: 0.0000e+00 - val_loss: 0.1951 - val_acc: 0.0000e+00\n",
            "Epoch 9/40\n",
            "80/80 [==============================] - 0s 432us/step - loss: 0.2639 - acc: 0.0000e+00 - val_loss: 0.1745 - val_acc: 0.0500\n",
            "Epoch 10/40\n",
            "80/80 [==============================] - 0s 404us/step - loss: 0.2174 - acc: 0.0000e+00 - val_loss: 0.1696 - val_acc: 0.0500\n",
            "Epoch 11/40\n",
            "80/80 [==============================] - 0s 439us/step - loss: 0.1822 - acc: 0.0000e+00 - val_loss: 0.1971 - val_acc: 0.0500\n",
            "Epoch 12/40\n",
            "80/80 [==============================] - 0s 456us/step - loss: 0.1705 - acc: 0.0000e+00 - val_loss: 0.2428 - val_acc: 0.0500\n",
            "Epoch 13/40\n",
            "80/80 [==============================] - 0s 390us/step - loss: 0.1775 - acc: 0.0000e+00 - val_loss: 0.2531 - val_acc: 0.0500\n",
            "Epoch 14/40\n",
            "80/80 [==============================] - 0s 419us/step - loss: 0.1791 - acc: 0.0000e+00 - val_loss: 0.2292 - val_acc: 0.0500\n",
            "Epoch 15/40\n",
            "80/80 [==============================] - 0s 465us/step - loss: 0.1614 - acc: 0.0000e+00 - val_loss: 0.1951 - val_acc: 0.0500\n",
            "Epoch 16/40\n",
            "80/80 [==============================] - 0s 418us/step - loss: 0.1500 - acc: 0.0000e+00 - val_loss: 0.1705 - val_acc: 0.0500\n",
            "Epoch 17/40\n",
            "80/80 [==============================] - 0s 391us/step - loss: 0.1450 - acc: 0.0000e+00 - val_loss: 0.1558 - val_acc: 0.0500\n",
            "Epoch 18/40\n",
            "80/80 [==============================] - 0s 433us/step - loss: 0.1418 - acc: 0.0000e+00 - val_loss: 0.1473 - val_acc: 0.0500\n",
            "Epoch 19/40\n",
            "80/80 [==============================] - 0s 395us/step - loss: 0.1354 - acc: 0.0000e+00 - val_loss: 0.1444 - val_acc: 0.0500\n",
            "Epoch 20/40\n",
            "80/80 [==============================] - 0s 413us/step - loss: 0.1267 - acc: 0.0000e+00 - val_loss: 0.1485 - val_acc: 0.0500\n",
            "Epoch 21/40\n",
            "80/80 [==============================] - 0s 427us/step - loss: 0.1158 - acc: 0.0000e+00 - val_loss: 0.1477 - val_acc: 0.0500\n",
            "Epoch 22/40\n",
            "80/80 [==============================] - 0s 393us/step - loss: 0.1079 - acc: 0.0000e+00 - val_loss: 0.1420 - val_acc: 0.0500\n",
            "Epoch 23/40\n",
            "80/80 [==============================] - 0s 406us/step - loss: 0.1007 - acc: 0.0000e+00 - val_loss: 0.1281 - val_acc: 0.0500\n",
            "Epoch 24/40\n",
            "80/80 [==============================] - 0s 385us/step - loss: 0.0901 - acc: 0.0000e+00 - val_loss: 0.1091 - val_acc: 0.0500\n",
            "Epoch 25/40\n",
            "80/80 [==============================] - 0s 455us/step - loss: 0.0785 - acc: 0.0000e+00 - val_loss: 0.0903 - val_acc: 0.0500\n",
            "Epoch 26/40\n",
            "80/80 [==============================] - 0s 403us/step - loss: 0.0666 - acc: 0.0000e+00 - val_loss: 0.0774 - val_acc: 0.0500\n",
            "Epoch 27/40\n",
            "80/80 [==============================] - 0s 390us/step - loss: 0.0535 - acc: 0.0000e+00 - val_loss: 0.0627 - val_acc: 0.0500\n",
            "Epoch 28/40\n",
            "80/80 [==============================] - 0s 419us/step - loss: 0.0404 - acc: 0.0000e+00 - val_loss: 0.0398 - val_acc: 0.0500\n",
            "Epoch 29/40\n",
            "80/80 [==============================] - 0s 474us/step - loss: 0.0331 - acc: 0.0000e+00 - val_loss: 0.0375 - val_acc: 0.0500\n",
            "Epoch 30/40\n",
            "80/80 [==============================] - 0s 401us/step - loss: 0.0283 - acc: 0.0000e+00 - val_loss: 0.0310 - val_acc: 0.0500\n",
            "Epoch 31/40\n",
            "80/80 [==============================] - 0s 458us/step - loss: 0.0278 - acc: 0.0000e+00 - val_loss: 0.0310 - val_acc: 0.0500\n",
            "Epoch 32/40\n",
            "80/80 [==============================] - 0s 381us/step - loss: 0.0276 - acc: 0.0000e+00 - val_loss: 0.0318 - val_acc: 0.0500\n",
            "Epoch 33/40\n",
            "80/80 [==============================] - 0s 521us/step - loss: 0.0289 - acc: 0.0000e+00 - val_loss: 0.0331 - val_acc: 0.0500\n",
            "Epoch 34/40\n",
            "80/80 [==============================] - 0s 373us/step - loss: 0.0304 - acc: 0.0000e+00 - val_loss: 0.0340 - val_acc: 0.0500\n",
            "Epoch 35/40\n",
            "80/80 [==============================] - 0s 411us/step - loss: 0.0286 - acc: 0.0000e+00 - val_loss: 0.0310 - val_acc: 0.0500\n",
            "Epoch 36/40\n",
            "80/80 [==============================] - 0s 383us/step - loss: 0.0302 - acc: 0.0000e+00 - val_loss: 0.0302 - val_acc: 0.0500\n",
            "Epoch 37/40\n",
            "80/80 [==============================] - 0s 431us/step - loss: 0.0263 - acc: 0.0000e+00 - val_loss: 0.0298 - val_acc: 0.0500\n",
            "Epoch 38/40\n",
            "80/80 [==============================] - 0s 409us/step - loss: 0.0296 - acc: 0.0000e+00 - val_loss: 0.0285 - val_acc: 0.0500\n",
            "Epoch 39/40\n",
            "80/80 [==============================] - 0s 410us/step - loss: 0.0257 - acc: 0.0000e+00 - val_loss: 0.0313 - val_acc: 0.0500\n",
            "Epoch 40/40\n",
            "80/80 [==============================] - 0s 469us/step - loss: 0.0265 - acc: 0.0000e+00 - val_loss: 0.0280 - val_acc: 0.0500\n"
          ],
          "name": "stdout"
        }
      ]
    },
    {
      "cell_type": "code",
      "metadata": {
        "id": "2hDyxx9T_FU7",
        "colab_type": "code",
        "colab": {}
      },
      "source": [
        "results = model.predict(x_test)"
      ],
      "execution_count": 0,
      "outputs": []
    },
    {
      "cell_type": "code",
      "metadata": {
        "id": "AL2MrYF1_azo",
        "colab_type": "code",
        "outputId": "4f2f2090-cdda-41ed-b02e-d3597b9541a2",
        "colab": {
          "base_uri": "https://localhost:8080/",
          "height": 269
        }
      },
      "source": [
        "plt.scatter(range(20), results, c= 'r')\n",
        "plt.scatter(range(20), y_test, c= 'g')\n",
        "plt.show()"
      ],
      "execution_count": 75,
      "outputs": [
        {
          "output_type": "display_data",
          "data": {
            "image/png": "[encoded data removed]",
            "text/plain": [
              "<Figure size 432x288 with 1 Axes>"
            ]
          },
          "metadata": {
            "tags": []
          }
        }
      ]
    },
    {
      "cell_type": "code",
      "metadata": {
        "id": "EZDehtSC_tQV",
        "colab_type": "code",
        "outputId": "823bc133-c860-409b-f798-8210b3fd6262",
        "colab": {
          "base_uri": "https://localhost:8080/",
          "height": 269
        }
      },
      "source": [
        "plt.plot(history.history['loss'])\n",
        "plt.show()"
      ],
      "execution_count": 56,
      "outputs": [
        {
          "output_type": "display_data",
          "data": {
            "image/png": "[encoded data removed]",
            "text/plain": [
              "<Figure size 432x288 with 1 Axes>"
            ]
          },
          "metadata": {
            "tags": []
          }
        }
      ]
    },
    {
      "cell_type": "code",
      "metadata": {
        "id": "3LZS5Ed7_4EL",
        "colab_type": "code",
        "colab": {}
      },
      "source": [
        ""
      ],
      "execution_count": 0,
      "outputs": []
    }
  ]
}