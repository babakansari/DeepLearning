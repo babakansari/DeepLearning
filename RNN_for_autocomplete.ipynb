{
  "nbformat": 4,
  "nbformat_minor": 0,
  "metadata": {
    "colab": {
      "name": "RNN for autocomplete",
      "provenance": [],
      "collapsed_sections": [],
      "include_colab_link": true
    },
    "kernelspec": {
      "name": "python3",
      "display_name": "Python 3"
    }
  },
  "cells": [
    {
      "cell_type": "markdown",
      "metadata": {
        "id": "view-in-github",
        "colab_type": "text"
      },
      "source": [
        "<a href=\"https://colab.research.google.com/github/babakansari/DeepLearning/blob/master/RNN_for_autocomplete.ipynb\" target=\"_parent\"><img src=\"https://colab.research.google.com/assets/colab-badge.svg\" alt=\"Open In Colab\"/></a>"
      ]
    },
    {
      "cell_type": "markdown",
      "metadata": {
        "id": "uH5j71wmaqwY",
        "colab_type": "text"
      },
      "source": [
        "# Recurrent Neural-network experiment for Auto Complete - Babak Ansari-Jaberi"
      ]
    },
    {
      "cell_type": "markdown",
      "metadata": {
        "id": "EmyYbcxwACQY",
        "colab_type": "text"
      },
      "source": [
        "https://www.youtube.com/watch?v=iMIWee_PXl8"
      ]
    },
    {
      "cell_type": "code",
      "metadata": {
        "id": "_VUWg0oGa6m2",
        "colab_type": "code",
        "colab": {}
      },
      "source": [
        "from keras.models import Sequential\n",
        "from keras.layers import Dense\n",
        "from keras.layers import LSTM\n",
        "import numpy as np\n",
        "from sklearn.model_selection import train_test_split\n",
        "import matplotlib.pyplot as plt"
      ],
      "execution_count": 0,
      "outputs": []
    },
    {
      "cell_type": "code",
      "metadata": {
        "id": "E5_vr4Kl5EMw",
        "colab_type": "code",
        "colab": {}
      },
      "source": [
        "Data = [[[(i+j)/100] for i in range(5)] for j in range (100)]\n",
        "Target = [(i+5)/100 for i in range(100)]\n"
      ],
      "execution_count": 0,
      "outputs": []
    },
    {
      "cell_type": "code",
      "metadata": {
        "id": "01cT6vzY5mP4",
        "colab_type": "code",
        "colab": {}
      },
      "source": [
        "data = np.array(Data, dtype=float)\n",
        "target = np.array(Target, dtype=float)"
      ],
      "execution_count": 0,
      "outputs": []
    },
    {
      "cell_type": "code",
      "metadata": {
        "id": "1iVgjd_Z54WW",
        "colab_type": "code",
        "colab": {}
      },
      "source": [
        "x_train, x_test, y_train, y_test = train_test_split(data, target, test_size=0.2, random_state = 4 )"
      ],
      "execution_count": 0,
      "outputs": []
    },
    {
      "cell_type": "code",
      "metadata": {
        "id": "8iqzkoIua-gm",
        "colab_type": "code",
        "colab": {}
      },
      "source": [
        "model = Sequential()\n",
        "model.add(LSTM(1, batch_input_shape=(None, 5, 1), return_sequences=True,  activation='tanh'))\n",
        "model.add(LSTM(50,  activation='tanh', return_sequences=False))\n",
        "model.add(Dense(1))"
      ],
      "execution_count": 0,
      "outputs": []
    },
    {
      "cell_type": "code",
      "metadata": {
        "id": "NO9-6uM87erG",
        "colab_type": "code",
        "colab": {}
      },
      "source": [
        "#model.compile(loss='categorical_crossentropy', optimizer=RMSprop(lr=0.01), metrics=['accuracy'])\n",
        "model.compile(loss='mean_absolute_error', optimizer='adam', metrics=['accuracy'])"
      ],
      "execution_count": 0,
      "outputs": []
    },
    {
      "cell_type": "code",
      "metadata": {
        "id": "-AcaxpVK-rtS",
        "colab_type": "code",
        "outputId": "b218e236-e1fa-47ef-8dda-c71ba1d470bc",
        "colab": {
          "base_uri": "https://localhost:8080/",
          "height": 281
        }
      },
      "source": [
        "model.summary()"
      ],
      "execution_count": 23,
      "outputs": [
        {
          "output_type": "stream",
          "text": [
            "Model: \"sequential_2\"\n",
            "_________________________________________________________________\n",
            "Layer (type)                 Output Shape              Param #   \n",
            "=================================================================\n",
            "lstm_3 (LSTM)                (None, 5, 1)              12        \n",
            "_________________________________________________________________\n",
            "lstm_4 (LSTM)                (None, 50)                10400     \n",
            "_________________________________________________________________\n",
            "dense_2 (Dense)              (None, 1)                 51        \n",
            "=================================================================\n",
            "Total params: 10,463\n",
            "Trainable params: 10,463\n",
            "Non-trainable params: 0\n",
            "_________________________________________________________________\n"
          ],
          "name": "stdout"
        }
      ]
    },
    {
      "cell_type": "code",
      "metadata": {
        "id": "poGUATk7-ucq",
        "colab_type": "code",
        "outputId": "4e16bc63-d911-4def-87dc-c61fe62f7801",
        "colab": {
          "base_uri": "https://localhost:8080/",
          "height": 1000
        }
      },
      "source": [
        "history = model.fit(x_train, y_train, epochs = 40, validation_data=(x_test, y_test))"
      ],
      "execution_count": 24,
      "outputs": [
        {
          "output_type": "stream",
          "text": [
            "Train on 80 samples, validate on 20 samples\n",
            "Epoch 1/40\n",
            "80/80 [==============================] - 2s 24ms/step - loss: 0.5578 - acc: 0.0000e+00 - val_loss: 0.4318 - val_acc: 0.0000e+00\n",
            "Epoch 2/40\n",
            "80/80 [==============================] - 0s 500us/step - loss: 0.5326 - acc: 0.0000e+00 - val_loss: 0.4068 - val_acc: 0.0000e+00\n",
            "Epoch 3/40\n",
            "80/80 [==============================] - 0s 437us/step - loss: 0.5056 - acc: 0.0000e+00 - val_loss: 0.3793 - val_acc: 0.0000e+00\n",
            "Epoch 4/40\n",
            "80/80 [==============================] - 0s 474us/step - loss: 0.4763 - acc: 0.0000e+00 - val_loss: 0.3504 - val_acc: 0.0000e+00\n",
            "Epoch 5/40\n",
            "80/80 [==============================] - 0s 464us/step - loss: 0.4455 - acc: 0.0000e+00 - val_loss: 0.3176 - val_acc: 0.0000e+00\n",
            "Epoch 6/40\n",
            "80/80 [==============================] - 0s 481us/step - loss: 0.4115 - acc: 0.0000e+00 - val_loss: 0.2805 - val_acc: 0.0000e+00\n",
            "Epoch 7/40\n",
            "80/80 [==============================] - 0s 495us/step - loss: 0.3737 - acc: 0.0000e+00 - val_loss: 0.2446 - val_acc: 0.0000e+00\n",
            "Epoch 8/40\n",
            "80/80 [==============================] - 0s 503us/step - loss: 0.3331 - acc: 0.0000e+00 - val_loss: 0.2128 - val_acc: 0.0000e+00\n",
            "Epoch 9/40\n",
            "80/80 [==============================] - 0s 608us/step - loss: 0.2922 - acc: 0.0000e+00 - val_loss: 0.1892 - val_acc: 0.0000e+00\n",
            "Epoch 10/40\n",
            "80/80 [==============================] - 0s 454us/step - loss: 0.2497 - acc: 0.0000e+00 - val_loss: 0.1799 - val_acc: 0.0500\n",
            "Epoch 11/40\n",
            "80/80 [==============================] - 0s 619us/step - loss: 0.2067 - acc: 0.0000e+00 - val_loss: 0.1958 - val_acc: 0.0500\n",
            "Epoch 12/40\n",
            "80/80 [==============================] - 0s 544us/step - loss: 0.1841 - acc: 0.0000e+00 - val_loss: 0.2377 - val_acc: 0.0500\n",
            "Epoch 13/40\n",
            "80/80 [==============================] - 0s 602us/step - loss: 0.1920 - acc: 0.0000e+00 - val_loss: 0.2737 - val_acc: 0.0500\n",
            "Epoch 14/40\n",
            "80/80 [==============================] - 0s 449us/step - loss: 0.1953 - acc: 0.0000e+00 - val_loss: 0.2597 - val_acc: 0.0500\n",
            "Epoch 15/40\n",
            "80/80 [==============================] - 0s 513us/step - loss: 0.1826 - acc: 0.0000e+00 - val_loss: 0.2231 - val_acc: 0.0500\n",
            "Epoch 16/40\n",
            "80/80 [==============================] - 0s 465us/step - loss: 0.1687 - acc: 0.0000e+00 - val_loss: 0.1942 - val_acc: 0.0500\n",
            "Epoch 17/40\n",
            "80/80 [==============================] - 0s 453us/step - loss: 0.1651 - acc: 0.0000e+00 - val_loss: 0.1771 - val_acc: 0.0500\n",
            "Epoch 18/40\n",
            "80/80 [==============================] - 0s 449us/step - loss: 0.1630 - acc: 0.0000e+00 - val_loss: 0.1696 - val_acc: 0.0500\n",
            "Epoch 19/40\n",
            "80/80 [==============================] - 0s 530us/step - loss: 0.1569 - acc: 0.0000e+00 - val_loss: 0.1671 - val_acc: 0.0500\n",
            "Epoch 20/40\n",
            "80/80 [==============================] - 0s 544us/step - loss: 0.1497 - acc: 0.0000e+00 - val_loss: 0.1742 - val_acc: 0.0500\n",
            "Epoch 21/40\n",
            "80/80 [==============================] - 0s 504us/step - loss: 0.1393 - acc: 0.0000e+00 - val_loss: 0.1781 - val_acc: 0.0500\n",
            "Epoch 22/40\n",
            "80/80 [==============================] - 0s 445us/step - loss: 0.1334 - acc: 0.0000e+00 - val_loss: 0.1749 - val_acc: 0.0500\n",
            "Epoch 23/40\n",
            "80/80 [==============================] - 0s 434us/step - loss: 0.1251 - acc: 0.0000e+00 - val_loss: 0.1548 - val_acc: 0.0500\n",
            "Epoch 24/40\n",
            "80/80 [==============================] - 0s 472us/step - loss: 0.1153 - acc: 0.0000e+00 - val_loss: 0.1344 - val_acc: 0.0500\n",
            "Epoch 25/40\n",
            "80/80 [==============================] - 0s 536us/step - loss: 0.1076 - acc: 0.0000e+00 - val_loss: 0.1214 - val_acc: 0.0500\n",
            "Epoch 26/40\n",
            "80/80 [==============================] - 0s 427us/step - loss: 0.0964 - acc: 0.0000e+00 - val_loss: 0.1180 - val_acc: 0.0500\n",
            "Epoch 27/40\n",
            "80/80 [==============================] - 0s 481us/step - loss: 0.0839 - acc: 0.0000e+00 - val_loss: 0.1117 - val_acc: 0.0500\n",
            "Epoch 28/40\n",
            "80/80 [==============================] - 0s 523us/step - loss: 0.0738 - acc: 0.0000e+00 - val_loss: 0.0833 - val_acc: 0.0500\n",
            "Epoch 29/40\n",
            "80/80 [==============================] - 0s 442us/step - loss: 0.0628 - acc: 0.0000e+00 - val_loss: 0.0644 - val_acc: 0.0500\n",
            "Epoch 30/40\n",
            "80/80 [==============================] - 0s 520us/step - loss: 0.0521 - acc: 0.0000e+00 - val_loss: 0.0634 - val_acc: 0.0500\n",
            "Epoch 31/40\n",
            "80/80 [==============================] - 0s 505us/step - loss: 0.0444 - acc: 0.0000e+00 - val_loss: 0.0482 - val_acc: 0.0500\n",
            "Epoch 32/40\n",
            "80/80 [==============================] - 0s 494us/step - loss: 0.0407 - acc: 0.0000e+00 - val_loss: 0.0457 - val_acc: 0.0500\n",
            "Epoch 33/40\n",
            "80/80 [==============================] - 0s 525us/step - loss: 0.0376 - acc: 0.0000e+00 - val_loss: 0.0452 - val_acc: 0.0500\n",
            "Epoch 34/40\n",
            "80/80 [==============================] - 0s 468us/step - loss: 0.0380 - acc: 0.0000e+00 - val_loss: 0.0441 - val_acc: 0.0500\n",
            "Epoch 35/40\n",
            "80/80 [==============================] - 0s 524us/step - loss: 0.0376 - acc: 0.0000e+00 - val_loss: 0.0443 - val_acc: 0.0500\n",
            "Epoch 36/40\n",
            "80/80 [==============================] - 0s 532us/step - loss: 0.0381 - acc: 0.0000e+00 - val_loss: 0.0436 - val_acc: 0.0500\n",
            "Epoch 37/40\n",
            "80/80 [==============================] - 0s 543us/step - loss: 0.0387 - acc: 0.0000e+00 - val_loss: 0.0438 - val_acc: 0.0500\n",
            "Epoch 38/40\n",
            "80/80 [==============================] - 0s 485us/step - loss: 0.0387 - acc: 0.0000e+00 - val_loss: 0.0434 - val_acc: 0.0500\n",
            "Epoch 39/40\n",
            "80/80 [==============================] - 0s 455us/step - loss: 0.0392 - acc: 0.0000e+00 - val_loss: 0.0452 - val_acc: 0.0500\n",
            "Epoch 40/40\n",
            "80/80 [==============================] - 0s 532us/step - loss: 0.0385 - acc: 0.0000e+00 - val_loss: 0.0418 - val_acc: 0.0500\n"
          ],
          "name": "stdout"
        }
      ]
    },
    {
      "cell_type": "code",
      "metadata": {
        "id": "2hDyxx9T_FU7",
        "colab_type": "code",
        "colab": {}
      },
      "source": [
        "results = model.predict(x_test)"
      ],
      "execution_count": 0,
      "outputs": []
    },
    {
      "cell_type": "code",
      "metadata": {
        "id": "AL2MrYF1_azo",
        "colab_type": "code",
        "outputId": "e4d64c5d-ecb2-4c45-cd61-497857f30616",
        "colab": {
          "base_uri": "https://localhost:8080/",
          "height": 269
        }
      },
      "source": [
        "plt.scatter(range(20), results, c= 'r')\n",
        "plt.scatter(range(20), y_test, c= 'g')\n",
        "plt.show()"
      ],
      "execution_count": 26,
      "outputs": [
        {
          "output_type": "display_data",
          "data": {
            "image/png": "[encoded data removed]",
            "text/plain": [
              "<Figure size 432x288 with 1 Axes>"
            ]
          },
          "metadata": {
            "tags": []
          }
        }
      ]
    },
    {
      "cell_type": "code",
      "metadata": {
        "id": "EZDehtSC_tQV",
        "colab_type": "code",
        "outputId": "cfd065b7-ba24-4871-b897-21b1e34fba36",
        "colab": {
          "base_uri": "https://localhost:8080/",
          "height": 269
        }
      },
      "source": [
        "plt.plot(history.history['loss'])\n",
        "plt.show()"
      ],
      "execution_count": 27,
      "outputs": [
        {
          "output_type": "display_data",
          "data": {
            "image/png": "[encoded data removed]",
            "text/plain": [
              "<Figure size 432x288 with 1 Axes>"
            ]
          },
          "metadata": {
            "tags": []
          }
        }
      ]
    },
    {
      "cell_type": "code",
      "metadata": {
        "id": "3LZS5Ed7_4EL",
        "colab_type": "code",
        "colab": {}
      },
      "source": [
        ""
      ],
      "execution_count": 0,
      "outputs": []
    }
  ]
}